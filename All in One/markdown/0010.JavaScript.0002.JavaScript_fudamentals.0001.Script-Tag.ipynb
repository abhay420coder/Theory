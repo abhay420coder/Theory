{
 "cells": [
  {
   "cell_type": "markdown",
   "metadata": {},
   "source": [
    "# The “script” tag\n",
    "\n",
    "* JavaScript programs can be inserted almost anywhere into an HTML document using the `<script>` tag.\n",
    "  \n",
    "    ```html\n",
    "        <!DOCTYPE HTML>\n",
    "        <html>\n",
    "\n",
    "        <body>\n",
    "\n",
    "        <p>Before the script...</p>\n",
    "\n",
    "        <script>\n",
    "            alert( 'Hello, world!' );\n",
    "        </script>\n",
    "\n",
    "        <p>...After the script.</p>\n",
    "\n",
    "        </body>\n",
    "\n",
    "        </html>\n",
    "    ```\n"
   ]
  },
  {
   "cell_type": "markdown",
   "metadata": {},
   "source": [
    "\n",
    "## internal Script\n",
    "\n",
    "JavaScript in `<head>` or `<body>`\n",
    "You can place any number of scripts in an HTML document.\n",
    "\n",
    "Scripts can be placed in the `<body>`, or in the `<head>` section of an HTML page, or in `both`.\n",
    "\n",
    "Placing scripts at the bottom of the `<body>` element improves the display speed, because script interpretation slows down the display.\n"
   ]
  },
  {
   "cell_type": "markdown",
   "metadata": {},
   "source": [
    "\n",
    "### in the head\n",
    "\n",
    "```html\n",
    "<!DOCTYPE html>\n",
    "<html>\n",
    "<head>\n",
    "    <script>\n",
    "        function myFunction() {\n",
    "        document.getElementById(\"demo\").innerHTML = \"Paragraph changed.\";\n",
    "        }\n",
    "    </script>\n",
    "</head>\n",
    "<body>\n",
    "    <h2>Demo JavaScript in Head</h2>\n",
    "    <p id=\"demo\">A Paragraph</p>\n",
    "    <button type=\"button\" onclick=\"myFunction()\">Try it</button>\n",
    "</body>\n",
    "</html>\n",
    "```\n"
   ]
  },
  {
   "cell_type": "markdown",
   "metadata": {},
   "source": [
    "\n",
    "### in the body\n",
    "\n",
    "```html\n",
    "<!DOCTYPE html>\n",
    "<html>\n",
    "<body>\n",
    "    <h2>Demo JavaScript in Body</h2>\n",
    "    <p id=\"demo\">A Paragraph</p>\n",
    "    <button type=\"button\" onclick=\"myFunction()\">Try it</button>\n",
    "    <script>\n",
    "        function myFunction() {\n",
    "        document.getElementById(\"demo\").innerHTML = \"Paragraph changed.\";\n",
    "        }\n",
    "    </script>\n",
    "</body>\n",
    "</html>\n",
    "```\n"
   ]
  },
  {
   "cell_type": "markdown",
   "metadata": {},
   "source": [
    "\n",
    "## External scripts\n",
    "\n",
    "* If we have a lot of JavaScript code, we can put it into a separate file.\n",
    "* Script files are attached to HTML with the src attribute:\n",
    "  \n",
    "    ```html\n",
    "        <script src=\"/path/to/script.js\"></script>\n",
    "    ```\n",
    "\n",
    "* Here, `/path/to/script.js` is an absolute path to the script from the site root.\n",
    "* One can also provide a relative path from the current page.\n",
    "* For instance, `src=\"script.js\"`, just like `src=\"./script.js\"`,\n",
    "  * would mean a file \"script.js\" in the current folder.\n",
    "\n",
    "* We can give a full URL as well. For instance:\n",
    "\n",
    "    ```html\n",
    "        <script src=\"https://cdnjs.cloudflare.com/ajax/libs/lodash.js/4.17.11/lodash.js\"></script>\n",
    "    ```\n",
    "\n",
    "* To attach several scripts, use **multiple tags**:\n",
    "\n",
    "    ```html\n",
    "        <script src=\"/js/script1.js\"></script>\n",
    "        <script src=\"/js/script2.js\"></script>\n",
    "        ....\n",
    "    ```\n"
   ]
  },
  {
   "cell_type": "markdown",
   "metadata": {},
   "source": [
    "\n",
    "### in the head\n",
    "\n",
    "```html\n",
    "<!DOCTYPE html>\n",
    "<html>\n",
    "<head>\n",
    "    <script src=\"/js/script1.js\"></script>\n",
    "    <script src=\"/js/script2.js\"></script>\n",
    "</head>\n",
    "<body>\n",
    "    <h2>Demo JavaScript in Head</h2>\n",
    "    <p id=\"demo\">A Paragraph</p>\n",
    "    <button type=\"button\" onclick=\"myFunction()\">Try it</button>\n",
    "</body>\n",
    "</html>\n",
    "```\n"
   ]
  },
  {
   "cell_type": "markdown",
   "metadata": {},
   "source": [
    "\n",
    "### in the body\n",
    "\n",
    "```html\n",
    "<!DOCTYPE html>\n",
    "<html>\n",
    "<body>\n",
    "    <h2>Demo JavaScript in Body</h2>\n",
    "    <p id=\"demo\">A Paragraph</p>\n",
    "    <button type=\"button\" onclick=\"myFunction()\">Try it</button>\n",
    "    <script src=\"/js/script1.js\"></script>\n",
    "    <script src=\"/js/script2.js\"></script>\n",
    "\n",
    "</body>\n",
    "</html>\n",
    "```\n"
   ]
  },
  {
   "cell_type": "markdown",
   "metadata": {},
   "source": [
    "\n",
    "## If src is set, the script content is ignored\n",
    "\n",
    "A single `<script>` tag can’t have both the src attribute and code inside.\n",
    "\n",
    "This won’t work:\n",
    "\n",
    "```html\n",
    "<script src=\"file.js\">\n",
    "  alert(1); // the content is ignored, because src is set\n",
    "</script>\n",
    "```\n",
    "\n",
    "We must choose either an external `<script src=\"…\">` or a regular `<script>` with code.\n",
    "\n",
    "The example above can be split into two scripts to work:\n",
    "\n",
    "```html\n",
    "<script src=\"file.js\"></script>\n",
    "<script>\n",
    "  alert(1);\n",
    "</script>\n",
    "```\n",
    "\n"
   ]
  }
 ],
 "metadata": {
  "kernelspec": {
   "display_name": "Python 3.10.9 64-bit (microsoft store)",
   "language": "python",
   "name": "python3"
  },
  "language_info": {
   "codemirror_mode": {
    "name": "ipython",
    "version": 3
   },
   "file_extension": ".py",
   "mimetype": "text/x-python",
   "name": "python",
   "nbconvert_exporter": "python",
   "pygments_lexer": "ipython3",
   "version": "3.10.9"
  },
  "orig_nbformat": 4,
  "vscode": {
   "interpreter": {
    "hash": "2c241b0a2dbb25395996509cdcc402c15755508b0c1cfb1ecdb3734d0a06b466"
   }
  }
 },
 "nbformat": 4,
 "nbformat_minor": 2
}
