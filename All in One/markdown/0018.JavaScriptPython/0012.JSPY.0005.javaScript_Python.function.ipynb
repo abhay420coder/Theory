{
 "cells": [
  {
   "attachments": {},
   "cell_type": "markdown",
   "metadata": {},
   "source": [
    "# function\n",
    "\n",
    "* A function is a \"subprogram\" that can be called by code external (or internal, in the case of recursion) to the function. \n",
    "* Like the program itself, a function is composed of a sequence of statements called the function body. \n",
    "* Values can be passed to a function as parameters, and the function will return a value.\n",
    "* A function is simply a “chunk” of code that you can use over and over again, rather than writing it out multiple times. \n",
    "* Functions enable programmers to break down or decompose a problem into smaller chunks, each of which performs a particular task.\n"
   ]
  },
  {
   "attachments": {},
   "cell_type": "markdown",
   "metadata": {},
   "source": [
    "# Types of Function :- JavaScript\n"
   ]
  },
  {
   "attachments": {},
   "cell_type": "markdown",
   "metadata": {},
   "source": [
    "\n",
    "## Normal/Regular    Function .... \n",
    "\n",
    "### General Syntax   :- \n",
    "\n",
    "```js\n",
    "function functionName(arg1=defVal1 , arg2=defVal2, ..... , argN=defValN  ){ \n",
    "\t// function  statement(s)\n",
    "}\n",
    "```\n",
    "> * defVal = default value :- it is totally optional. \n",
    "> * or  if you are not sending any default value then \n",
    "> \t* \tthat will take `NaN`\n",
    "> \t*\totherwise durig callBack , whatever you will send data that will take.\n",
    "\n",
    "```js\n",
    "function functionName(arg1 , arg2, ..... , argN){ \n",
    "\t// function  statement(s)\n",
    "}\n",
    "```\n",
    "\n"
   ]
  },
  {
   "attachments": {},
   "cell_type": "markdown",
   "metadata": {},
   "source": [
    "## Function Expression ....  \n",
    "\n",
    "### General Syntax   :- \n",
    "\n",
    "```js\n",
    "var/let/const variableName = function functionName(arg1=defval1 , arg2=defval2, ..... , argN=defvalN  ){ \n",
    "\t//  function statement(s)\n",
    "}\n",
    "```\n",
    "\n",
    "> or \n",
    "\n",
    "```js\n",
    "var/let/const variableName = function functionName(arg1 , arg2, ..... , argN  ){ \n",
    "\t//  function statement(s)\n",
    "}\n",
    "```\n",
    "\n",
    "> or \n",
    "\n",
    "```js\n",
    "var/let/const  variableName = function Structure\n",
    "```\n"
   ]
  },
  {
   "attachments": {},
   "cell_type": "markdown",
   "metadata": {},
   "source": [
    "## Anonymus Function ....   \n",
    "\n",
    "### General Syntax :- \n",
    "\n",
    "```js\n",
    "var/let/const  functionName = function (arg1=defval1 , arg2=defval2, ..... , argN=defvalN   ){ \n",
    "\t//  function statement(s)\n",
    "}\n",
    "```\n",
    "\n",
    "> or\n",
    "\n",
    "```js\n",
    "var/let/const  functionName = function (arg1 , arg2, ..... , argN  ){ \n",
    "\t//  function statement(s)\n",
    "}\n",
    "```\n"
   ]
  },
  {
   "attachments": {},
   "cell_type": "markdown",
   "metadata": {},
   "source": [
    "## Arrow Function :-  JAvaScript ....\n",
    "\n",
    "* which arrow function is use to reduce number of lines of the code & is use to avoid `this` keyword conflict.\n",
    "* Arrow function allows us to increase a efficiency of a pogram and allows us to create cleaner syntax.\n"
   ]
  },
  {
   "cell_type": "markdown",
   "metadata": {},
   "source": [
    "\n",
    "### Rule :- \n",
    "\n",
    "* Whenever we use arrow function then\n",
    "  * the `function` keyword shold not be used.\n",
    "* when we use arrow function are not manadatory\n",
    "  * if the function is having only one statement.\n",
    "* if the one statement is `return` statement\n",
    "  * then `return` keyword should not be used.\n",
    "* if the function is accepting only one argunment\n",
    "  * then parenthesis `()` is not manadatory.\n",
    "  * parenthesis :- () :- small bracket.\n",
    "* if the function is having \n",
    "  * 0 (zero) argunment or more then one argunment\n",
    "  * then parenthesis is manadatory.\n",
    "* if the function having more than one statement\n",
    "  * curly bracket is manadatory and `return` keyword are also manadatory.\n",
    "* **note :-** we can convert an anonumous function not named fumctions"
   ]
  },
  {
   "cell_type": "markdown",
   "metadata": {},
   "source": [
    "\n",
    "### General Syntax   :- \n"
   ]
  },
  {
   "attachments": {},
   "cell_type": "markdown",
   "metadata": {},
   "source": [
    "\n",
    "#### for more than one statement \n",
    "\n",
    "> If Arrow Function has More Than One Parameter and More Than One Statement   :-\n",
    "\n",
    "```js\n",
    "var/let/const functionName = (arg1=defval1 , arg2=defval2, ..... , argN=defvalN ) => { \n",
    "\t//  function statement(s)\n",
    "}\n",
    "```\n",
    "**or**\n",
    "\n",
    "```js\n",
    "var/let/const functionName = (arg1 , arg2, ..... , argN  ) => { \n",
    "\t//  function statement(s)\n",
    "}\n",
    "```\n",
    "\n",
    "> If Arrow Function has Zero Parameter and More Than One Statement   :-\n",
    "\n",
    "```js\n",
    "var/let/const functionName = () => { \n",
    "\t//  function statement(s)\n",
    "}\n",
    "```\n",
    "\n",
    "> If Arrow Function has One Parameter and More Than One Statement   :-\n",
    "\n",
    "```js\n",
    "var/let/const functionName =  (arg1=defVal1)=> { \n",
    "\t//  function statement(s)\n",
    "}\n",
    "```\n",
    "\n",
    "**or**\n",
    "\n",
    "```js\n",
    "var/let/const functionName =  (arg1)=> { \n",
    "\t//  function statement(s)\n",
    "}\n",
    "```\n",
    "\n",
    "**or**\n",
    "\n",
    "```js\n",
    "var/let functionName = arg1  => { \n",
    "\t//  function statement(s)\n",
    "}\n",
    "```\n"
   ]
  },
  {
   "attachments": {},
   "cell_type": "markdown",
   "metadata": {},
   "source": [
    "\n",
    "#### For Single Statement\n",
    "\n",
    "> if function has  one statement that is return statement then return keyword should not be used \n",
    "\n",
    "> If Arrow Function has More Than One Parameter and Single Statement   :-\n",
    "\n",
    "```js\n",
    "var/let fN= (arg1=defval1 , arg2=defval2, ..... , argN=defvalN   ) => //  function Statement\n",
    "```\n",
    "\n",
    "**or**\n",
    "\n",
    "```js\n",
    "var/let fN= (arg1 , arg2, ..... , argN  ) => //  function Statement\n",
    "```\n",
    "\n",
    "> If Arrow Function has Zero Parameter and Single  Statement   :-\n",
    "\n",
    "```js\n",
    "var/let fN = () =>  //  function Statement\n",
    "```\n",
    "\n",
    "> If Arrow Function has One Parameter and Single Statement   :-\n",
    "\n",
    "```js\n",
    "var/let fN = (arg1=defVal1)  => \t//  function Statement\n",
    "```\n",
    "\n",
    "**or**\n",
    "\n",
    "```js\n",
    "var/let fN = (arg1)  => \t//  function Statement\n",
    "```\n",
    "\n",
    "**or**\n",
    "\n",
    "```js\n",
    "var/let fN = arg1 => //  function Statement\n",
    "```"
   ]
  },
  {
   "cell_type": "markdown",
   "metadata": {},
   "source": []
  },
  {
   "cell_type": "code",
   "execution_count": null,
   "metadata": {},
   "outputs": [],
   "source": []
  }
 ],
 "metadata": {
  "kernelspec": {
   "display_name": "Python 3",
   "language": "python",
   "name": "python3"
  },
  "language_info": {
   "name": "python",
   "version": "3.10.9 (tags/v3.10.9:1dd9be6, Dec  6 2022, 20:01:21) [MSC v.1934 64 bit (AMD64)]"
  },
  "orig_nbformat": 4,
  "vscode": {
   "interpreter": {
    "hash": "2c241b0a2dbb25395996509cdcc402c15755508b0c1cfb1ecdb3734d0a06b466"
   }
  }
 },
 "nbformat": 4,
 "nbformat_minor": 2
}
