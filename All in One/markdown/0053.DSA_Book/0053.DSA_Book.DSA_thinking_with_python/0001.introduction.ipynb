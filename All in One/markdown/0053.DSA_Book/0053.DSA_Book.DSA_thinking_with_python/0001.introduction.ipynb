{
 "cells": [
  {
   "attachments": {},
   "cell_type": "markdown",
   "metadata": {},
   "source": [
    "### content :- page 6"
   ]
  },
  {
   "attachments": {},
   "cell_type": "markdown",
   "metadata": {},
   "source": [
    "### 1.2 Data Types :- page - 17\n",
    "* A data type in a programming language is a set of data with pre-defined values. \n",
    "* Examples of data types are :- integer, floating point, unit number, character, string, etc. \n",
    "* Computer memory is all filled with zeros and ones. \n",
    "* If we have a problem and we want to code it, it's very difficult to provide the solution in terms of zeros and ones. \n",
    "* At the top level, there arc two types of data types: \n",
    "  * System-defined data types (a lso called Primitive data types) \n",
    "  * User-defined data types"
   ]
  },
  {
   "attachments": {},
   "cell_type": "markdown",
   "metadata": {},
   "source": [
    "#### 1.2.1 System-defined data types (also called Primitive data types)\n",
    "\n",
    "* Data types that are defined by system are called primitive data types. \n",
    "* The primitive data types provided by many programming languages are: int, noat, char, double, bool, etc. \n",
    "* The number of bits allocated for each primitive data-type depends on \n",
    "  * the programming languages, \n",
    "  * the compiler and \n",
    "  * the operating system. \n",
    "* For the same primitive data type, different languages may use different sizes. \n",
    "* Depending on the size of the data types, \n",
    "  * the total available values (domain) will also change. \n",
    "\n",
    "> * For example, \"int\" may take 2 bytes or 4 bytes. \n",
    "> * If it takes 2 bytes (16 bits), then the total possible values are minus 32,768 to plus 32,767 (-2^15 to 2^15-1). \n",
    "> * If it takes 4 bytes (32 bits), Then the possible values are between -2,147,483,648 and +2.147,483,647 (-2^31 to 2^31-1 ). \n",
    "> * The same is thc case with other data types. \n",
    "  \n",
    "> * For example, \"anyDataType\" may Lake `n` bytes. \n",
    "> * If it takes n bytes (8n bits), then the total possible values are minus 2^(8n-1) to plus 2^(8n-1)-1"
   ]
  },
  {
   "attachments": {},
   "cell_type": "markdown",
   "metadata": {},
   "source": [
    "#### 1.2.2 User-defined data types\n",
    "* If the system-defined data types arc not enough, \n",
    "  * then most programming languages allow the users to define their own data types, \n",
    "  * called user - defined data types. \n",
    "* Good examples of user dermed data types arc: \n",
    "  * structures in C/C + + and \n",
    "  * classes in Java/Python/JavaScript. "
   ]
  },
  {
   "attachments": {},
   "cell_type": "markdown",
   "metadata": {},
   "source": [
    "### 1.3 Data Structures\n",
    "* Data structure is a particular way of storing and organizing data in a computer so that it can be used efficiently. \n",
    "* A data structure is a special formula for organizing and storing data . \n",
    "* General data structure types include \n",
    "  * arrays, \n",
    "  * files, \n",
    "  * linked lists, \n",
    "  * stacks, \n",
    "  * queues, \n",
    "  * trees, \n",
    "  * graphs and so on. \n",
    "* Depending on the organization of the elements, data structures are classified into two types: \n",
    "* Linear data structures: \n",
    "  * Elements are accessed in a sequentiay order but it is not compubory to store all elements sequentially. \n",
    "  * Examples: Arays , Linked Lists, Stacks and Queues. \n",
    "* Non - linear data structures: \n",
    "  * Elements of this data structure are stored /accessed in a non-linear order. \n",
    "  * Examples: Trees and graphs. "
   ]
  },
  {
   "attachments": {},
   "cell_type": "markdown",
   "metadata": {},
   "source": [
    "### 1.4 Abstract Data Type\n",
    "\n",
    "* To simplify the process of solving problems, we combine the data structures with their operations and we call this Abstract Data Types (ADTs). \n",
    "\n",
    "> * An ADT consists of two parts: \n",
    ">   * Declaration of data \n",
    ">   * Declaration of operations \n",
    "\n",
    "> * Commonly used ADTs include: \n",
    ">   * Linked Lists, \n",
    ">   * Stacks, \n",
    ">   * Queues, \n",
    ">   * Priority Queues, \n",
    ">   * Binary Trees, \n",
    ">   * Dictionaries, \n",
    ">   * Disjoint Sets (Union a nd Find), \n",
    ">   * Hash Tables, \n",
    ">   * Graphs, and many others. \n",
    "\n",
    "* For example, stack uses LIFO (Last-ln First-Out) mechanism while storing the data in dala structures. \n",
    "  * The last clement inserted into the stack is the first clement that gets deleted. \n",
    "  * Common operaLions of it are: \n",
    "    * creating the stack, \n",
    "    * pushing an element onto the stack, \n",
    "    * popping an element from stack, \n",
    "    * finding the current top of the stack, \n",
    "    * finding number of elements in the stack, etc. \n"
   ]
  },
  {
   "attachments": {},
   "cell_type": "markdown",
   "metadata": {},
   "source": [
    "### 1.5 What is an algorithm\n",
    "\n",
    "* Let us consider the problem of preparing an omelcuc. To prepare an omelette, we follow the st.cps given below: \n",
    "* step:-1   Get the frying pan. \n",
    "* step:-2   Get the oil. \n",
    "  * step:-2a   Do we have oil? \n",
    "    * step:-2a1   If yes, put it. in the pan.  \n",
    "    * step:-2a2   If no, do we want lo buy oil? \n",
    "      * step:-2a2a   If yes, t.hen go out and buy. \n",
    "      * step:-2a2b   If no, we can terminate. \n",
    "* step:-3   Tum on lhc stove, etc ... \n",
    "\n",
    "> An algorilhm is lhe step-by-step instructions to solve a given problem. \n",
    "\n"
   ]
  },
  {
   "attachments": {},
   "cell_type": "markdown",
   "metadata": {},
   "source": [
    "### 1.6 Why the Analysis of Algorithms?\n",
    "\n",
    "> Algorithm analysis helps us to dete rmine which algorithm is most efficient in terms of time and space consumed. "
   ]
  },
  {
   "attachments": {},
   "cell_type": "markdown",
   "metadata": {},
   "source": [
    "### 1.7 Goal of the Analysis of Algorithms \n",
    "\n",
    "> * The goal of the analysis of algorithms is to compare algorithms (or solutions) mainly in terms of running time \n",
    ">   * but also in terms of other factors (e.g., memory, developer effort, elc.)"
   ]
  },
  {
   "attachments": {},
   "cell_type": "markdown",
   "metadata": {},
   "source": [
    "### 1.8 What is Running Time Analysis? \n",
    "* It is the process of determining how processing time increases as the size of the problem (input size) increases. \n",
    "* Input size is the number of elements in the input, and depending on the problem type, the input may be of different types. \n",
    "* The following are the common types of inputs. \n",
    "  * Size of an a rray \n",
    "  * Polynomial degree \n",
    "  * Number of clements in a matrix \n",
    "  * Number of bils in the binary representation of the input \n",
    "  * Vertices and edges in a graph."
   ]
  },
  {
   "attachments": {},
   "cell_type": "markdown",
   "metadata": {},
   "source": [
    "### 1.9 How to Compare Algorithms \n",
    "\n",
    "* To compare algorithms, let us define a few objective measures :- \n",
    "  \n",
    "* **Execution times?** \n",
    "  * Not a good measure as cxeculion times are specific to a particular computer. \n",
    "* **Number of statements executed?** \n",
    "  * Not a good measures, \n",
    "    * since the number of statements varies with the programming language \n",
    "    * as well as the style of the individual programmer. \n",
    "* **Ideal solution?** \n",
    "  * Let us assume that \n",
    "    * we express the running time of a given algorithm as a function of the input size, n (i.e., f(n)) and \n",
    "    * compare these different functions corresponding to running times. \n",
    "    * This kind of comparison is independent of machine time, programming style, etc."
   ]
  },
  {
   "attachments": {},
   "cell_type": "markdown",
   "metadata": {},
   "source": [
    "### 1.10 what is rate of growth\n",
    "> * The rate at which the running time increases as a function of input is called rate of growth. \n",
    "\n",
    "* First example\n",
    "* Let us assume that you go to a shop to buy a car and a bicycle. \n",
    "  * If your friend sees you there and asks what you are buying, then in general you say buying a car. \n",
    "  * This is because the cost of the car is high compared to the cost of the bicycle (approximating the cost of the bicycle to the cost of the car). \n",
    "    * `Total Cost = cost_of_car + cost_of _blcycle` \n",
    "    * `Total Cost = cost_of _car (approximation)` \n",
    "  * For the above-mentioned example, we can represent the cost of the car and the cost of the bicycle in terms of function, \n",
    "* and for a given function ignore the low order terms that are relatively insignificant (for large value of input size, n). \n",
    "* As an example, \n",
    "  * in the case be low, `n^4` , `2n^2` , `100n` and `5OO` are the individual costs of some function \n",
    "  * and approximate to `n^4` since `n^4` is the highesr rate of growth. \n",
    "  * `n^4 + 2n^2 + 100n + 500 = n4`\n"
   ]
  },
  {
   "attachments": {},
   "cell_type": "markdown",
   "metadata": {},
   "source": [
    "### 1.11 commonly used rate of growth\n",
    "`(2^2)^n` > `n!` > `4^n` > `2^n` > `n^2` > `nlogn` > `log(n!)` > `n` > `2^(logn)` > `(log^2)n` > `(logn)^(0.5)` > `log(logn)` > `1`"
   ]
  },
  {
   "attachments": {},
   "cell_type": "markdown",
   "metadata": {},
   "source": [
    "### 1.12 Types of Analysis\n",
    "* There are three types of analysis: \n",
    "  * **Worst case** :-  \n",
    "    * Defines the input for which the algorithm takes a long time. \n",
    "    * Input is the one for which the algorithm runs the slowest. \n",
    "  * **Best case** :- \n",
    "    * Defines the input for which the algorithm takes the least time. \n",
    "    * Input is the one for which the algorithm runs the fastest. \n",
    "  * **Average case** :- \n",
    "    * Provides a prediction about the running time of the algorithm. \n",
    "    * Assumes that the input is random. \n",
    "  * `lower Bound <= Average Time <= Upper Bound `"
   ]
  },
  {
   "attachments": {},
   "cell_type": "markdown",
   "metadata": {},
   "source": [
    "### 1.13 Asymptotic Notation\n",
    "* Having the expressions \n",
    "  * for the best, average and worst cases, for all three cases \n",
    "  * we need to identify the upper and lower bounds. \n",
    "* To represent these upper and lower bounds, \n",
    "  * we need some kind of syntax, and that is the subject of the following discussion. "
   ]
  },
  {
   "attachments": {},
   "cell_type": "markdown",
   "metadata": {},
   "source": [
    "### 1.14 Big-O Notation\n"
   ]
  },
  {
   "attachments": {},
   "cell_type": "markdown",
   "metadata": {},
   "source": [
    "### 1.18 Guidelines for Asymptotic Analysis\n",
    "* There are some general rules to help us determine the running time of an algorithm.\n",
    "  * Loops\n",
    "  * Nested Loops\n",
    "  * Consecutive statements\n",
    "  * if-then-else statements\n",
    "  * Logarithmic Complexity\n"
   ]
  },
  {
   "attachments": {},
   "cell_type": "markdown",
   "metadata": {},
   "source": [
    "\n",
    "#### 1.18.1 Loops\n",
    "* The running time of a loop is, at most, \n",
    "  * the running time of the statements inside the loop(including tests) multiplied by the number of iterations. \n",
    "* `The running time of a loop` = `the running time of the statements inside the loop(including tests)` * `the number of iterations`. \n",
    "```py\n",
    "# executes n times \n",
    "n = 5\n",
    "for i in range(0,n): \n",
    "    print ('Current Number:', i) #constant time \n",
    "```\n",
    "* Total time = `a constant c` x `n` = `c*n` = `O(n)`. "
   ]
  },
  {
   "cell_type": "code",
   "execution_count": 6,
   "metadata": {},
   "outputs": [
    {
     "name": "stdout",
     "output_type": "stream",
     "text": [
      "Current Number: 0\n",
      "Current Number: 1\n",
      "Current Number: 2\n",
      "Current Number: 3\n",
      "Current Number: 4\n"
     ]
    }
   ],
   "source": [
    "# executes n times \n",
    "n = 5\n",
    "for i in range(0,n): \n",
    "    print ('Current Number:', i) # constant time "
   ]
  },
  {
   "attachments": {},
   "cell_type": "markdown",
   "metadata": {},
   "source": [
    "#### 1.18.2 Nested loops: \n",
    "* Analyze from the inside out. \n",
    "  * Total running time is the product of the sizes of all the loops. \n",
    "\n",
    "```py\n",
    "# outer loop executed n times \n",
    "for i in range(0,n): \n",
    "    # inner loop executes n times \n",
    "    for j in range(0,n): \n",
    "        print ('i value %.d a nd j value % d' % (i,j)) #constant time \n",
    "```\n",
    "* Total time = `c * n * n` = `(cn)^2` = `O(n^2 )`. "
   ]
  },
  {
   "cell_type": "code",
   "execution_count": 4,
   "metadata": {},
   "outputs": [
    {
     "name": "stdout",
     "output_type": "stream",
     "text": [
      "i value 0 a nd j value  0\n",
      "i value 0 a nd j value  1\n",
      "i value 0 a nd j value  2\n",
      "i value 1 a nd j value  0\n",
      "i value 1 a nd j value  1\n",
      "i value 1 a nd j value  2\n",
      "i value 2 a nd j value  0\n",
      "i value 2 a nd j value  1\n",
      "i value 2 a nd j value  2\n"
     ]
    }
   ],
   "source": [
    "# outer loop executed n times \n",
    "n = 3\n",
    "for i in range(0,n): \n",
    "    # inner loop executes n times \n",
    "    for j in range(0,n): \n",
    "        print ('i value %.d a nd j value % d' % (i,j)) #constant time "
   ]
  },
  {
   "attachments": {},
   "cell_type": "markdown",
   "metadata": {},
   "source": [
    "#### 1.18.3 Consecutive statements: \n",
    "\n",
    "* Add the time complexities of each statement. \n",
    "```py\n",
    "n = 100 \n",
    "#executes n times \n",
    "for i in range(0,n): \n",
    "    print 'Current Number:', i \n",
    "#outer loop executed n times \n",
    "for i in range(0,n): \n",
    "    # inner loop executes n times \n",
    "    for j in range(0,n): \n",
    "        print 'i value %d and j value o/od' % (i,j) \n",
    "```\n",
    "* Total time = `a` + `bn` + `d(n^2)` = `O(n^2)`. \n",
    "  * if c0 = a , c1 = b , c2 = d"
   ]
  },
  {
   "attachments": {},
   "cell_type": "markdown",
   "metadata": {},
   "source": [
    "#### 1.18.4 If-then-else statements: \n",
    "\n",
    "* Worst-case running time: \n",
    "  * the test, plus either the then part or the else part (whichever is the larger). \n",
    "```py\n",
    "if n=1:   # constant time\n",
    "    print \"Wrong Value\" \n",
    "    print n \n",
    "else: \n",
    "    for i in range(0,n):  # n times\n",
    "        print 'Curren t Number:', i   # constant time\n",
    "```\n",
    "* Total time = `a` + `b*n` = `O(n)`. \n",
    "  * if c0 = a , c1 = b "
   ]
  },
  {
   "attachments": {},
   "cell_type": "markdown",
   "metadata": {},
   "source": [
    "#### 1.18.5 Logarithmic complexity: \n",
    "* An algorithm is `O(logn)` \n",
    "  * if it tokes a constant time to cut the problem size by a fraction (usually by 1/2 ). \n",
    "  * As an example let us consider the following program: \n",
    "```py\n",
    "def Logarithms(n): \n",
    "    i = 1 \n",
    "    while i <= n: \n",
    "        i= i*2 \n",
    "        print i \n",
    "Logarithms(1OO) \n",
    "```\n",
    "* If we observe carefully, the value of `i` is doubling every time. \n",
    "* Initially `i=1`, in next step `i=2`, and in subsequent steps `i=4`,`8` nnd so on. \n",
    "* Let us assumt: that the loop is executing some `k` times. \n",
    "* At `kth` slep `2^k = n` and we come out of loop. \n",
    "* Taking logarithm on bolh sides, gives \n",
    "```py\n",
    "logq(2^k) = logn \n",
    "klog2 = logn \n",
    "k = logn  # if we assume base-2 \n",
    "```\n",
    "\n",
    "Total time = `O(logn)`.\n",
    "\n",
    "> * Note: Similarly, for the case below, the worst case rate of growth is `O(logn)`. \n",
    ">   * The same discussion holds good for the decreasing sequence as well. \n",
    "```py\n",
    "def Logarithms(n): \n",
    "    i = n \n",
    "    while i >= 1: \n",
    "        i= i # 2 \n",
    "        print i \n",
    "Logarithms(100) \n",
    "```\n",
    "* **Another example:-** binary search (finding a word in a dictionary of 11 pages) \n",
    "  * Look at the center point in the dictionary \n",
    "  * Is the word towards the left or right of center? \n",
    "  * Repeat the process with the left or right part of the dictionary until the word is found. "
   ]
  },
  {
   "cell_type": "code",
   "execution_count": null,
   "metadata": {},
   "outputs": [],
   "source": []
  },
  {
   "cell_type": "code",
   "execution_count": null,
   "metadata": {},
   "outputs": [
    {
     "ename": "",
     "evalue": "",
     "output_type": "error",
     "traceback": [
      "\u001b[1;31mFailed to start the Kernel. \n",
      "\u001b[1;31mUnable to start Kernel 'Python 3.10.11' due to connection timeout. \n",
      "\u001b[1;31mView Jupyter <a href='command:jupyter.viewOutput'>log</a> for further details."
     ]
    }
   ],
   "source": [
    "def toh(numberOfDisks, sourceRod, destinationRod , helperRod):\n",
    "    if(numberOfDisks==1):\n",
    "        print(\"moved disk {} from {} to {} \".format(numberOfDisks , sourceRod , destinationRod))\n",
    "    else :\n",
    "        toh(numberOfDisks-1 , sourceRod , helperRod , destinationRod)\n",
    "        print(\"moved disk {} from {} to {} \".format(numberOfDisks , sourceRod , destinationRod))\n",
    "        toh(numberOfDisks, helperRod, sourceRod , destinationRod)\n",
    "toh(2, 'sourceRod', 'destinationRod' , 'helperRod')\n"
   ]
  }
 ],
 "metadata": {
  "kernelspec": {
   "display_name": "Python 3",
   "language": "python",
   "name": "python3"
  },
  "language_info": {
   "codemirror_mode": {
    "name": "ipython",
    "version": 3
   },
   "file_extension": ".py",
   "mimetype": "text/x-python",
   "name": "python",
   "nbconvert_exporter": "python",
   "pygments_lexer": "ipython3",
   "version": "3.10.11"
  },
  "orig_nbformat": 4,
  "vscode": {
   "interpreter": {
    "hash": "2c241b0a2dbb25395996509cdcc402c15755508b0c1cfb1ecdb3734d0a06b466"
   }
  }
 },
 "nbformat": 4,
 "nbformat_minor": 2
}
