{
 "cells": [
  {
   "attachments": {},
   "cell_type": "markdown",
   "metadata": {},
   "source": [
    "# 2 Recursion\n",
    "\n",
    "## 2.2 what is recursion?\n",
    "\n",
    "* Any function which calls ilself is called `recursive`. \n",
    "* A `recursive method` solves a problem by calling a copy of itself to work on a smaller problem. \n",
    "* This is called the `recursion step`. \n",
    "* The recursion step can result in many more such recursive calls. \n",
    "* It is important to ensure that the recursion terminates. \n",
    "  * Each time the function calls itself with a slightly simpler version of the original problem. \n",
    "  * The sequence of smaller problems must eventually converge on the base case. \n"
   ]
  },
  {
   "attachments": {},
   "cell_type": "markdown",
   "metadata": {},
   "source": [
    "## 2.3 Why Recursion? \n",
    "* Recursion is a useful technique borrowed from mathematics. \n",
    "* Recursive code is generally shorter and easier to write than iterative code (while or for loop). \n",
    "> * Generally, loops are turned into recursive functions when they are compiled or interpreted. "
   ]
  },
  {
   "attachments": {},
   "cell_type": "markdown",
   "metadata": {},
   "source": [
    "## 2.4 Format of a Recursive Function \n",
    "\n",
    "* A recursive function performs a task in part by calling itself to perform the subtasks. \n",
    "* At some point, the function encounters a subtask that it can perform without calling itself. \n",
    "  * This case, where the function does not recur, is called the `base case`. \n",
    "* The former, where the function calls itself to perform a subtask, is referred to as the `cursive case`. \n",
    "* We can write all recursive functions using the format: \n",
    "```py\n",
    "# base case or termination case\n",
    "if(test for the base case) \n",
    "    return some base case value \n",
    "else if(test for another base case) \n",
    "    return some other base case value \n",
    "# the recursive case \n",
    "else \n",
    "    return (some work and then a recursive call) \n",
    "```\n",
    "* As an example consider the factorial function: \n",
    "  * n! is the product of all integers between n and 1. \n",
    "  * The definition of recursive factorial looks like: \n",
    "  * `n!` = `1` , `if n = 0`     -> base case\n",
    "  * `n!` = `n * (n - 1)!` `if n > o`  -> recursive case\n",
    "\n",
    "* This definilion can easily be converted to recursive implementalion. \n",
    "* Here the problem is determining the value of `n!`, and the subproblem is determining the value of `(n-1)!`. \n",
    "* In the recursive case, \n",
    "  * when `n` is greater than `1` , \n",
    "  * the function calls itself to determine the value of `(n-1)!` \n",
    "  * and multiplies that with n. \n",
    "* In the base case, when `n` is `0` or `1` , the funclion simply returns 1.\n",
    "*  This looks like the following: \n",
    "\n",
    "```py\n",
    "# calculates factoria l of n positive integer \n",
    "def factorial(n): \n",
    "  if n == 0: return l # base case\n",
    "  return n*factorial(n- 1)  # recursive case\n",
    "print{factoria1(6))\n",
    "```"
   ]
  },
  {
   "attachments": {},
   "cell_type": "markdown",
   "metadata": {},
   "source": [
    "## 2.5 Recursion and Memory (vsualization)"
   ]
  },
  {
   "attachments": {},
   "cell_type": "markdown",
   "metadata": {},
   "source": [
    "```\n",
    "Input : 3\n",
    "Output : 6\n",
    "Explanation : 1 + 2 + 3 = 6\n",
    "\n",
    "Input : 5\n",
    "Output : 15\n",
    "Explanation : 1 + 2 + 3 + 4 + 5 = 15\n",
    "```"
   ]
  },
  {
   "cell_type": "code",
   "execution_count": 1,
   "metadata": {},
   "outputs": [
    {
     "name": "stdout",
     "output_type": "stream",
     "text": [
      "15\n"
     ]
    }
   ],
   "source": [
    "def sumToN(n):\n",
    "  if(n==1):\n",
    "    return 1;\n",
    "  else :\n",
    "    totalSum = sumToN(n-1) + n\n",
    "    return totalSum\n",
    "print(sumToN(5))"
   ]
  },
  {
   "attachments": {},
   "cell_type": "markdown",
   "metadata": {},
   "source": [
    "method = 1\n",
    "```c\n",
    "sumToN(n) = sumToN(n-1) + n\n",
    "sumToN(5) = sumToN(4) + 5\n",
    "            sumToN(4) = sumToN(3) + 4\n",
    "                        sumToN(3) = sumToN(2) + 3\n",
    "                                    sumToN(2) = sumToN(1) + 2\n",
    "                                                sumToN(1) = 1\n",
    "sumToN(5) = 1 + 2 + 3 + 4 + 5 = 15;\n",
    "```\n",
    "method = 2\n",
    "```py\n",
    "sumToN(n) = sumToN(n-1) + n\n",
    "sumToN(5) = sumToN(5-1) + 5   # sumToN(5) = sumToN(5-1) + 5\n",
    "          = sumToN(4) + 5 \n",
    "          = sumToN(4-1) + 4 + 5  # sumToN(4) = sumToN(4-1) + 4\n",
    "          = sumToN(3) + 4 + 5 \n",
    "          = sumToN(3-1) + 3 + 4 + 5   # sumToN(3) = sumToN(3-1) + 3\n",
    "          = sumToN(2) + 3 + 4 + 5   \n",
    "          = sumToN(2-1) + 2 + 3 + 4 + 5   # sumToN(2) = sumToN(2-1) + 2\n",
    "          = sumToN(1) + 2 + 3 + 4 + 5   \n",
    "          = 1 + 2 + 3 + 4 + 5   # sumToN(1) = 1\n",
    "          = 15 \n",
    "sumToN(5) = 1 + 2 + 3 + 4 + 5 = 15;\n",
    "```\n"
   ]
  },
  {
   "cell_type": "code",
   "execution_count": 2,
   "metadata": {},
   "outputs": [
    {
     "name": "stdout",
     "output_type": "stream",
     "text": [
      "13\n"
     ]
    }
   ],
   "source": [
    "def fibonacci(n):\n",
    "  if(n==1 or n==2) :\n",
    "    return 1\n",
    "  else :\n",
    "    target = fibonacci(n-2) + fibonacci(n-1)\n",
    "    return target\n",
    "  \n",
    "print(fibonacci(7))\n"
   ]
  },
  {
   "attachments": {},
   "cell_type": "markdown",
   "metadata": {},
   "source": [
    "\n",
    "```py\n",
    "fib(n) = fib(n-2) + fib(n-1)  # fib(2) = fib(1) = 1\n",
    "fib(7) = fib(7-2) + fib(7-1)\n",
    "             = fib(5) + fib(6)\n",
    "             = fib(5-2) + fib(5-1) + fib(6-2) + fib(6-1)\n",
    "             = fib(3) + fib(4) + fib(4) + fib(5)\n",
    "             = fib(3-2) + fib(3-1) + fib(4-2) + fib(4-1) + fib(4-2) + fib(4-1) + fib(5-2) + fib(5-1)\n",
    "             = fib(1) + fib(2) + fib(2) + fib(3) + fib(2) + fib(3) + fib(3) + fib(4)\n",
    "             = 1 + 1 + 1 + fib(3-2) + fib(3-1) + 1 + fib(3-2) + fib(3-1) + fib(3-2) + fib(3-1) + fib(4-2) + fib(4-1)\n",
    "             = 1 + 1 + 1 + fib(1) + fib(2) + 1 + fib(1) + fib(2) + fib(1) + fib(2) + fib(2) + fib(3)\n",
    "             = 1 + 1 + 1 + 1 + 1 + 1 + 1 + 1 + 1 + 1 + 1 + fib(3-2) + fib(3-1)\n",
    "             = 1 + 1 + 1 + 1 + 1 + 1 + 1 + 1 + 1 + 1 + 1 + fib(1) + fib(2)\n",
    "             = 1 + 1 + 1 + 1 + 1 + 1 + 1 + 1 + 1 + 1 + 1 + 1 + 1\n",
    "             = 13\n",
    "```"
   ]
  },
  {
   "attachments": {},
   "cell_type": "markdown",
   "metadata": {},
   "source": [
    "## 2.6 Recursion vs Iteration\n",
    "\n",
    "### 2.6.1 Recursion \n",
    "* Terminates when a base case is reached. \n",
    "* Each recursive call requires; extra space on the stack frame (memory). \n",
    "* If we gel infinite recursion, the program may run out of memory and result in stack overllow. \n",
    "* Solutions to some problems are easier to formulate recursively. \n",
    "  \n",
    "### 2.6.2 Iteration \n",
    "* Terminates when a condition is proven lo be false. \n",
    "* Each iteration does not require extra space. \n",
    "* An infinite loop could loop forever since there is no extra memory being created. \n",
    "* Iterative solutions to a problem may not always be as obvious as a recursive solution. \n",
    "  \n"
   ]
  },
  {
   "attachments": {},
   "cell_type": "markdown",
   "metadata": {},
   "source": [
    "## 2.7 Notes on Recursion \n",
    "\n",
    "> * Recursive algorithms have two types of cases, \n",
    ">   * recursive cases and \n",
    ">   * base cases. \n",
    "\n",
    "> * Every recursive function case must terminate at a base case. \n",
    "\n",
    "* Generally, iterative solutions are more efficient than recursive solulions (due to the overhead of function calls). \n",
    "* A recursive algorithm can be implemented without recursive function calls using a stack, bul it's usually more trouble than its worth. \n",
    "> * That means any problem that can be solved recursively can also be solved iteratively. \n",
    "* For some problems, there are no obvious iterative algorithms. \n",
    "* Some problems are best suited for recursive solutions while others are not. \n"
   ]
  },
  {
   "attachments": {},
   "cell_type": "markdown",
   "metadata": {},
   "source": [
    "\n",
    "## 2.8 Example Algorithms of Recursion \n",
    "* Fibonacci Series, Factorial Finding \n",
    "* Merge Sort, Quick Sort \n",
    "* Binary Search \n",
    "* Tree Traversals and many Tree Problems: lnOrder, PreOrder PostOrdcr \n",
    "* Graph Traversals: DFS !Depth First Search! and BFS !Breadth First Search! \n",
    "* Dynamic Programming Examples \n",
    "* Divide and Conquer Algorithms \n",
    "* Towers of Hanoi \n",
    "* Backtracking Algorithms !we will discuss in next scclion] "
   ]
  },
  {
   "attachments": {},
   "cell_type": "markdown",
   "metadata": {},
   "source": [
    "## 2.9 Discuss Towers of Hanoi puzzle. \n",
    "* Solution: \n",
    "  * The Towers of Hanoi is a mathematical puzzle. \n",
    "  * It consists of \n",
    "    * three rods (or pegs or towers) and a number of disks of different sizes \n",
    "    * which can slide onto any rod. \n",
    "  * The puzzle starts with the disks on one rod in ascending order of size, \n",
    "    * the smallest at the top, thus making a conical shape. \n",
    "  * The objective of the puzzle is to move the entire stack to another rod, satisfying the following rules: \n",
    "    * Only one disk may be moved at a time. \n",
    "    * Each move consists of taking the upper disk \n",
    "      * from one of the rods and sliding it onto another rod, \n",
    "      * on top of the other disks \n",
    "      * that may already be present on that rod. \n",
    "    * No disk may be placed on top of a smaller disk. "
   ]
  },
  {
   "attachments": {},
   "cell_type": "markdown",
   "metadata": {},
   "source": []
  },
  {
   "cell_type": "code",
   "execution_count": 12,
   "metadata": {},
   "outputs": [
    {
     "name": "stdout",
     "output_type": "stream",
     "text": [
      "move disk 1 from sourceRod to destinationRod \n",
      "move disk 2 from sourceRod to helperRod \n",
      "move disk 1 from destinationRod to helperRod \n",
      "move disk 3 from sourceRod to destinationRod \n",
      "move disk 1 from helperRod to sourceRod \n",
      "move disk 2 from helperRod to destinationRod \n",
      "move disk 1 from sourceRod to destinationRod \n"
     ]
    }
   ],
   "source": [
    "def towerOfHanoi(numberOfDisk , sourceRod, helperRod ,destinationRod ):\n",
    "    # base case\n",
    "    if numberOfDisk == 1:\n",
    "        print(\"move disk {} from {} to {} \".format(numberOfDisk , sourceRod , destinationRod))\n",
    "        return\n",
    "    else:\n",
    "        towerOfHanoi(numberOfDisk-1 , sourceRod , destinationRod , helperRod)\n",
    "        print(\"move disk {} from {} to {} \".format(numberOfDisk , sourceRod , destinationRod))\n",
    "        towerOfHanoi(numberOfDisk-1 , helperRod , sourceRod , destinationRod)\n",
    "towerOfHanoi(3, 'sourceRod' ,'helperRod' , 'destinationRod')\n",
    "        \n",
    "        \n",
    "        "
   ]
  }
 ],
 "metadata": {
  "kernelspec": {
   "display_name": "Python 3",
   "language": "python",
   "name": "python3"
  },
  "language_info": {
   "codemirror_mode": {
    "name": "ipython",
    "version": 3
   },
   "file_extension": ".py",
   "mimetype": "text/x-python",
   "name": "python",
   "nbconvert_exporter": "python",
   "pygments_lexer": "ipython3",
   "version": "3.10.11"
  },
  "orig_nbformat": 4,
  "vscode": {
   "interpreter": {
    "hash": "2c241b0a2dbb25395996509cdcc402c15755508b0c1cfb1ecdb3734d0a06b466"
   }
  }
 },
 "nbformat": 4,
 "nbformat_minor": 2
}
