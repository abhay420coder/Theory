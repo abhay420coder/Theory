{
 "cells": [
  {
   "cell_type": "markdown",
   "metadata": {},
   "source": [
    "# Window Object Properties\n",
    "\n",
    "```js\n",
    "Property            Description\n",
    "closed              Returns a boolean true if a window is closed.\n",
    "console             Returns the Console Object for the window. See also The Console Object (Debug_Consol).\n",
    "defaultStatus       Deprecated.\n",
    "document            Returns the Document object for the window. See also The Document Object.\n",
    "frameElement        Returns the frame in which the window runs.\n",
    "frames              Returns all window objects running in the window.\n",
    "history             Returns the History object for the window. See also The History Object.\n",
    "innerHeight         Returns the height of the windows content area (viewport) including scrollbars\n",
    "innerWidth          Returns the width of a windows content area (viewport) including scrollbars\n",
    "length              Returns the number of <iframe> elements in the current window\n",
    "localStorage        Allows to save key/value pairs in a web browser. Stores the data with no expiration date\n",
    "location            Returns the Location object for the window. See also the The Location Object.\n",
    "name                Sets or returns the name of a window\n",
    "navigator           Returns the Navigator object for the window. See also The Navigator object.\n",
    "opener              Returns a reference to the window that created the window\n",
    "outerHeight         Returns the height of the browser window, including toolbars/scrollbars\n",
    "outerWidth          Returns the width of the browser window, including toolbars/scrollbars\n",
    "pageXOffset         Returns the pixels the current document has been scrolled (horizontally) from the upper left corner of the window\n",
    "pageYOffset         Returns the pixels the current document has been scrolled (vertically) from the upper left corner of the window\n",
    "parent              Returns the parent window of the current window\n",
    "screen              Returns the Screen object for the window. See also The Screen object\n",
    "screenLeft          Returns the horizontal coordinate of the window relative to the screen\n",
    "screenTop           Returns the vertical coordinate of the window relative to the screen\n",
    "screenX             Returns the horizontal coordinate of the window relative to the screen\n",
    "screenY             Returns the vertical coordinate of the window relative to the screen\n",
    "sessionStorage      Allows to save key/value pairs in a web browser. Stores the data for one session\n",
    "scrollX             An alias of pageXOffset\n",
    "scrollY             An alias of pageYOffset\n",
    "self                Returns the current window\n",
    "status              Deprecated. Avoid using it.\n",
    "top                 Returns the topmost browser window\n",
    "```\n"
   ]
  },
  {
   "cell_type": "markdown",
   "metadata": {},
   "source": [
    "\n",
    "# Window Object Properties :- Details\n",
    "\n",
    "* closed\n",
    "  * Returns a boolean true if a window is closed.\n",
    "* frameElement\n",
    "  * Returns the frame in which the window runs.\n",
    "* frames\n",
    "  * Returns all window objects running in the window.\n",
    "* history\n",
    "  * Returns the History object for the window. See also The History Object.\n",
    "* innerHeight\n",
    "  * Returns the height of the windows content area (viewport) including scrollbars\n",
    "* innerWidth\n",
    "  * Returns the width of a windows content area (viewport) including scrollbars\n",
    "* length\n",
    "  * Returns the number of `<iframe>` elements in the current window\n",
    "* localStorage\n",
    "  * Allows to save key/value pairs in a web browser. Stores the data with no expiration date\n",
    "* location\n",
    "  * Returns the Location object for the window. See also the The Location Object.\n",
    "* name\n",
    "  * Sets or returns the name of a window\n",
    "* navigator\n",
    "  * Returns the Navigator object for the window. See also The Navigator object.\n",
    "* opener\n",
    "  * Returns a reference to the window that created the window\n",
    "* outerHeight\n",
    "  * Returns the height of the browser window, including toolbars/scrollbars\n",
    "* outerWidth\n",
    "  * Returns the width of the browser window, including toolbars/scrollbars\n",
    "* pageXOffset\n",
    "  * Returns the pixels the current document has been scrolled (horizontally) from the upper left corner of the window\n",
    "* pageYOffset\n",
    "  * Returns the pixels the current document has been scrolled (vertically) from the upper left corner of the window\n",
    "* parent\n",
    "  * Returns the parent window of the current window\n",
    "* screen\n",
    "  * Returns the Screen object for the window. See also The Screen object\n",
    "* screenLeft\n",
    "  * Returns the horizontal coordinate of the window relative to the screen\n",
    "* screenTop\n",
    "  * Returns the vertical coordinate of the window relative to the screen\n",
    "* screenX\n",
    "  * Returns the horizontal coordinate of the window relative to the screen\n",
    "* screenY\n",
    "  * Returns the vertical coordinate of the window relative to the screen\n",
    "* sessionStorage\n",
    "  * Allows to save key/value pairs in a web browser. Stores the data for one session\n",
    "* scrollX\n",
    "  * An alias of pageXOffset\n",
    "* scrollY\n",
    "  * An alias of pageYOffset\n",
    "* self\n",
    "  * Returns the current window\n",
    "* top\n",
    "  * Returns the topmost browser window\n",
    "* console\n",
    "  * Returns the Console Object for the window. See also The Console Object (Debug_Consol).\n",
    "* document\n",
    "  * Returns the Document object for the window. See also The Document Object.\n"
   ]
  },
  {
   "cell_type": "markdown",
   "metadata": {},
   "source": [
    "\n",
    "# Window Object Methods\n",
    "\n",
    "```ts\n",
    "Method                  Description\n",
    "alert()                 Displays an alert box with a message and an OK button\n",
    "atob()                  Decodes a base-64 encoded string\n",
    "blur()                  Removes focus from the current window\n",
    "btoa()                  Encodes a string in base-64\n",
    "clearInterval()         Clears a timer set with setInterval()\n",
    "clearTimeout()          Clears a timer set with setTimeout()\n",
    "close()                 Closes the current window\n",
    "confirm()               Displays a dialog box with a message and an OK and a Cancel button\n",
    "focus()                 Sets focus to the current window\n",
    "getComputedStyle()      Gets the current computed CSS styles applied to an element\n",
    "getSelection()          Returns a Selection object representing the range of text selected by the user\n",
    "matchMedia()            Returns a MediaQueryList object representing the specified CSS media query string\n",
    "moveBy()                Moves a window relative to its current position\n",
    "moveTo()                Moves a window to the specified position\n",
    "open()                  Opens a new browser window\n",
    "print()                 Prints the content of the current window\n",
    "prompt()                Displays a dialog box that prompts the visitor for input\n",
    "requestAnimationFrame() Requests the browser to call a function to update an animation before the next repaint\n",
    "resizeBy()              Resizes the window by the specified pixels\n",
    "resizeTo()              Resizes the window to the specified width and height\n",
    "scroll()                Deprecated. This method has been replaced by the scrollTo() method.\n",
    "scrollBy()              Scrolls the document by the specified number of pixels\n",
    "scrollTo()              Scrolls the document to the specified coordinates\n",
    "setInterval()           Calls a function or evaluates an expression at specified intervals (in milliseconds)\n",
    "setTimeout()            Calls a function or evaluates an expression after a specified number of milliseconds\n",
    "stop()                  Stops the window from loading\n",
    "```\n"
   ]
  },
  {
   "cell_type": "markdown",
   "metadata": {},
   "source": [
    "\n",
    "# Window Object Methods :- Describe\n"
   ]
  },
  {
   "cell_type": "markdown",
   "metadata": {},
   "source": [
    "\n",
    "## input-oupput in pop-up box in current browser\n"
   ]
  },
  {
   "cell_type": "markdown",
   "metadata": {},
   "source": [
    "\n",
    "### `alert(message)`\n",
    "\n",
    "* Displays an alert box with a message and an OK button\n",
    "* Required :- message\n",
    "* **Return :-** None\n"
   ]
  },
  {
   "cell_type": "markdown",
   "metadata": {},
   "source": [
    "\n",
    "### `prompt(displayText, defaultInputText)`\n",
    "\n",
    "* Displays a dialog box that prompts the visitor for input\n",
    "* Required :- displayText , Optional :- defaultInputText\n",
    "* **Return :-** it return String value\n",
    "  * If the user clicks \"OK\", the input value is returned.\n",
    "  * Otherwise null is returned.\n"
   ]
  },
  {
   "cell_type": "markdown",
   "metadata": {},
   "source": [
    "\n",
    "### `confirm(message)`\n",
    "\n",
    "* Displays a dialog box with a message and an OK and a Cancel button\n",
    "* Required :- message\n",
    "* **Return :-** it return boolean value\n",
    "  * `true` if the user clicked OK, otherwise `false`\n"
   ]
  },
  {
   "cell_type": "markdown",
   "metadata": {},
   "source": [
    "\n",
    "## for adding CSS\n"
   ]
  },
  {
   "cell_type": "markdown",
   "metadata": {},
   "source": [
    "\n",
    "### `window.getComputedStyle(element, pseudoElement)`\n",
    "\n",
    "* Gets the current computed CSS styles applied to an element\n",
    "* A CSSStyleDeclaration object with all the CSS properties and values of the element.\n",
    "* Required :- element,      Optional :- pseudoElement\n",
    "* **Return :-** it return An object value\n",
    "  * A `CSSStyleDeclaration` object with all the CSS properties and values of the element..\n",
    "* example :-\n",
    "\n",
    "  ```js\n",
    "    const element = document.getElementById(\"test\");\n",
    "    const cssObj = window.getComputedStyle(element, null);\n",
    "    let bgColor = cssObj.getPropertyValue(\"background-color\");\n",
    "  ```\n"
   ]
  },
  {
   "cell_type": "markdown",
   "metadata": {},
   "source": [
    "\n",
    "### `getSelection()`\n",
    "\n",
    "* Returns a Selection object representing the range of text selected by the user\n"
   ]
  },
  {
   "cell_type": "markdown",
   "metadata": {},
   "source": [
    "\n",
    "### `window.matchMedia(mediaQuery).matches`\n",
    "\n",
    "* Returns a `MediaQueryList` object representing the specified CSS media query string\n",
    "* matches :-  A boolean. :- true if the document matches the query, otherwise false.\n",
    "* mediaQuery :-  A string. :-  A media query (list).\n",
    "  * color related media query :-\n",
    "    * `color` , `color-gamut` , `color-index` , `inverted-colors` , `monochrome`\n",
    "    * `max-color` , `max-color-index` , `max-monochrome`\n",
    "    * `min-color` , `min-color-index` , `min-monochrome`\n",
    "  * viewport Area related media query :-\n",
    "    * `orientation` , `overflow-block` , `overflow-inline`\n",
    "    * `height` , `width` , `aspect-ratio` ,\n",
    "    * `max-height` , `max-width` , `max-aspect-ratio`\n",
    "    * `min-height` , `min-width` , `min-aspect-ratio`\n",
    "  * Output Device related media query :-\n",
    "    * `scan` , `update` , `resolution` , `max-resolution` , `min-resolution`\n",
    "  * input :- mouse pointer related media query :-\n",
    "    * `hover` , `pointer` , `any-hover` , `any-pointer`\n",
    "  * scripting (JS file) related media query :-\n",
    "    * `scripting` ,\n",
    "  * other media query :-\n",
    "    * `grid` , `light-level`\n",
    "* **Return :-** it return An object value\n",
    "  * A `MediaQueryList` object with the results of the media query.\n",
    "\n",
    "* example :-\n",
    "\n",
    "  ```js\n",
    "    if (window.matchMedia(\"(max-width: 700px)\").matches) {\n",
    "      // Viewport is less or equal to 700 pixels wide\n",
    "    } else {\n",
    "      // Viewport is greater than 700 pixels wide\n",
    "    }\n",
    "  ```\n"
   ]
  },
  {
   "cell_type": "markdown",
   "metadata": {},
   "source": [
    "\n",
    "#### color related media query\n",
    "\n",
    "* `color`\n",
    "  * The number of bits per color component for the output device\n",
    "* `color-gamut`\n",
    "  * The approximate range of colors that are supported by the user agent and output device\n",
    "* `color-index`\n",
    "  * The number of colors the device can display\n",
    "* `inverted-colors`\n",
    "  * Is the browser or underlying OS inverting colors?\n",
    "* `monochrome`\n",
    "  * The number of bits per \"color\" on a monochrome (greyscale) device\n",
    "* `max-color`\n",
    "  * The maximum number of bits per color component for the output device\n",
    "* `max-color-index`\n",
    "  * The maximum number of colors the device can display\n",
    "* `max-monochrome`\n",
    "  * The maximum number of bits per \"color\" on a monochrome (greyscale) device\n",
    "* `min-color`\n",
    "  * The minimum number of bits per color component for the output device\n",
    "* `min-color-index`\n",
    "  * The minimum number of colors the device can display\n",
    "* `min-monochrome`\n",
    "  * The minimum number of bits per \"color\" on a monochrome (greyscale) device\n"
   ]
  },
  {
   "cell_type": "markdown",
   "metadata": {},
   "source": [
    "\n",
    "#### viewport Area related media query\n",
    "\n",
    "* `orientation`\n",
    "  * The orientation of the viewport\n",
    "  * (landscape or portrait mode)\n",
    "* `overflow-block`\n",
    "  * How does the output device handle content that overflows the viewport along the block axis\n",
    "* `overflow-inline`\n",
    "  * Can content that overflows the viewport along the inline axis be scrolled\n",
    "* `height`\n",
    "  * The viewport height\n",
    "* `width`\n",
    "  * The viewport width\n",
    "* `aspect-ratio`\n",
    "  * The ratio between the width and the height of the viewport\n",
    "* `max-height`\n",
    "  * The maximum height of the display area, such as a browser window\n",
    "* `max-width`\n",
    "  * The maximum width of the display area, such as a browser window\n",
    "* `max-aspect-ratio`\n",
    "  * The maximum ratio between the width and the height of the display area\n",
    "* `min-height`\n",
    "  * The minimum height of the display area, such as a browser window\n",
    "* `min-width`\n",
    "  * The minimum width of the display area, such as a browser window\n",
    "* `min-aspect-ratio`\n",
    "  * The minimum ratio between the width and the height of the display area\n"
   ]
  },
  {
   "cell_type": "markdown",
   "metadata": {},
   "source": [
    "\n",
    "#### Output Device related media query\n",
    "\n",
    "* `scan`\n",
    "  * The scanning process of the output device\n",
    "* `update`\n",
    "  * How quickly can the output device modify the appearance of the content\n",
    "* `resolution`\n",
    "  * The resolution of the output device, using dpi or dpcm\n",
    "* `max-resolution`\n",
    "  * The maximum resolution of the device, using dpi or dpcm\n",
    "* `min-resolution`\n",
    "  * The minimum resolution of the device, using dpi or dpcm\n"
   ]
  },
  {
   "cell_type": "markdown",
   "metadata": {},
   "source": [
    "\n",
    "#### input :- mouse pointer related media query\n",
    "\n",
    "* `hover`\n",
    "  * Does the primary input mechanism allow the user to hover over elements?\n",
    "* `pointer`\n",
    "  * Is the primary input mechanism a pointing device, and\n",
    "  * if so, how accurate is it?\n",
    "* `any-hover`\n",
    "  * Does any available input mechanism allow the user to hover over elements?\n",
    "* `any-pointer`\n",
    "  * Is any available input mechanism a pointing device, and\n",
    "  * if so, how accurate is it?\n"
   ]
  },
  {
   "cell_type": "markdown",
   "metadata": {},
   "source": [
    "  \n",
    "#### scripting (JS file) related media query\n",
    "\n",
    "* `scripting`\n",
    "  * Is scripting (e.g. JavaScript) available?\n"
   ]
  },
  {
   "cell_type": "markdown",
   "metadata": {},
   "source": [
    "\n",
    "#### other related media query\n",
    "\n",
    "* `grid`\n",
    "  * Whether the device is a grid or bitmap\n",
    "* `light-level`\n",
    "  * Current ambient light level\n"
   ]
  },
  {
   "cell_type": "markdown",
   "metadata": {},
   "source": [
    "\n",
    "### `requestAnimationFrame()`\n",
    "\n",
    "* Requests the browser to call a function to update an animation before the next repaint\n"
   ]
  },
  {
   "cell_type": "markdown",
   "metadata": {},
   "source": [
    "\n",
    "## Encoding and Decoding The Message\n"
   ]
  },
  {
   "cell_type": "markdown",
   "metadata": {},
   "source": [
    "\n",
    "### `window.atob(encodedStr)`\n",
    "\n",
    "* Decodes a base-64 encoded string\n",
    "* **Return :-** it return String value\n",
    "  * The decoded string\n"
   ]
  },
  {
   "cell_type": "markdown",
   "metadata": {},
   "source": [
    "\n",
    "### `window.btoa(str)`\n",
    "\n",
    "* Encodes a string in base-64\n",
    "* **Return :-** it return String value\n",
    "  * The encoded string\n"
   ]
  },
  {
   "cell_type": "markdown",
   "metadata": {},
   "source": [
    "\n",
    "### Example :-\n",
    "\n",
    "```html\n",
    "<!DOCTYPE html>\n",
    "    <html>\n",
    "        <body>\n",
    "            <p id=\"demo\"></p>\n",
    "            <script>\n",
    "                let text = \"Hello World!\";\n",
    "                let encoded = window.btoa(text);\n",
    "                let decoded = window.atob(encoded);\n",
    "                document.getElementById(\"demo\").innerHTML = \"Original: \" + text + \"<br>Encoded: \" + encoded + \"<br>Decoded: \" + decoded;\n",
    "                console.log(\"Original: \" + text + \"\\nEncoded: \" + encoded + \"\\nDecoded: \" + decoded);\n",
    "                /*\n",
    "                output :- \n",
    "                            Original: Hello World!\n",
    "                            Encoded: SGVsbG8gV29ybGQh\n",
    "                            Decoded: Hello World!\n",
    "                */\n",
    "            </script>\n",
    "        </body>\n",
    "    </html>\n",
    "```\n"
   ]
  },
  {
   "cell_type": "markdown",
   "metadata": {},
   "source": [
    "\n",
    "## Close-Open , blur-focus, resize-move :-  a new browser window (popup-window)\n"
   ]
  },
  {
   "cell_type": "markdown",
   "metadata": {},
   "source": [
    "\n",
    "### `window.open(URL, name, specs, replace)`\n",
    "\n",
    "* Opens a new browser window\n",
    "* reuired :- URL    Optional:- name, specs, replace\n",
    "* **Return :-** A reference to the new window, or null if the call failed.\n"
   ]
  },
  {
   "cell_type": "markdown",
   "metadata": {},
   "source": [
    "\n",
    "### `myWindow.close()`\n",
    "\n",
    "* Closes the current window\n",
    "* **Return :-** None\n"
   ]
  },
  {
   "cell_type": "markdown",
   "metadata": {},
   "source": [
    "\n",
    "### `myWindow.blur()`\n",
    "\n",
    "* Removes focus from the current window\n",
    "* **Return :-** None\n"
   ]
  },
  {
   "cell_type": "markdown",
   "metadata": {},
   "source": [
    "\n",
    "### `myWindow.focus()`\n",
    "\n",
    "* Sets focus to the current window\n",
    "* **Return :-** None\n"
   ]
  },
  {
   "cell_type": "markdown",
   "metadata": {},
   "source": [
    "\n",
    "### `myWindow.resizeBy(width, height)`\n",
    "\n",
    "* Resizes the window by the specified pixels\n",
    "* reuired :- width, height\n",
    "* **Return :-** None\n"
   ]
  },
  {
   "cell_type": "markdown",
   "metadata": {},
   "source": [
    "\n",
    "### `myWindow.resizeTo(width, height)`\n",
    "\n",
    "* Resizes the window to the specified width and height\n",
    "* reuired :- width, height\n",
    "* **Return :-** None\n"
   ]
  },
  {
   "cell_type": "markdown",
   "metadata": {},
   "source": [
    "\n",
    "### `myWindow.moveBy(x,y)`\n",
    "\n",
    "* Moves a window relative to its current position\n",
    "* x,y is a co-ordinate position of window.\n",
    "* x:- horizontal coordinate     y:- vertical coordinate\n",
    "* reuired :- x, y\n",
    "* **Return :-** None\n"
   ]
  },
  {
   "cell_type": "markdown",
   "metadata": {},
   "source": [
    "\n",
    "### `myWindow.moveTo(x,y)`\n",
    "\n",
    "* Moves a window to the specified position\n",
    "* x,y is a co-ordinate position of window.\n",
    "* x:- horizontal coordinate     y:- vertical coordinate\n",
    "* reuired :- x, y\n",
    "* **Return :-** None\n"
   ]
  },
  {
   "cell_type": "markdown",
   "metadata": {},
   "source": [
    "\n",
    "### Example :-\n",
    "\n",
    "```html\n",
    "<!DOCTYPE html>\n",
    "    <html>\n",
    "        <body>\n",
    "            <p id=\"demo\"></p>\n",
    "            <button onclick=\"openWin()\">Open \"myWindow\"</button>\n",
    "            <button onclick=\"closeWin()\">Close \"myWindow\"</button>\n",
    "            <button onclick=\"focusWin()\">Focus \"myWindow\"</button>\n",
    "            <button onclick=\"blurWin()\">Blur \"myWindow\"</button>\n",
    "            <button onclick=\"resizeToWin()\">Resize To \"myWindow\"</button>\n",
    "            <button onclick=\"resizeByWin()\">Resize By \"myWindow\"</button>\n",
    "            <button onclick=\"moveToWin()\">Move To \"myWindow\"</button>\n",
    "            <button onclick=\"moveByWin()\">Move By \"myWindow\"</button>\n",
    "\n",
    "            <script>\n",
    "                let myWindow;\n",
    "                function openWin() {\n",
    "                  myWindow = window.open(\"\", \"\", \"width=200,height=100\");\n",
    "                }\n",
    "                function focusWin() {\n",
    "                  myWindow.focus();\n",
    "                }\n",
    "                function blurWin() {\n",
    "                  myWindow.blur();\n",
    "                }\n",
    "                function resizeToWin() {\n",
    "                  myWindow.resizeTo(800, 600);\n",
    "                }\n",
    "                function resizeByWin() {\n",
    "                  myWindow.resizeBy(-100, 50);\n",
    "                }\n",
    "                function moveToWin() {\n",
    "                  myWindow.moveTo(150, 150);\n",
    "                }\n",
    "                function moveByWin() {\n",
    "                  myWindow.moveBy(75,75);\n",
    "                }\n",
    "                function closeWin() {\n",
    "                  myWindow.close();\n",
    "                }\n",
    "            </script>\n",
    "        </body>\n",
    "    </html>\n",
    "```\n"
   ]
  },
  {
   "cell_type": "markdown",
   "metadata": {},
   "source": [
    "\n",
    "## scroll window\n"
   ]
  },
  {
   "cell_type": "markdown",
   "metadata": {},
   "source": [
    "\n",
    "### `scroll(x,y)`\n",
    "\n",
    "* Deprecated. This method has been replaced by the `scrollTo(x,y)` method.\n",
    "* x,y is a co-ordinate position of window.\n",
    "* x:- horizontal coordinate     y:- vertical coordinate\n",
    "* reuired :- x, y\n",
    "* **Return :-** None\n"
   ]
  },
  {
   "cell_type": "markdown",
   "metadata": {},
   "source": [
    "\n",
    "### `scrollTo(x,y)`\n",
    "\n",
    "* Scrolls the document to the specified coordinates\n",
    "* For the `scrollTo()` method to work,\n",
    "  * the document must be larger than the screen,\n",
    "  * and the scrollbar must be visible\n",
    "* x,y is a co-ordinate position of window.\n",
    "* x:- horizontal coordinate     y:- vertical coordinate\n",
    "* reuired :- x, y\n",
    "* **Return :-** None\n"
   ]
  },
  {
   "cell_type": "markdown",
   "metadata": {},
   "source": [
    "\n",
    "### `scrollBy(x,y)`\n",
    "\n",
    "* Scrolls the document by the specified number of pixels\n",
    "* x,y is a co-ordinate position of window.\n",
    "* x:- horizontal coordinate     y:- vertical coordinate\n",
    "* reuired :- x, y\n",
    "* **Return :-** None\n"
   ]
  },
  {
   "cell_type": "markdown",
   "metadata": {},
   "source": [
    "\n",
    "### Example :-\n",
    "\n",
    "```html\n",
    "<!DOCTYPE html>\n",
    "    <html>\n",
    "        <body>\n",
    "          <p>Look at the scrollbar to see the effect.</p>\n",
    "          <p>Click one of the buttons (multiple times) to scroll the document.</p>\n",
    "\n",
    "          <button onclick=\"scrollByWin(100, 0)\">Scroll right</button><br><br>\n",
    "          <button onclick=\"scrollByWin(-100, 0)\">Scroll left</button><br><br>\n",
    "\n",
    "          <button onclick=\"scrollToWin()\" style=\"position:fixed\">Scroll to 500 vertically!</button><br><br>\n",
    "\n",
    "          <script>\n",
    "            function scrollByWin(x, y) {\n",
    "              window.scrollBy(x, y);\n",
    "            }\n",
    "            function scrollToWin() {\n",
    "              window.scrollTo(0, 500);\n",
    "            }\n",
    "          </script>\n",
    "        </body>\n",
    "    </html>\n",
    "```\n"
   ]
  },
  {
   "cell_type": "markdown",
   "metadata": {},
   "source": [
    "\n",
    "## print and stop re-loading of current window\n"
   ]
  },
  {
   "cell_type": "markdown",
   "metadata": {},
   "source": [
    "\n",
    "### `window.print()`\n",
    "\n",
    "* Prints the content of the current window\n",
    "* **Return :-** None\n"
   ]
  },
  {
   "cell_type": "markdown",
   "metadata": {},
   "source": [
    "\n",
    "### `window.stop()`\n",
    "\n",
    "* Stops the window from loading\n",
    "* **Return :-** None\n"
   ]
  },
  {
   "cell_type": "markdown",
   "metadata": {},
   "source": [
    "\n",
    "## calls a function after a number of milliseconds\n"
   ]
  },
  {
   "cell_type": "markdown",
   "metadata": {},
   "source": [
    "\n",
    "### `setInterval(function, milliseconds)`\n",
    "\n",
    "* Calls a function or evaluates an expression at specified intervals (in milliseconds)\n",
    "* The `setInterval()` method continues calling the function until `clearInterval()` is called, or the window is closed.\n",
    "* If you need repeated executions, use `setInterval()` instead.\n",
    "* Syntax:-\n",
    "  * `myInterval = setInterval(function, milliseconds);`\n",
    "  * here `id` return by `setInterval(function, milliseconds);` is saved in `myInterval`.\n",
    "* **Return :-** A number The `id` of the timer.\n",
    "  * Use this `id` with `clearInterval(id)` to cancel the timer.\n"
   ]
  },
  {
   "cell_type": "markdown",
   "metadata": {},
   "source": [
    "\n",
    "### `setTimeout(function, milliseconds)`\n",
    "\n",
    "* Calls a function or evaluates an expression after a specified number of milliseconds\n",
    "* The `setTimeout()` is executed only once.\n",
    "* Syntax:-\n",
    "  * `myTimeout = setTimeout(function, milliseconds);`\n",
    "  * here `id` return by `setTimeout(function, milliseconds);` is saved in `myTimeout`.\n",
    "* **Return :-** A number The `id` of the timer.\n",
    "  * Use this `id` with `clearTimeout(id)` to cancel the timer.\n"
   ]
  },
  {
   "cell_type": "markdown",
   "metadata": {},
   "source": [
    "\n",
    "### `clearInterval(setIntervalFunctionName)`\n",
    "\n",
    "* Clears a timer set with setInterval()\n",
    "* Syntax:-\n",
    "  * `clearInterval(setIntervalFunctionName);`\n",
    "* **Return :-** None\n"
   ]
  },
  {
   "cell_type": "markdown",
   "metadata": {},
   "source": [
    "\n",
    "### `clearTimeout(setTimeoutFunctionName)`\n",
    "\n",
    "* Clears a timer set with setTimeout()\n",
    "* Syntax:-\n",
    "  * `clearTimeout(setTimeoutFunctionName);`\n",
    "* **Return :-** None\n"
   ]
  },
  {
   "cell_type": "markdown",
   "metadata": {},
   "source": [
    "\n",
    "### Note :-\n",
    "\n",
    "* The `setTimeout()` is executed only once.\n",
    "  * Use the `clearTimeout()` method to prevent the function from starting.\n",
    "  * To clear a timeout, use the id returned from `setTimeout()`:\n",
    "    * `myTimeout = setTimeout(function, milliseconds);`\n",
    "  * Then you can to stop the execution by calling `clearTimeout()`:\n",
    "    * `clearTimeout(myTimeout);`\n",
    "  * Ex:-\n",
    "\n",
    "    ```html\n",
    "        <!DOCTYPE html>\n",
    "        <html>\n",
    "        <body>\n",
    "            <p>Click the button to prevent the timeout to execute. (You have 3 seconds).</p>\n",
    "\n",
    "            <h2 id=\"demo\"></h2>\n",
    "\n",
    "            <button onclick=\"myStopFunction()\">Stop it</button>\n",
    "            <script>\n",
    "                const myTimeout = setTimeout(myGreeting, 3000);\n",
    "                function myGreeting() {\n",
    "                    document.getElementById(\"demo\").innerHTML = \"Happy Birthday!\"\n",
    "                }\n",
    "                function myStopFunction() {\n",
    "                    clearTimeout(myTimeout);\n",
    "                }\n",
    "            </script>\n",
    "        </body>\n",
    "        </html>\n",
    "    ```\n",
    "\n",
    "* If you need repeated executions, use `setInterval()` instead.\n",
    "  * The `setInterval()` method continues calling the function until `clearInterval()` is called, or the window is closed.\n",
    "  * Use the `clearInterval()` method to prevent the function from `setInterval()`.\n",
    "  * To clear a Interval, use the id returned from `setInterval()`:\n",
    "    * `myInterval = setInterval(function, milliseconds);`\n",
    "  * Then you can to stop the execution by calling `clearInterval()`:\n",
    "    * `clearInterval(myInterval);`\n",
    "  * Ex:-\n",
    "\n",
    "    ```html\n",
    "        <!DOCTYPE html>\n",
    "        <html>\n",
    "        <body>\n",
    "            <p id=\"demo\"></p>\n",
    "            <button onclick=\"myStop()\">Stop the time</button>\n",
    "            <script>\n",
    "                const myInterval = setInterval(myTimer, 1000);\n",
    "\n",
    "                function myTimer() {\n",
    "                    const date = new Date();\n",
    "                    document.getElementById(\"demo\").innerHTML = date.toLocaleTimeString();\n",
    "                }\n",
    "\n",
    "                function myStop() {\n",
    "                    clearInterval(myInterval);\n",
    "                }\n",
    "            </script>\n",
    "        </body>\n",
    "        </html>\n",
    "    ```\n"
   ]
  },
  {
   "cell_type": "code",
   "execution_count": null,
   "metadata": {},
   "outputs": [],
   "source": []
  }
 ],
 "metadata": {
  "kernelspec": {
   "display_name": "Python 3.10.9 64-bit (microsoft store)",
   "language": "python",
   "name": "python3"
  },
  "language_info": {
   "name": "python",
   "version": "3.10.9"
  },
  "orig_nbformat": 4,
  "vscode": {
   "interpreter": {
    "hash": "2c241b0a2dbb25395996509cdcc402c15755508b0c1cfb1ecdb3734d0a06b466"
   }
  }
 },
 "nbformat": 4,
 "nbformat_minor": 2
}
