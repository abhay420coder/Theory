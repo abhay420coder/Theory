{
 "cells": [
  {
   "cell_type": "markdown",
   "metadata": {},
   "source": [
    "# Code structure\n"
   ]
  },
  {
   "cell_type": "markdown",
   "metadata": {},
   "source": [
    "\n",
    "## Statements\n",
    "\n",
    "* Statements are syntax constructs and commands that perform actions.\n",
    "* We’ve already seen a statement, `alert('Hello, world!')`, which shows the message “Hello, world!”.\n",
    "* We can have as many statements in our code as we want. Statements can be separated with a semicolon.\n",
    "* For example, here we split “Hello World” into two alerts:\n",
    "    `alert('Hello'); alert('World');`\n",
    "* Usually, statements are written on separate lines to make the code more readable:\n",
    "\n",
    "    ```js\n",
    "        alert('Hello');\n",
    "        alert('World');\n",
    "    ```\n"
   ]
  },
  {
   "cell_type": "code",
   "execution_count": null,
   "metadata": {},
   "outputs": [
    {
     "ename": "",
     "evalue": "",
     "output_type": "error",
     "traceback": [
      "\u001b[1;31mFailed to start the Kernel. \n",
      "\u001b[1;31mC:\\Users\\abhay.kumar\\AppData\\Roaming\\npm\\node_modules\\ijavascript\\node_modules\\node-gyp-build\\node-gyp-build.js:60\n",
      "\u001b[1;31m  throw new Error('No native build was found for ' + target + '\\n    loaded from: ' + dir + '\\n')\n",
      "\u001b[1;31m  ^\n",
      "\u001b[1;31m\n",
      "\u001b[1;31mError: No native build was found for platform=win32 arch=x64 runtime=electron abi=111 uv=1 libc=glibc node=19.4.0\n",
      "\u001b[1;31m    loaded from: C:\\Users\\abhay.kumar\\AppData\\Roaming\\npm\\node_modules\\ijavascript\\node_modules\\zeromq\n",
      "\u001b[1;31m\n",
      "\u001b[1;31m    at load.resolve.load.path (C:\\Users\\abhay.kumar\\AppData\\Roaming\\npm\\node_modules\\ijavascript\\node_modules\\node-gyp-build\\node-gyp-build.js:60:9)\n",
      "\u001b[1;31m    at load (C:\\Users\\abhay.kumar\\AppData\\Roaming\\npm\\node_modules\\ijavascript\\node_modules\\node-gyp-build\\node-gyp-build.js:22:30)\n",
      "\u001b[1;31m    at Object.<anonymous> (C:\\Users\\abhay.kumar\\AppData\\Roaming\\npm\\node_modules\\ijavascript\\node_modules\\zeromq\\binding.js:1:43)\n",
      "\u001b[1;31m    at Module._compile (node:internal/modules/cjs/loader:1239:14)\n",
      "\u001b[1;31m    at Module._extensions..js (node:internal/modules/cjs/loader:1293:10)\n",
      "\u001b[1;31m    at Module.load (node:internal/modules/cjs/loader:1096:32)\n",
      "\u001b[1;31m    at Module._load (node:internal/modules/cjs/loader:935:12)\n",
      "\u001b[1;31m    at Module.require (node:internal/modules/cjs/loader:1120:19)\n",
      "\u001b[1;31m    at require (node:internal/modules/helpers:112:18)\n",
      "\u001b[1;31m    at Object.<anonymous> (C:\\Users\\abhay.kumar\\AppData\\Roaming\\npm\\node_modules\\ijavascript\\node_modules\\zeromq\\lib\\index.js:6:11)\n",
      "\u001b[1;31m\n",
      "\u001b[1;31mNode.js v19.4.0. \n",
      "View Jupyter <a href='command:jupyter.viewOutput'>log</a> for further details."
     ]
    }
   ],
   "source": [
    "%%js\n",
    "// if i write %%js at first then we can write js code \n",
    "// but your kernel should be \"ipykernel\" \n",
    "console.log(`Hello`);\n",
    "//alert('World');"
   ]
  },
  {
   "cell_type": "code",
   "execution_count": 23,
   "metadata": {},
   "outputs": [
    {
     "data": {
      "text/html": [
       "<!DOCTYPE html>\n",
       "<html lang=\"en\">\n",
       "<head>\n",
       "    <meta charset=\"UTF-8\">\n",
       "    <meta http-equiv=\"X-UA-Compatible\" content=\"IE=edge\">\n",
       "    <meta name=\"viewport\" content=\"width=device-width, initial-scale=1.0\">\n",
       "    <title>Document</title>\n",
       "</head>\n",
       "<body>\n",
       "    <p id=\"demo\">hello man</p>\n",
       "    <script>\n",
       "        let element = document.getElementById(\"demo\")\n",
       "        element.innerHtml=\"hello\";\n",
       "        element.innerText=\"hello raj\";\n",
       "        // element.text(\"hello\")\n",
       "        \n",
       "    </script>\n",
       "</body>\n",
       "</html>\n"
      ],
      "text/plain": [
       "<IPython.core.display.HTML object>"
      ]
     },
     "metadata": {},
     "output_type": "display_data"
    }
   ],
   "source": [
    "%%html\n",
    "<!DOCTYPE html>\n",
    "<html lang=\"en\">\n",
    "<head>\n",
    "    <meta charset=\"UTF-8\">\n",
    "    <meta http-equiv=\"X-UA-Compatible\" content=\"IE=edge\">\n",
    "    <meta name=\"viewport\" content=\"width=device-width, initial-scale=1.0\">\n",
    "    <title>Document</title>\n",
    "</head>\n",
    "<body>\n",
    "    <p id=\"demo\">hello man</p>\n",
    "    <script>\n",
    "        let element = document.getElementById(\"demo\")\n",
    "        element.innerHtml=\"hello\";\n",
    "        element.innerText=\"hello raj\";\n",
    "        // element.text(\"hello\")\n",
    "        \n",
    "    </script>\n",
    "</body>\n",
    "</html>"
   ]
  },
  {
   "cell_type": "markdown",
   "metadata": {},
   "source": [
    "\n",
    "# Semicolons\n",
    "\n",
    "* A semicolon may be omitted in most cases when a line break exists.\n",
    "* This would also work:\n",
    "\n",
    "    ```ts\n",
    "    alert('Hello')\n",
    "    alert('World')\n",
    "    ```\n",
    "\n",
    "* Here, JavaScript interprets the line break as an “implicit” semicolon.\n",
    "* This is called an automatic semicolon insertion.\n",
    "  \n",
    "**In most cases, a newline implies a semicolon. But “in most cases” does not mean “always”!**\n",
    "\n",
    "* There are cases when a newline does not mean a semicolon. For example:\n",
    "\n",
    "    ```ts\n",
    "        alert(3 +\n",
    "        1\n",
    "        * 2);\n",
    "    ```\n",
    "\n",
    "* The code outputs 6 because JavaScript does not insert semicolons here.\n",
    "* It is intuitively obvious that if the line ends with a plus \"+\",\n",
    "  * then it is an “incomplete expression”,\n",
    "  * so a semicolon there would be incorrect.\n",
    "* And in this case, that works as intended.\n",
    "\n",
    "**But there are situations where JavaScript “fails” to assume a semicolon where it is really needed.**\n",
    "\n",
    "* Errors which occur in such cases are quite hard to find and fix.\n",
    "\n"
   ]
  },
  {
   "cell_type": "markdown",
   "metadata": {},
   "source": [
    "\n",
    "# “use strict”\n",
    "\n",
    "* The directive looks like a string: `\"use strict\"` or `'use strict'`.\n",
    "* When it is located at the top of a script, the whole script works the “modern” way.\n",
    "\n",
    "For example:\n",
    "\n",
    "```js\n",
    "\"use strict\";\n",
    "\n",
    "// this code works the modern way\n",
    "...\n",
    "\n",
    "```\n",
    "\n",
    "* Please make sure that `\"use strict\"` is at the top of your scripts, otherwise strict mode may not be enabled.\n",
    "\n",
    "* There’s no way to cancel use strict\n",
    "* There is no directive like \"no use strict\" that reverts the engine to old behavior.\n",
    "* Once we enter strict mode, there’s no going back.\n"
   ]
  },
  {
   "cell_type": "markdown",
   "metadata": {},
   "source": [
    "\n",
    "## `\"use strict\"` in Browser console\n",
    "\n",
    "* When you use a developer console to run code,\n",
    "  * please note that it doesn’t use strict by default.\n",
    "\n",
    "* Sometimes,\n",
    "  * when use strict makes a difference,\n",
    "  * you’ll get incorrect results.\n",
    "\n",
    "* So, how to actually use strict in the console?\n",
    "\n",
    "* First,\n",
    "  * you can try to press `Shift+Enter` to input multiple lines,\n",
    "  * and put use strict on top, like this:\n",
    "\n",
    "* you can try to press `Shift+Enter` to input multiple lines\n",
    "\n",
    "```js\n",
    "'use strict'; \n",
    "<Shift+Enter for a newline>\n",
    "//  ...your code\n",
    "<Enter to run the code>\n",
    "```\n"
   ]
  },
  {
   "cell_type": "markdown",
   "metadata": {},
   "source": [
    "\n",
    "## Should we “use strict”?\n",
    "\n",
    "* The question may sound obvious, but it’s not so.\n",
    "\n",
    "* One could recommend to start scripts with \"use strict\"… But you know what’s cool?\n",
    "\n",
    "* Modern JavaScript supports “classes” and “modules” – advanced language structures (we’ll surely get to them), that enable use strict automatically.\n",
    "* **So we don’t need to add the \"use strict\" directive, if we use them.**\n"
   ]
  }
 ],
 "metadata": {
  "kernelspec": {
   "display_name": "JavaScript (Node.js)",
   "language": "javascript",
   "name": "javascript"
  },
  "language_info": {
   "codemirror_mode": {
    "name": "ipython",
    "version": 3
   },
   "file_extension": ".py",
   "mimetype": "text/x-python",
   "name": "javascript",
   "nbconvert_exporter": "python",
   "pygments_lexer": "ipython3",
   "version": "3.10.9"
  },
  "vscode": {
   "interpreter": {
    "hash": "2c241b0a2dbb25395996509cdcc402c15755508b0c1cfb1ecdb3734d0a06b466"
   }
  }
 },
 "nbformat": 4,
 "nbformat_minor": 2
}
