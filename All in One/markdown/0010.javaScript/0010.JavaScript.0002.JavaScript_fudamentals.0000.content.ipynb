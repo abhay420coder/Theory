{
 "cells": [
  {
   "cell_type": "markdown",
   "metadata": {},
   "source": [
    "# in JS fundamentals we will learn\n",
    "\n",
    "\n",
    "1. Hello, world!\n",
    "2. Code structure\n",
    "3. The modern mode, \"use strict\"\n",
    "4. Variables\n",
    "5. Data types\n",
    "6. Interaction: alert, prompt, confirm\n",
    "7. Type Conversions\n",
    "8. Basic operators, maths\n",
    "9. Comparisons\n",
    "10. Conditional branching: if, '?'\n",
    "11. Logical operators\n",
    "12. Nullish coalescing operator '??'\n",
    "13. Loops: while and for\n",
    "14. The \"switch\" statement\n",
    "15. Functions\n",
    "16. Function expressions\n",
    "17. Arrow functions, the basics\n",
    "18. JavaScript specials"
   ]
  }
 ],
 "metadata": {
  "kernelspec": {
   "display_name": "Python 3 (ipykernel)",
   "language": "python",
   "name": "python3"
  },
  "language_info": {
   "codemirror_mode": {
    "name": "ipython",
    "version": 3
   },
   "file_extension": ".py",
   "mimetype": "text/x-python",
   "name": "python",
   "nbconvert_exporter": "python",
   "pygments_lexer": "ipython3",
   "version": "3.10.9"
  },
  "vscode": {
   "interpreter": {
    "hash": "2c241b0a2dbb25395996509cdcc402c15755508b0c1cfb1ecdb3734d0a06b466"
   }
  }
 },
 "nbformat": 4,
 "nbformat_minor": 2
}
