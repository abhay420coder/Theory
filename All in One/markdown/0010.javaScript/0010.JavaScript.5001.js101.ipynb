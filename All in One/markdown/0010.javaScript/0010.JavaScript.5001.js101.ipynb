{
 "cells": [
  {
   "attachments": {},
   "cell_type": "markdown",
   "metadata": {},
   "source": [
    "# Intro\n",
    "* JavaScript is a wonderful programming language to learn for beginners.\n",
    "* it is also a horrible programming language to learn for beginners \n",
    "* on one hand \n",
    "  * you can build almost anything with it and get a job anywhere if you master it \n",
    "* on the other hand \n",
    "  * it is weired ugly and surrounded by a dystopian wasteland of frameworks and libraries \n",
    "* with the help of javaScript you can build \n",
    "  * mobile app\n",
    "  * desktop app\n",
    "  * web app\n",
    "  * server\n",
    "  * OS\n",
    "  * artificial intelligence\n",
    "* JavaScript is created in 1993 by brendan like at NestCape \n"
   ]
  },
  {
   "attachments": {},
   "cell_type": "markdown",
   "metadata": {},
   "source": [
    "# covered Topics\n"
   ]
  },
  {
   "cell_type": "markdown",
   "metadata": {},
   "source": [
    "\n",
    "1. Web Browser\n",
    "2. HTML\n",
    "3. High Level\n",
    "4. ECMA\n",
    "5. WASM\n",
    "6. RunTime\n",
    "7. Scripting Language\n",
    "8. Browser Dev Tools\n",
    "9. Interpreted\n",
    "10. V8 Engine\n"
   ]
  },
  {
   "cell_type": "markdown",
   "metadata": {},
   "source": [
    "11. Just-In-Time Compilation\n",
    "12. Script Tag\n",
    "13. SRC Attribute\n",
    "14. Console Tag\n",
    "15. Let\n",
    "16. Dynamically Typed\n",
    "17. Primitive\n",
    "18. Mutable\n",
    "19. Undefined\n",
    "20. Null\n"
   ]
  },
  {
   "cell_type": "markdown",
   "metadata": {},
   "source": [
    "21. String\n",
    "22. Object\n",
    "23. Semicolons\n",
    "24. Const\n",
    "25. Var\n",
    "26. Lexical Environment\n",
    "27. Global Scope\n",
    "28. Function\n",
    "29. Local Scope\n",
    "30. Block Scope\n"
   ]
  },
  {
   "cell_type": "markdown",
   "metadata": {},
   "source": [
    "31. Hoisting\n",
    "32. Function Definition\n",
    "33. Argunments\n",
    "34. Return\n",
    "35. Function Expression\n",
    "36. High Order Functions\n",
    "37. CLosures\n",
    "38. Call Stack\n",
    "39. Heap\n",
    "40. This\n"
   ]
  },
  {
   "cell_type": "markdown",
   "metadata": {},
   "source": [
    "41. Window or GLobal\n",
    "42. Bind\n",
    "43. Arrow Functions\n",
    "44. Anonymous\n",
    "45. Passed By Value\n",
    "46. Passed By Reference\n",
    "47. Object Literal\n",
    "48. Object Constructor\n",
    "49. Property\n",
    "50. Prototype chain\n"
   ]
  },
  {
   "cell_type": "markdown",
   "metadata": {},
   "source": [
    "51. Inheritance\n",
    "52. oop\n",
    "53. classes\n",
    "54. constructor\n",
    "55. get/set\n",
    "56. instance method\n",
    "57. static method\n",
    "58. array\n",
    "59. set\n",
    "60. map\n"
   ]
  },
  {
   "cell_type": "markdown",
   "metadata": {},
   "source": [
    "61. garbage collection\n",
    "62. weakMap & weakSet\n",
    "63. Event loop\n",
    "64. Sync\n",
    "65. Async\n",
    "66. Single Threaded\n",
    "67. SetTimeOut\n",
    "68. CallBack\n",
    "69. Promise\n",
    "70. Resolve\n"
   ]
  },
  {
   "cell_type": "markdown",
   "metadata": {},
   "source": [
    "71. Reject\n",
    "72. Then/Catch\n",
    "73. Async\n",
    "74. Await\n",
    "75. Try/Catch\n",
    "76. ES Modules\n",
    "77. Default Import/Export\n",
    "78. Named Import/Export\n",
    "79. Npm\n",
    "80. Node Modules\n"
   ]
  },
  {
   "cell_type": "markdown",
   "metadata": {},
   "source": [
    "81. PackaGE.json\n",
    "82. doM\n",
    "83. Document\n",
    "84. QuerySelector\n",
    "85. Selector\n",
    "86. QuerySelectorAll\n",
    "87. Element\n",
    "88. EVent\n",
    "89. Imperative\n",
    "90. Declarative\n"
   ]
  },
  {
   "cell_type": "markdown",
   "metadata": {},
   "source": [
    "91. Components\n",
    "92. Data Binding\n",
    "93. Module Bundling\n",
    "94. Network Waterfall\n",
    "95. Dynamics import\n",
    "96. Node.js\n",
    "97. Express\n",
    "98. MetaFrameWork\n",
    "99. TypeScript\n",
    "100. "
   ]
  },
  {
   "attachments": {},
   "cell_type": "markdown",
   "metadata": {},
   "source": [
    "1. Browser\n",
    "   * at the time the web browser was cutting edge technology \n",
    "     * that connected everybdy on the planet via the WWW(world wide web)\n",
    "2. HTML\n",
    "   * At the time the web Site were completely static with pure HTML\n",
    "3. High Level Language\n",
    "   * JavaScript was designed as an easy to use high level language \n",
    "     * to help developers make these websites interactivetoday\n",
    "   * Now JS is arguably most popular language in the world.\n",
    "4. EcmaScript\n",
    "   * "
   ]
  },
  {
   "cell_type": "markdown",
   "metadata": {},
   "source": []
  },
  {
   "cell_type": "code",
   "execution_count": null,
   "metadata": {},
   "outputs": [],
   "source": []
  }
 ],
 "metadata": {
  "kernelspec": {
   "display_name": "Python 3",
   "language": "python",
   "name": "python3"
  },
  "language_info": {
   "name": "python",
   "version": "3.10.11 (tags/v3.10.11:7d4cc5a, Apr  5 2023, 00:38:17) [MSC v.1929 64 bit (AMD64)]"
  },
  "orig_nbformat": 4,
  "vscode": {
   "interpreter": {
    "hash": "2c241b0a2dbb25395996509cdcc402c15755508b0c1cfb1ecdb3734d0a06b466"
   }
  }
 },
 "nbformat": 4,
 "nbformat_minor": 2
}
