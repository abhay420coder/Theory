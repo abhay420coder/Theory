{
 "cells": [
  {
   "cell_type": "markdown",
   "metadata": {},
   "source": [
    "# An introduction\n",
    "\n",
    "1. An Introduction to JavaScript\n",
    "2. Manuals and specifications\n",
    "3. Code editors\n",
    "4. Developer console"
   ]
  },
  {
   "cell_type": "markdown",
   "metadata": {},
   "source": [
    "\n",
    "# What is JavaScript?\n",
    "\n",
    "JavaScript was initially created to “make web pages alive”.\n",
    "\n",
    "The programs in this language are called scripts. They can be written right in a web page’s HTML and run automatically as the page loads.\n",
    "\n",
    "Scripts are provided and executed as plain text. They don’t need special preparation or compilation to run.\n",
    "\n",
    "In this aspect, JavaScript is very different from another language called Java."
   ]
  },
  {
   "cell_type": "markdown",
   "metadata": {},
   "source": [
    "\n",
    "> ## Why is it called JavaScript?\n",
    ">\n",
    "> * When JavaScript was created, it initially had another name: “LiveScript”.\n",
    "> * But Java was very popular at that time,\n",
    ">   * so it was decided that positioning a new language as a “younger brother” of Java would help.\n",
    ">\n",
    "> * But as it evolved,\n",
    ">   * JavaScript became a fully independent language with its own specification called ECMAScript,\n",
    ">   * and now it has no relation to Java at all."
   ]
  },
  {
   "cell_type": "markdown",
   "metadata": {},
   "source": [
    "\n",
    "## JavaScript virtual machine\n",
    "\n",
    "* Today,\n",
    "  * JavaScript can execute not only in the browser,\n",
    "  * but also on the server, or actually on any device\n",
    "    * that has a special program called the **JavaScript engine**.\n",
    "\n",
    "* The browser has an embedded engine sometimes called a “JavaScript virtual machine”.\n"
   ]
  },
  {
   "cell_type": "markdown",
   "metadata": {},
   "source": [
    "\n",
    "## Different engines have different “codenames”. For example\n",
    "\n",
    "* V8 – in Chrome, Opera and Edge.\n",
    "* SpiderMonkey – in Firefox.\n",
    "* “Chakra” for IE,\n",
    "* “JavaScriptCore”, “Nitro” and “SquirrelFish” for Safari, etc.\n"
   ]
  },
  {
   "cell_type": "markdown",
   "metadata": {},
   "source": [
    "\n",
    "## How do engines work?\n",
    "\n",
    "* Engines are complicated. But the basics are easy.\n",
    "  * The engine (embedded if it’s a browser) reads (“parses”) the script.\n",
    "  * Then it converts (“compiles”) the script to machine code.\n",
    "  * And then the machine code runs, pretty fast.\n",
    "\n",
    "* The engine applies optimizations at each step of the process.\n",
    "* It even watches the compiled script as it runs,\n",
    "  * analyzes the data that flows through it,\n",
    "  * and further optimizes the machine code based on that knowledge.\n"
   ]
  },
  {
   "cell_type": "markdown",
   "metadata": {},
   "source": [
    "\n",
    "## What can in-browser JavaScript do?\n",
    "\n",
    "* Modern JavaScript is a “safe” programming language.\n",
    "* It does not provide low-level access to memory or the CPU,\n",
    "  * because it was initially created for browsers which do not require it.\n",
    "\n",
    "* JavaScript’s capabilities greatly depend on the environment it’s running in.\n",
    "* For instance,\n",
    "  * Node.js supports functions that allow JavaScript to read/write arbitrary files,\n",
    "    * perform network requests, etc.\n",
    "\n",
    "* In-browser JavaScript can do everything related to webpage manipulation, interaction with the user, and the webserver.\n",
    "\n",
    "* For instance, in-browser JavaScript is able to:\n",
    "\n",
    "* Add new HTML to the page, change the existing content, modify styles.\n",
    "* React to user actions, run on mouse clicks, pointer movements, key presses.\n",
    "* Send requests over the network to remote servers, download and upload files (so-called AJAX and COMET technologies).\n",
    "* Get and set cookies, ask questions to the visitor, show messages.\n",
    "* Remember the data on the client-side (“local storage”).\n"
   ]
  },
  {
   "cell_type": "markdown",
   "metadata": {},
   "source": [
    "\n",
    "## What CAN’T in-browser JavaScript do?\n",
    "\n",
    "JavaScript’s abilities in the browser are limited to protect the user’s safety.\n",
    "The aim is to prevent an evil webpage from accessing private information or harming the user’s data.\n",
    "\n",
    "**Examples of such restrictions include:**\n",
    "\n",
    "* JavaScript on a webpage may not read/write arbitrary files on the hard disk, copy them or execute programs.\n",
    "  * It has no direct access to OS functions.\n",
    "\n",
    "* Modern browsers allow it to work with files, but the access is limited and only provided\n",
    "  * if the user does certain actions, like “dropping” a file into a browser window or selecting it via an `<input>` tag.\n",
    "\n",
    "* There are ways to interact with the camera/microphone and other devices,\n",
    "  * but they require a user’s explicit permission.\n",
    "  * So a JavaScript-enabled page may not sneakily enable a web-camera,\n",
    "    * observe the surroundings and send the information to the NSA.\n",
    "\n",
    "* Different tabs/windows generally do not know about each other.\n",
    "  * Sometimes they do,\n",
    "    * for example when one window uses JavaScript to open the other one.\n",
    "  * But even in this case,\n",
    "    * JavaScript from one page may not access the other page\n",
    "    * if they come from different sites (from a different domain, protocol or port).\n",
    "\n",
    "* This is called the “Same Origin Policy”.\n",
    "  * To work around that,\n",
    "    * both pages must agree for data exchange and must contain special JavaScript code that handles it.\n",
    "  * We’ll cover that in the tutorial.\n",
    "\n",
    "* This limitation is, again, for the user’s safety.\n",
    "  * A page from `<http://anysite.com>`\n",
    "    * which a user has opened must not be able to access another browser tab with the URL `<http://gmail.com>`,\n",
    "    * for example, and steal information from there.\n",
    "\n",
    "* JavaScript can easily communicate over the net to the server where the current page came from.\n",
    "  * But its ability to receive data from other sites/domains is crippled.\n",
    "  * Though possible,\n",
    "    * it requires explicit agreement (expressed in HTTP headers) from the remote side.\n",
    "  * Once again, that’s a safety limitation.\n",
    "\n",
    "![What CAN’T in-browser JavaScript do](../image/0010.JavaScript.0001.javaScript_basics_Introduction/What%20CAN’T%20in-browser%20JavaScript%20do.png)\n"
   ]
  },
  {
   "cell_type": "markdown",
   "metadata": {},
   "source": [
    "\n",
    "## What makes JavaScript unique?\n",
    "\n",
    "> ##### There are at least three great things about JavaScript\n",
    ">\n",
    "> * Full integration with HTML/CSS.\n",
    "> * Simple things are done simply.\n",
    "> * Supported by all major browsers and enabled by default.\n",
    "\n",
    "JavaScript is the only browser technology that combines these three things.\n",
    "\n",
    "That’s what makes JavaScript unique. That’s why it’s the most widespread tool for creating browser interfaces.\n",
    "\n",
    "That said, JavaScript can be used to create servers, mobile applications, etc.\n"
   ]
  },
  {
   "cell_type": "markdown",
   "metadata": {},
   "source": [
    "\n",
    "## Languages “over” JavaScript\n",
    "\n",
    "So,There are so many language, which are transpiled (converted) to JavaScript before they run in the browser.\n",
    "\n",
    "Examples of such languages:\n",
    "\n",
    "1. converter for Python to js :- **Brython**\n",
    "   * Brython is a Python transpiler to JavaScript\n",
    "     * that enables the writing of applications in pure Python without JavaScript.\n",
    "\n",
    "2. converter for Dart to js :- **dart2js**\n",
    "   * Dart is a standalone language\n",
    "     * that has its own engine\n",
    "       * that runs in non-browser environments (like mobile apps),\n",
    "       * but also can be transpiled to JavaScript. Developed by Google.\n",
    "\n",
    "3. converter for Java to js :- **java-to-javascript**\n",
    "\n",
    "   * install\n",
    "     * NPM :- `$ npm install java-to-javascript`\n",
    "     * Script tag :- `<script src=\"https://unpkg.com/java-to-javascript@latest/build/java-to-javascript.min.js\"></script>`\n",
    "\n",
    "4. converter for Kotlin to js :- **java-to-javascript**\n",
    "\n",
    "   * Kotlin is a modern,\n",
    "     * concise and safe programming language\n",
    "     * that can target the browser or Node.\n",
    "   * install\n",
    "\n",
    "5. **CoffeeScript** for JS\n",
    "\n",
    "   * CoffeeScript is “syntactic sugar” for JavaScript.\n",
    "   * It introduces shorter syntax,\n",
    "     * allowing us to write clearer and more precise code.\n",
    "   * Usually, Ruby devs like it.\n",
    "\n",
    "   * Install locally for a project:\n",
    "     * `npm install --save-dev coffeescript`\n",
    "   * Install globally to execute .coffee files anywhere:\n",
    "     * `npm install --global coffeescript`\n",
    "\n",
    "6. **TypeScript** for JS\n",
    "\n",
    "   * TypeScript is concentrated on adding “strict data typing”\n",
    "     * to simplify the development and support of complex systems.\n",
    "   * It is developed by Microsoft.\n",
    "\n",
    "   * install\n",
    "     * NPM for latest:- `npm install -g typescript`\n",
    "     * NPM for nightly builds::- `npm install -g typescript@next`\n"
   ]
  },
  {
   "cell_type": "markdown",
   "metadata": {},
   "source": [
    "\n",
    "## Languages “over” Python\n",
    "\n",
    "So,There are so many language, which are transpiled (converted) to JavaScript before they run in the browser.\n",
    "\n",
    "Examples of such languages:\n",
    "\n",
    "1. converter for Java to Python :- **Jython**\n",
    "   * Jython is a Java transpiler to Python\n",
    "     * that enables the writing of applications in pure Java without Python.\n"
   ]
  },
  {
   "cell_type": "markdown",
   "metadata": {},
   "source": [
    "\n",
    "# Developer console\n",
    "\n",
    "## Google Chrome\n",
    "\n",
    "* Open the page [bug.html](https://javascript.info/article/devtools/bug.html).\n",
    "\n",
    "* There’s an error in the JavaScript code on it. It’s hidden from a regular visitor’s eyes, so let’s open developer tools to see it.\n",
    "\n",
    "* If you’re on windows , Press `F12` or,\n",
    "* if you’re on Mac, then `Cmd+Opt+J`.\n",
    "\n",
    "* The developer tools will open on the `Console tab` by default\n"
   ]
  }
 ],
 "metadata": {
  "kernelspec": {
   "display_name": "Python 3 (ipykernel)",
   "language": "python",
   "name": "python3"
  },
  "language_info": {
   "codemirror_mode": {
    "name": "ipython",
    "version": 3
   },
   "file_extension": ".py",
   "mimetype": "text/x-python",
   "name": "python",
   "nbconvert_exporter": "python",
   "pygments_lexer": "ipython3",
   "version": "3.10.9 (tags/v3.10.9:1dd9be6, Dec  6 2022, 20:01:21) [MSC v.1934 64 bit (AMD64)]"
  },
  "vscode": {
   "interpreter": {
    "hash": "2c241b0a2dbb25395996509cdcc402c15755508b0c1cfb1ecdb3734d0a06b466"
   }
  }
 },
 "nbformat": 4,
 "nbformat_minor": 2
}
