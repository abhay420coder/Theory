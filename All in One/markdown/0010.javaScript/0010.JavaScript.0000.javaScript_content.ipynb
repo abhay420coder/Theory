{
 "cells": [
  {
   "cell_type": "markdown",
   "metadata": {},
   "source": [
    "# Topic wise"
   ]
  },
  {
   "cell_type": "markdown",
   "metadata": {},
   "source": [
    "## 1. An introduction\n",
    "\n",
    "1. An Introduction to JavaScript\n",
    "2. Manuals and specifications\n",
    "3. Code editors\n",
    "4. Developer console"
   ]
  },
  {
   "cell_type": "markdown",
   "metadata": {},
   "source": [
    "## 2. JavaScript Fundamentals\n",
    "   \n",
    "1. Hello, world!\n",
    "2. Code structure\n",
    "3. The modern mode, \"use strict\"\n",
    "4. Variables\n",
    "5. Data types\n",
    "6. Interaction: alert, prompt, confirm\n",
    "7. Type Conversions\n",
    "8. Basic operators, maths\n",
    "9. Comparisons\n",
    "10. Conditional branching: if, '?'\n",
    "11. Logical operators\n",
    "12. Nullish coalescing operator '??'\n",
    "13. Loops: while and for\n",
    "14. The \"switch\" statement\n",
    "15. Functions\n",
    "16. Function expressions\n",
    "17. Arrow functions, the basics\n",
    "18. JavaScript specials"
   ]
  },
  {
   "cell_type": "markdown",
   "metadata": {},
   "source": [
    "## 3. Code quality\n",
    "\n",
    "1. Debugging in the browser\n",
    "2. Coding Style\n",
    "3. Comments\n",
    "4. Ninja code\n",
    "5. Automated testing with Mocha\n",
    "6. Polyfills and transpilers"
   ]
  },
  {
   "cell_type": "markdown",
   "metadata": {},
   "source": [
    "## 4. Objects: the basics\n",
    "   \n",
    "1. Objects\n",
    "2. Object references and copying\n",
    "3. Garbage collection\n",
    "4. Object methods, \"this\"\n",
    "5. Constructor, operator \"new\"\n",
    "6. Optional chaining '?.'\n",
    "7. Symbol type\n",
    "8. Object to primitive conversion"
   ]
  },
  {
   "cell_type": "markdown",
   "metadata": {},
   "source": [
    "## 5. Data types\n",
    "\n",
    "1. Methods of primitives\n",
    "2. Numbers\n",
    "3. Strings\n",
    "4. Arrays\n",
    "5. Array methods\n",
    "6. Iterables\n",
    "7. Map and Set\n",
    "8. WeakMap and WeakSet\n",
    "9. Object.keys, values, entries\n",
    "10. Destructuring assignment\n",
    "11. Date and time\n",
    "12. JSON methods, toJSON"
   ]
  },
  {
   "cell_type": "markdown",
   "metadata": {},
   "source": [
    "## 6. Advanced working with functions\n",
    "    \n",
    "1. Recursion and stack\n",
    "2. Rest parameters and spread syntax\n",
    "3. Variable scope, closure\n",
    "4. The old \"var\"\n",
    "5. Global object\n",
    "6. Function object, NFE\n",
    "7. The \"new Function\" syntax\n",
    "8. Scheduling: setTimeout and setInterval\n",
    "9. Decorators and forwarding, call/apply\n",
    "10. Function binding\n",
    "11. Arrow functions revisited"
   ]
  },
  {
   "cell_type": "markdown",
   "metadata": {},
   "source": [
    "## 7. Object properties configuration\n",
    "\n",
    "1. Property flags and descriptors\n",
    "2. Property getters and setters"
   ]
  },
  {
   "cell_type": "markdown",
   "metadata": {},
   "source": [
    "## 8. Prototypes, inheritance\n",
    "\n",
    "1. Prototypal inheritance\n",
    "2. F.prototype\n",
    "3. Native prototypes\n",
    "4. Prototype methods, objects without `__proto__`"
   ]
  },
  {
   "cell_type": "markdown",
   "metadata": {},
   "source": [
    "## 9. Classes\n",
    "1. Class basic syntax\n",
    "2. Class inheritance\n",
    "3. Static properties and methods\n",
    "4. Private and protected properties and methods\n",
    "5. Extending built-in classes\n",
    "6. Class checking: \"instanceof\"\n",
    "7. Mixins"
   ]
  },
  {
   "cell_type": "markdown",
   "metadata": {},
   "source": [
    "## 10. Error handling\n",
    "\n",
    "1. Error handling, \"try...catch\"\n",
    "2. Custom errors, extending Error"
   ]
  },
  {
   "cell_type": "markdown",
   "metadata": {},
   "source": [
    "## 11. Promises, async/await\n",
    "1. Introduction: callbacks\n",
    "2. Promise\n",
    "3. Promises chaining\n",
    "4. Error handling with promises\n",
    "5. Promise API\n",
    "6. Promisification\n",
    "7. Microtasks\n",
    "8. Async/await"
   ]
  },
  {
   "cell_type": "markdown",
   "metadata": {},
   "source": [
    "## 12. Generators, advanced iteration\n",
    "\n",
    "1. Generators\n",
    "2. Async iteration and generators"
   ]
  },
  {
   "cell_type": "markdown",
   "metadata": {},
   "source": [
    "## 13. Modules\n",
    "    \n",
    "1. Modules, introduction\n",
    "2. Export and Import\n",
    "3. Dynamic imports"
   ]
  },
  {
   "cell_type": "markdown",
   "metadata": {},
   "source": [
    "## 14. Miscellaneous\n",
    "\n",
    "1. Proxy and Reflect\n",
    "2. Eval: run a code string\n",
    "3. Currying\n",
    "4. Reference Type\n",
    "5. BigInt\n",
    "6. Unicode, String internals"
   ]
  },
  {
   "cell_type": "markdown",
   "metadata": {},
   "source": [
    "## 15. Document\n",
    "\n",
    "1. Browser environment, specs\n",
    "2. DOM tree\n",
    "3. Walking the DOM\n",
    "4. Searching: getElement*, querySelector*\n",
    "5. Node properties: type, tag and contents\n",
    "6. Attributes and properties\n",
    "7. Modifying the document\n",
    "8. Styles and classes\n",
    "9. Element size and scrolling\n",
    "10. Window sizes and scrolling\n",
    "11. Coordinates"
   ]
  },
  {
   "cell_type": "markdown",
   "metadata": {},
   "source": [
    "## 16. Introduction to Events\n",
    "\n",
    "1. Introduction to browser events\n",
    "2. Bubbling and capturing\n",
    "3. Event delegation\n",
    "4. Browser default actions\n",
    "5. Dispatching custom events"
   ]
  },
  {
   "cell_type": "markdown",
   "metadata": {},
   "source": [
    "## 17. UI Events\n",
    "    \n",
    "1. Mouse events\n",
    "2. Moving the mouse: mouseover/out, mouseenter/leave\n",
    "3. Drag'n'Drop with mouse events\n",
    "4. Pointer events\n",
    "5. Keyboard: keydown and keyup\n",
    "6. Scrolling"
   ]
  },
  {
   "cell_type": "markdown",
   "metadata": {},
   "source": [
    "## 18. Forms, controls\n",
    "    \n",
    "1. Form properties and methods\n",
    "2. Focusing: focus/blur\n",
    "3. Events: change, input, cut, copy, paste\n",
    "4. Forms: event and method submit"
   ]
  },
  {
   "cell_type": "markdown",
   "metadata": {},
   "source": [
    "## 19. Document and resource loading\n",
    "\n",
    "1. Page: DOMContentLoaded, load, beforeunload, unload\n",
    "2. Scripts: async, defer\n",
    "3. Resource loading: onload and onerror"
   ]
  },
  {
   "cell_type": "markdown",
   "metadata": {},
   "source": [
    "## 20. Miscellaneous\n",
    "\n",
    "1. Mutation observer\n",
    "2. Selection and Range\n",
    "3. Event loop: microtasks and macrotasks"
   ]
  },
  {
   "cell_type": "markdown",
   "metadata": {},
   "source": [
    "## 21. Frames and windows\n",
    "\n",
    "1. Popups and window methods\n",
    "2. Cross-window communication\n",
    "3. The clickjacking attack"
   ]
  },
  {
   "cell_type": "markdown",
   "metadata": {},
   "source": [
    "## 22. Binary data, files\n",
    "\n",
    "1. ArrayBuffer, binary arrays\n",
    "2. TextDecoder and TextEncoder\n",
    "3. Blob\n",
    "4. File and FileReader"
   ]
  },
  {
   "cell_type": "markdown",
   "metadata": {},
   "source": [
    "## 23. Network requests\n",
    "\n",
    "1. Fetch\n",
    "2. FormData\n",
    "3. Fetch: Download progress\n",
    "4. Fetch: Abort\n",
    "5. Fetch: Cross-Origin Requests\n",
    "6. Fetch API\n",
    "7. URL objects\n",
    "8. XMLHttpRequest\n",
    "9. Resumable file upload\n",
    "10. Long polling\n",
    "11. WebSocket\n",
    "12. Server Sent Events"
   ]
  },
  {
   "cell_type": "markdown",
   "metadata": {},
   "source": [
    "## 24. Storing data in the browser\n",
    "\n",
    "1. Cookies, document.cookie\n",
    "2. LocalStorage, sessionStorage\n",
    "3. IndexedDB"
   ]
  },
  {
   "cell_type": "markdown",
   "metadata": {},
   "source": [
    "## 25. Animation\n",
    "\n",
    "1. Bezier curve\n",
    "2. CSS-animations\n",
    "3. JavaScript animations"
   ]
  },
  {
   "cell_type": "markdown",
   "metadata": {},
   "source": [
    "## 26. Web components\n",
    "\n",
    "1. From the orbital height\n",
    "2. Custom elements\n",
    "3. Shadow DOM\n",
    "4. Template element\n",
    "5. Shadow DOM slots, composition\n",
    "6. Shadow DOM styling\n",
    "7. Shadow DOM and events"
   ]
  },
  {
   "cell_type": "markdown",
   "metadata": {},
   "source": [
    "## 27. Regular expressions\n",
    "\n",
    "1. Patterns and flags\n",
    "2. Character classes\n",
    "3. Unicode: flag \"u\" and class \\p{...}\n",
    "4. Anchors: string start ^ and end $\n",
    "5. Multiline mode of anchors ^ $, flag \"m\"\n",
    "6. Word boundary: \\b\n",
    "7. Escaping, special characters\n",
    "8. Sets and ranges [...]\n",
    "9. Quantifiers +, *, ? and {n}\n",
    "10. Greedy and lazy quantifiers\n",
    "11. Capturing groups\n",
    "12. Backreferences in pattern: \\N and `\\k<name>`\n",
    "13. Alternation (OR) |\n",
    "14. Lookahead and lookbehind\n",
    "15. Catastrophic backtracking\n",
    "16. Sticky flag \"y\", searching at position\n",
    "17. Methods of RegExp and String"
   ]
  },
  {
   "cell_type": "markdown",
   "metadata": {},
   "source": [
    "# How many language jupyter supported\n",
    "\n",
    "%lsmagic\n",
    "\n",
    "\n",
    "Available line magics:\n",
    "* %alias  %alias_magic  %autoawait  %autocall \n",
    "* %automagic  %autosave  %bookmark  %cd  %clear  \n",
    "* %cls  %colors  %conda  %config  %connect_info  \n",
    "* %copy  %ddir  %debug  %dhist  %dirs  %doctest_mode  \n",
    "* %echo  %ed  %edit  %env  %gui  %hist  %history  \n",
    "* %killbgscripts  %ldir  %less  %load  %load_ext  \n",
    "* %loadpy  %logoff  %logon  %logstart  %logstate  \n",
    "* %logstop  %ls  %lsmagic  %macro  %magic  %matplotlib  \n",
    "* %mkdir  %more  %notebook  %page  %pastebin  %pdb  \n",
    "* %pdef  %pdoc  %pfile  %pinfo  %pinfo2  %pip  %popd  \n",
    "* %pprint  %precision  %prun  %psearch  %psource  %pushd  \n",
    "* %pwd  %pycat  %pylab  %qtconsole  %quickref  %recall  \n",
    "* %rehashx  %reload_ext  %ren  %rep  %rerun  %reset  \n",
    "* %reset_selective  %rmdir  %run  %save  %sc  %set_env  \n",
    "* %store  %sx  %system  %tb  %time  %timeit  %unalias  \n",
    "* %unload_ext  %who  %who_ls  %whos  %xdel  %xmode\n",
    "\n",
    "Available cell magics:\n",
    "* %%!  %%HTML  %%SVG  %%bash  %%capture  %%cmd  \n",
    "* %%debug  %%file  %%html  %%javascript  %%js  \n",
    "* %%latex  %%markdown  %%perl  %%prun  %%pypy  \n",
    "* %%python  %%python2  %%python3  %%ruby  %%script  \n",
    "* %%sh  %%svg  %%sx  %%system  %%time  %%timeit  \n",
    "* %%writefile\n",
    "\n",
    "Automagic is ON, % prefix IS NOT needed for line magics."
   ]
  },
  {
   "cell_type": "code",
   "execution_count": 3,
   "metadata": {},
   "outputs": [
    {
     "name": "stdout",
     "output_type": "stream",
     "text": [
      "10\n"
     ]
    }
   ],
   "source": [
    "a = 10\n",
    "print(a)"
   ]
  },
  {
   "cell_type": "code",
   "execution_count": null,
   "metadata": {},
   "outputs": [],
   "source": [
    "%%js\n",
    "\n",
    "a = 10"
   ]
  }
 ],
 "metadata": {
  "kernelspec": {
   "display_name": "Python 3 (ipykernel)",
   "language": "python",
   "name": "python3"
  },
  "language_info": {
   "codemirror_mode": {
    "name": "ipython",
    "version": 3
   },
   "file_extension": ".py",
   "mimetype": "text/x-python",
   "name": "python",
   "nbconvert_exporter": "python",
   "pygments_lexer": "ipython3",
   "version": "3.10.9"
  },
  "vscode": {
   "interpreter": {
    "hash": "2c241b0a2dbb25395996509cdcc402c15755508b0c1cfb1ecdb3734d0a06b466"
   }
  }
 },
 "nbformat": 4,
 "nbformat_minor": 2
}
