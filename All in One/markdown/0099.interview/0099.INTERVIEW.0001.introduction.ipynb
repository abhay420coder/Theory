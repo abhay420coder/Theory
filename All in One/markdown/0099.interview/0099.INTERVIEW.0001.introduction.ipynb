{
 "cells": [
  {
   "cell_type": "code",
   "execution_count": null,
   "metadata": {},
   "outputs": [],
   "source": []
  },
  {
   "cell_type": "markdown",
   "metadata": {},
   "source": [
    "# Content"
   ]
  },
  {
   "cell_type": "markdown",
   "metadata": {},
   "source": [
    "## Common Question\n",
    "\n",
    "* Tell me about yourself.\n",
    "* What is your greatest strength?\n",
    "* What is your greatest weakness?\n",
    "* Why should we hire you?\n",
    "* Why do you want to work here?\n",
    "* Tell me about a time you showed leadership.\n",
    "* Tell me about a time you were successful on a team.\n",
    "* What would your co-workers say about you?\n",
    "* Why do you want to leave your current role?\n",
    "* Describe your most challenging project.\n",
    "* Tell me about something you’ve accomplished that you are proud of.\n",
    "* Can you explain your employment gap?\n",
    "* What are your salary expectations?\n",
    "* What do you like to do outside of work?\n",
    "* Tell me about a time you had to manage conflicting priorities.\n",
    "* Where do you see yourself in 5 years?\n",
    "* Describe your leadership style.\n",
    "* Tell me about a time you failed or made a mistake.\n",
    "* Tell me about a time you worked with a difficult person.\n",
    "* Tell me about a time you had to persuade someone.\n",
    "* Tell me about a time you disagreed with someone.\n",
    "* Tell me about a time you created a goal and achieved it.\n",
    "* Tell me about a time you surpassed people’s expectations.\n",
    "* Tell me about a time you had to handle pressure.\n",
    "* Tell me about a time you had to learn something quickly.\n",
    "* Do you have any questions for me?\n"
   ]
  },
  {
   "cell_type": "markdown",
   "metadata": {},
   "source": [
    "## Software Engineer\n",
    "\n",
    "* Why do you want to work for our company?\n",
    "* What kind of tech team dynamic do you excel in?\n",
    "* Let’s say there are two kinds of tech workers: the innovators and the executors. Which of these categories do you fit into?\n",
    "* How do you measure success for yourself technically?\n",
    "* Why do you think that technical teams need to be inclusive and represent a variety of backgrounds?\n",
    "* When you join a new technical initiative, what is the first thing you do?\n",
    "* If you had to pick between owning the entire process for one product versus contributing to multiple products at once, how would you decide?\n",
    "* If you were stuck in solving a technical problem, how would you ask for help?\n",
    "* How would you explain concepts like polymorphism and inheritance to a computer science student?\n",
    "* How would you explain a web service infrastructure to a technical audience with a software background but limited system-level knowledge?\n",
    "* What would you do if asked to take on a problem where you did not have the technical skills?\n",
    "* Tell me about the most challenging technical problem you have solved?\n",
    "* Explain how you would design a ride-sharing app.\n",
    "* Explain how you’d design Twitter and the system tradeoffs involved.\n",
    "* Give me an example of how you’d secure data so that it cannot be misused or inappropriately accessed.\n",
    "* Tell me about a time you disagreed with a fellow engineer and how that issue was resolved.\n",
    "* Tell me about a time when insights about the industry or customers impacted your technical execution.\n",
    "* Tell me about a time you had to push back on an unreasonable request from an executive or customer.\n",
    "* What do you think an ideal product-engineering relationship should look like?\n",
    "* How would you drive alignment among senior leadership to help accelerate decisions?\n",
    "* How do you measure success in an engineering project?\n",
    "* What is the mix of technical and management qualities you look for in engineering leaders and\n"
   ]
  },
  {
   "cell_type": "markdown",
   "metadata": {},
   "source": [
    "## Sales Development Representative\n",
    "\n",
    "* What are you looking for from this company?\n",
    "* Why do you want to work in sales?\n",
    "* Walk me through your sales background.\n",
    "* How many phone calls can you make in a day?\n",
    "* How did you prepare for and hit your quota goal?\n",
    "* How do you deal with customer rejections?\n",
    "* Leave me a voicemail.\n",
    "* Where would you research a prospect before you reach out?\n",
    "* How do you address common objections when you are selling?\n",
    "* What kind of techniques do you use to close a sale?\n",
    "* How do you handle yourself in the face of angry customers?\n",
    "* Describe a time you had to deal with a difficult client.\n",
    "* How did you overcome a difficult sales project?\n",
    "* What do you say to a client when you under-deliver?\n",
    "* How do you handle a question when you don't know the answer?\n",
    "* Walk me through your prospecting strategy.\n",
    "* How do you manage (or fire) a toxic client?\n",
    "* Tell me about a deal you lost and what you'd do differently.\n",
    "* What would your clients say about you?\n",
    "* Let's role play interacting with an angry customer."
   ]
  },
  {
   "cell_type": "markdown",
   "metadata": {},
   "source": [
    "## Business Analyst\n",
    "\n",
    "\n",
    "* How do you communicate a complex concept, process, or quantitative data? Please take an example you know well, and explain it to me.\n",
    "* Tell me about a time you disagreed with leadership. How did you convince a manager or stakeholder to change their strategy or course of action?\n",
    "* Tell me about a time you disagreed with your collaborators. How did you work through it?\n",
    "* Tell me about a time you had to explain complex quantitative data to a stakeholder who’d never seen the data before. How did you approach the situation?\n",
    "* What tools do you use most in your current role? How and when do you apply those tools?\n",
    "* Tell me about a time you brought different perspectives together to solve a problem.\n",
    "* Tell me about a dashboard or report you created. How did you decide what data to include and how to present it?\n",
    "* Walk me through a discounted cash flow analysis.\n",
    "* Tell me about a time you had to deal with conflicting or messy data. How did you resolve this?\n",
    "* What areas of opportunity do you see for our company?\n",
    "* Tell me about a time you had to make a complex business decision. How did you arrive at your conclusion and what were the trade-offs?\n",
    "* What do you see as the main risks facing our industry?\n",
    "* Tell me about a time you identified a business opportunity and persuaded the team to turn it into an active project?\n",
    "* Tell me about a time you solved an ambiguous problem.\n",
    "* Tell me about a time you had to solve a problem without having the resources or full view of the data. What was your approach?\n",
    "* Tell me about a time you used quantitative data analysis to solve a business problem.\n",
    "* How do you prioritize projects and requests when there are multiple workstreams?\n",
    "* Tell me about a time you had to shuffle priorities to meet an urgent request with an aggressive deadline. How did you approach the situation?\n",
    "* Tell me about a time you built a relationship with a key stakeholder to complete a project.\n",
    "* How do you give feedback to a team member whose performance isn’t meeting expectations?\n",
    "* Tell me about a time you took on responsibility outside of your job duties and why you chose to do so.\n",
    "* What approach do you find most effective in collaborating with multiple stakeholders?\n",
    "* Tell me about a time you failed or made a mistake. What did"
   ]
  },
  {
   "cell_type": "markdown",
   "metadata": {},
   "source": [
    "## Administrative Assistant\n",
    "\n",
    "* What are your most effective ways to partner with your executive?\n",
    "* How do you safeguard confidential information?\n",
    "* What are your best methods for dealing with difficult people?\n",
    "* What projects have you managed?\n",
    "* How have you implemented or refined processes and what was the overall impact?\n",
    "* How do you approach tasks or projects that you do not know or feel comfortable with?\n",
    "* What are your most noteworthy skills that you use to conserve your executive’s time?\n",
    "* How does this position fit into your career goals?\n",
    "* Do you have a daily to do list? How do you manage your daily tasks to ensure they are completed in a timely manner?\n",
    "* Describe what you do to mitigate mistakes in your work.\n",
    "* How do you improve your current skills and when is the last time you participated in professional development?\n",
    "* What do you consider to be your strongest technical skills?\n",
    "* What kind of operational support have you provided to a leadership team?\n",
    "* What team-building strategies can you introduce to improve relationships within the department/organization?\n",
    "* How do you work to maintain positive morale in your office environment?"
   ]
  },
  {
   "cell_type": "markdown",
   "metadata": {},
   "source": [
    "## Leadership\n",
    "\n",
    "* Tell me/us about the time you demonstrated leadership skills at work?\n",
    "* What is your leadership style?\n",
    "* Which supporting skills do you think are more important for a leader?\n",
    "* How do you manage a conflict situation?\n",
    "* What was the hardest decision you have taken as a leader? What helped you to prompt the best course of action?\n",
    "* How do you ensure your team delivers quality work within the specified timeframe and budget?\n",
    "* How do you motivate an under-performing team member?\n",
    "* Tell me/us about your approach to delegation?\n",
    "* Can you describe a time when you led by example?\n",
    "* Have you ever served in a mentor role? \n",
    "* How do you monitor a team’s performance?\n",
    "* How would you boost a sagging team’s morale?\n",
    "* How do you respond to ideas/suggestions from team members?\n",
    "* Who do you look up to as an ideal leader, and why?\n",
    "* How do you respond to criticism at the workplace?\n",
    "* What steps do you take to measure your performance at work?\n",
    "* How do you evaluate the capabilities of a new team member? \n",
    "* How can you contribute to a positive work culture?\n",
    "* If you suddenly become short-staffed before a deadline, how will you manage the deliverables without compromising their quality and timeframe?\n",
    "* How can your presence add value to the company?\n",
    "* Why should we hire you as team leader?\n",
    "* How do you introduce yourself to a team leader interview?\n",
    "* What qualities should a team leader have?"
   ]
  },
  {
   "cell_type": "markdown",
   "metadata": {},
   "source": [
    "## Criticism"
   ]
  },
  {
   "cell_type": "markdown",
   "metadata": {},
   "source": [
    "# Common Question"
   ]
  },
  {
   "cell_type": "markdown",
   "metadata": {},
   "source": [
    "## Tell me about yourself. (Introduce YourSelf)  \n",
    "\n",
    "* Good evening Sir/Madam,\n",
    "* I am glad to be here for the interview. \n",
    "* I am Abhay, an engineering graduate from VTU. \n",
    "* I graduated in the year 2022, and since then I have been working as a Associate Software Engineer.  \n",
    "* I have worked upon various e-commerce web application, \n",
    "  * designed 100+ pages and implemented 50+ features, \n",
    "  * like searching, api integration , payment integration and so on. \n",
    "* I always had an interest in exploring the different type of solution which help make smmoth user experience .\n",
    "* And during my graduation, I built a wather application and my portfolio. \n",
    "* I am very good in Javascript, ANgular, \n",
    "* As of now, I am looking forward to expanding my portfolio and enhance my technical skills as a Software Engineer III.\n",
    "* That’s a brief about me, and thanks for this opportunity."
   ]
  },
  {
   "cell_type": "markdown",
   "metadata": {},
   "source": [
    "\n",
    "## What is your greatest strength?\n",
    "\n",
    "* My biggest strength is focused ,Problem-solving and Detail-oriented. \n",
    "* As an associate engineer at my current Company , we were making an product detail that was a default image if image will not come from api.\n",
    "* Then i felt i should not do only for default image, we should also do for default heading and default description . many times i thinked more detail about cases during developing the feature.\n",
    "\n",
    "* one day i got a task when i should work on api interceptor, \n",
    "\n",
    "* So, we allocated more time to each speaker and added a QA section at the end of each speech. We also encouraged the present speakers to talk about their business and personal experience more in-depth after they were done with their speech.\n",
    "\n",
    "* As for being understaffed, one day before the conference, I reached out to my network and found 2 students who were willing to help out. I personally met them 2 hours before the conference and got them up to speed with everything we were doing for the day, and gave them their tasks.\n",
    "\n",
    "* In the end, everything went well without any other problems popping up.”\n"
   ]
  },
  {
   "cell_type": "markdown",
   "metadata": {},
   "source": [
    "## What is your greatest weakness?\n",
    "## Why should we hire you?\n",
    "## Why do you want to work here?\n",
    "## Tell me about a time you showed leadership.\n",
    "## Tell me about a time you were successful on a team.\n",
    "## What would your co-workers say about you?\n",
    "## Why do you want to leave your current role?\n",
    "## Describe your most challenging project.\n",
    "## Tell me about something you’ve accomplished that you are proud of.\n",
    "## Can you explain your employment gap?\n",
    "## What are your salary expectations?\n",
    "## What do you like to do outside of work?\n",
    "## Tell me about a time you had to manage conflicting priorities.\n",
    "## Where do you see yourself in 5 years?\n",
    "## Describe your leadership style.\n",
    "## Tell me about a time you failed or made a mistake.\n",
    "## Tell me about a time you worked with a difficult person.\n",
    "## Tell me about a time you had to persuade someone.\n",
    "## Tell me about a time you disagreed with someone.\n",
    "## Tell me about a time you created a goal and achieved it.\n",
    "## Tell me about a time you surpassed people’s expectations.\n",
    "## Tell me about a time you had to handle pressure.\n",
    "## Tell me about a time you had to learn something quickly.\n",
    "## Do you have any questions for me?"
   ]
  },
  {
   "cell_type": "markdown",
   "metadata": {},
   "source": [
    "* byjus class product\n",
    "* byjus working model kya hai\n",
    "* byjus ke bare me\n",
    "  * \n",
    "* call pitch\n"
   ]
  }
 ],
 "metadata": {
  "language_info": {
   "name": "python"
  },
  "orig_nbformat": 4
 },
 "nbformat": 4,
 "nbformat_minor": 2
}
