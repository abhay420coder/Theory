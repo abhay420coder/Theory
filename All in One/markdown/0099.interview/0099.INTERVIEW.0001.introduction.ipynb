{
 "cells": [
  {
   "cell_type": "code",
   "execution_count": null,
   "metadata": {},
   "outputs": [],
   "source": []
  },
  {
   "cell_type": "markdown",
   "metadata": {},
   "source": [
    "# Introduce YourSelf\n",
    "\n",
    "* Good morning, first of all, thanks for giving me an opportunity to introduce myself in front of you.\n",
    "\n",
    "> * Good evening Sir/Madam,\n",
    "> * I am glad to be here for the interview. \n",
    "\n",
    "> * I am Abhay, an engineering graduate from VTU. \n",
    "> * I graduated in the year 2022, and since then I have been working as a Associate Software Engineer.  \n",
    "\n",
    "> * I have worked upon various e-commerce web application, designed 100+ pages and implemented 50+ features, like searching, api integration , payment integration and so on. \n",
    "> * I always had an interest in exploring the different type of solution which help make smmoth user experience .\n",
    "> * And during my graduation, I built a wather application and my portfolio. \n",
    "\n",
    "> * I am very good in Javascript, ANgular, \n",
    "\n",
    "> * As of now, I am looking forward to expanding my portfolio and enhance my technical skills as a Software Engineer III.\n",
    "\n",
    "> * That’s a brief about me, and thanks for this opportunity."
   ]
  }
 ],
 "metadata": {
  "language_info": {
   "name": "python"
  },
  "orig_nbformat": 4
 },
 "nbformat": 4,
 "nbformat_minor": 2
}
