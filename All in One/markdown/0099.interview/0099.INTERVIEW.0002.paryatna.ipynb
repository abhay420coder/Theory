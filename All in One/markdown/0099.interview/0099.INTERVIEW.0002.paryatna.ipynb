{
 "cells": [
  {
   "cell_type": "code",
   "execution_count": null,
   "metadata": {},
   "outputs": [],
   "source": []
  },
  {
   "cell_type": "markdown",
   "metadata": {},
   "source": [
    "## `Can you tell me a little about yourself?`  or `introduce yourself`\n",
    "\n",
    "\n",
    "* Hi Sir/Madam,\n",
    "* First of all , I am glad to be here for the interview. \n",
    "* I am Abhay Kumar, an engineering graduate from VTU. \n",
    "* I graduated in the year 2022, and since then I have been working as a Associate Software Engineer.  \n",
    "* I have worked upon various e-commerce web application, \n",
    "  * designed 100+ pages and implemented 50+ features, \n",
    "  * like searching, api integration , payment integration and so on. \n",
    "* I always had an interest in exploring the different type of solution which help make smmoth user experience .\n",
    "* And during my graduation, I built a wather application and my portfolio. \n",
    "* I am very good in Javascript, ANgular, \n",
    "* As of now, I am looking forward to expanding my portfolio and enhance my technical skills as a Software Engineer III.\n",
    "* That’s a brief about me, and thanks for this opportunity."
   ]
  },
  {
   "cell_type": "markdown",
   "metadata": {},
   "source": [
    "## `How did you hear about the position?`\n",
    "\n",
    "* I found the position while looking for jobs online."
   ]
  },
  {
   "cell_type": "markdown",
   "metadata": {},
   "source": [
    "## `What do you know about our company?`\n",
    "\n",
    "* I know little about paryatna .\n",
    "* It helps to children with developmental disorders.\n",
    "* There are many psycoligist , thrapist , nursee and doctors  \n",
    "  * who care the children. "
   ]
  },
  {
   "cell_type": "markdown",
   "metadata": {},
   "source": [
    "## `Why did you apply for this position?`  or `Why do you want to work here?`\n",
    "\n",
    "\n",
    "* I’m very interested in your services. \n",
    "  * this is in health sector. \n",
    "* it will give me happiness, i want to be part of your organization. \n",
    "* and i am also getting more know in my field."
   ]
  },
  {
   "cell_type": "markdown",
   "metadata": {},
   "source": [
    "## `Why do you want to leave your current role?`\n",
    "* I feel like I'm ready to take on more responsibility. \n",
    "* I believe I've progressed as far as I can in my current role. \n",
    "* I need a change of environment to motivate me. \n",
    "* I want to develop a new skill that isn't required in my current job"
   ]
  },
  {
   "cell_type": "markdown",
   "metadata": {},
   "source": [
    "## `Why should we hire you?`\n",
    "* You should hire me because I have the qualifications, experience, and attitude to contribute to your company. \n",
    "* I am a honest , hard-worker , quick learner, adaptable, and possess excellent communication and problem-solving skills. \n",
    "* Furthermore, I am passionate about this field and eager to contribute to your team's success"
   ]
  },
  {
   "cell_type": "markdown",
   "metadata": {},
   "source": [
    "## `What are your greatest professional strengths?`\n",
    "* I think some of my greatest strengths are my focused and well-written code and willingness to take \n",
    "initiative. "
   ]
  },
  {
   "cell_type": "markdown",
   "metadata": {},
   "source": [
    "## `How much money are you looking to earn?`\n",
    "* Right now I’m focused on finding a job that’s the right fit for my career"
   ]
  },
  {
   "cell_type": "markdown",
   "metadata": {},
   "source": [
    "## `Tell me about a challenge or conflict you've faced at work, and how you dealt with it.`"
   ]
  },
  {
   "cell_type": "markdown",
   "metadata": {},
   "source": [
    "## `What is your dream job?`\n",
    "\n",
    "* Based on my skills and interests, in my dream job, I would want to be a full-stack developer as related to web developer."
   ]
  },
  {
   "cell_type": "markdown",
   "metadata": {},
   "source": [
    "##  `What other companies are you interviewing with?`\n",
    "\n",
    "* In fact, I think this position is a particularly good fit for my skill set because I can leverage my \n",
    "significant experience .\"\n"
   ]
  },
  {
   "cell_type": "markdown",
   "metadata": {},
   "source": [
    "## What is your greatest weakness?\n",
    "\n",
    "* So I’ve started spending a couple hours a week of my own time studying and learning this new \n",
    "area, and it’s helped me a lot.”\n"
   ]
  },
  {
   "cell_type": "markdown",
   "metadata": {},
   "source": [
    "## What type of work environment do you prefer?"
   ]
  },
  {
   "cell_type": "markdown",
   "metadata": {},
   "source": [
    "##  `Where do you see yourself in 5 years?`\n",
    "\n",
    "* In 5 years, I see myself as an integral part of the company who has helped contribute to the growth and success of the organization."
   ]
  },
  {
   "cell_type": "markdown",
   "metadata": {},
   "source": [
    "## `What are your salary expectations?`\n",
    "* I am open to discussing the compensation package. \n",
    "* Could you please provide more information about the salary range for this position?\n",
    "\n",
    "* `How much would you be happy making?`\n",
    "* I would be happy making a competitive salary that reflects my skills and experience."
   ]
  },
  {
   "cell_type": "markdown",
   "metadata": {},
   "source": [
    "## `Do you have any questions for me?`\n",
    "* About me :- \n",
    "  * Do you have any concerns about my candidacy?\n",
    "  * Do feel I’m lacking in a particular area or skill set?\n",
    "  * Do you think I am missing any qualifications needed for this position?\n",
    "* about job\n",
    "  * Is working remotely an option for this position?\n",
    "  * What communication methods are most commonly used in the workplace?"
   ]
  }
 ],
 "metadata": {
  "language_info": {
   "name": "python"
  },
  "orig_nbformat": 4
 },
 "nbformat": 4,
 "nbformat_minor": 2
}
