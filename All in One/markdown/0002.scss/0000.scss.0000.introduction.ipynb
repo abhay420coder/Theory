{
 "cells": [
  {
   "attachments": {},
   "cell_type": "markdown",
   "metadata": {},
   "source": [
    "# comment\n",
    "  \n",
    "* Single-line comments start with //, and go until the end of the line.\n",
    "* Multi-line comments start with /* and end at the next */.\n",
    "\n",
    "```scss\n",
    "// This comment won't be included in the CSS.\n",
    "\n",
    "/* But this comment will, except in compressed mode. */\n",
    "\n",
    "/* It can also contain interpolation:\n",
    " * 1 + 1 = #{1 + 1} */\n",
    "\n",
    "/*! This comment will be included even in compressed mode. */\n",
    "\n",
    "p /* Multi-line comments can be written anywhere\n",
    "   * whitespace is allowed. */ .sans {\n",
    "  font: Helvetica, // So can single-line comments.\n",
    "        sans-serif;\n",
    "}\n",
    "```"
   ]
  },
  {
   "cell_type": "markdown",
   "metadata": {},
   "source": []
  }
 ],
 "metadata": {
  "kernelspec": {
   "display_name": "Python 3 (ipykernel)",
   "language": "python",
   "name": "python3"
  },
  "language_info": {
   "codemirror_mode": {
    "name": "ipython",
    "version": 3
   },
   "file_extension": ".py",
   "mimetype": "text/x-python",
   "name": "python",
   "nbconvert_exporter": "python",
   "pygments_lexer": "ipython3",
   "version": "3.10.11 (tags/v3.10.11:7d4cc5a, Apr  5 2023, 00:38:17) [MSC v.1929 64 bit (AMD64)]"
  },
  "vscode": {
   "interpreter": {
    "hash": "2c241b0a2dbb25395996509cdcc402c15755508b0c1cfb1ecdb3734d0a06b466"
   }
  }
 },
 "nbformat": 4,
 "nbformat_minor": 2
}
