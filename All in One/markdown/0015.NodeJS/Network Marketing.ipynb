{
 "cells": [
  {
   "attachments": {},
   "cell_type": "markdown",
   "metadata": {},
   "source": [
    "* Why i should join\n",
    "* what is hiring process\n",
    "* master product list \n",
    "* product relation queries\n",
    "* competitive product\n",
    "* what makes your product uniquesness (what is making your product different from other same type of product) :- why customer should buy our prduct \n",
    "* where customer can resolve their queries (one place and one time solution)\n",
    "* why custome will spend 400 or any ruppes at first time\n",
    "* how we can keep data of our customer.(record format to keep data) \n",
    "* how leader helps and connected each other or new hired person\n",
    "* what is the offer for permanent customer\n",
    "* why custome should be believe on me.... why not on product  at first interaction.\n",
    "* how many store in india..\n",
    "* how i can find store location in india\n",
    "\n",
    "\n",
    "manufacturing place - jaipur\n",
    "\n"
   ]
  },
  {
   "cell_type": "code",
   "execution_count": null,
   "metadata": {},
   "outputs": [],
   "source": []
  }
 ],
 "metadata": {
  "kernelspec": {
   "display_name": "Python 3",
   "language": "python",
   "name": "python3"
  },
  "language_info": {
   "name": "python",
   "version": "3.10.11 (tags/v3.10.11:7d4cc5a, Apr  5 2023, 00:38:17) [MSC v.1929 64 bit (AMD64)]"
  },
  "orig_nbformat": 4,
  "vscode": {
   "interpreter": {
    "hash": "2c241b0a2dbb25395996509cdcc402c15755508b0c1cfb1ecdb3734d0a06b466"
   }
  }
 },
 "nbformat": 4,
 "nbformat_minor": 2
}
