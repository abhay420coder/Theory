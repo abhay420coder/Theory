{
 "cells": [
  {
   "cell_type": "markdown",
   "metadata": {},
   "source": [
    "# content\n",
    "\n",
    "* step 1 :- **Express project Setup** (install express)\n",
    "* step 2 :- **Create Express Server**\n",
    "* step 3 :- **Thunder Client Setup** (install thunder client to test our api)\n",
    "* step 4 :- **Express Router Setup**\n",
    "* step 5 :- **Error Handling & Async Handler** (how i can handle error in express and using the Async Handler)\n",
    "* step 6 :- **Express MiddleWare**\n",
    "* step 7 :- **Mongo DB Setup**\n",
    "* step 8 :- **Mongoose schemma** (how to set up mongoos schema in order to contact with the database)\n",
    "* step 9 :- **CRUD Api**\n",
    "* step 10 :- **User Authentication** (how i can authenticate our user)\n",
    "* step 11 :- **Registration ANd Login Api**\n",
    "* step 12 :- **Controller And DB Operations** (controller will help us to communicate with our database for different operations )\n",
    "* step 13 :- **Password Hashing & Comparing** (how to password hashing and compare the password with real password)\n",
    "* step 14 :- **Sign/Verify JWT Token** (for authentication password)\n",
    "* step 15 :- **Handle Relationship** (how i can handle relationship using mongoose schema for our diiferent documents in our mongo db)\n",
    "* step 16 :- **Protect Routes** (only authorized user can access these routes)\n",
    "* step 17 :- **User AUthorization** (only authorized user can access our end points)\n",
    "* step 18 :- **API testing**"
   ]
  },
  {
   "cell_type": "markdown",
   "metadata": {},
   "source": [
    "## Rest Api Convention\n",
    "Crud-section | HTTP-Method | End-Points\n",
    "-------------|-------------|------------\n",
    " Get All Contacts | GET | /api/contacts\n",
    " Get Contacts | GET | /api/contacts/:id\n",
    " Create Contacts | POST | /api/contacts\n",
    " Update Contacts | PUT | /api/contacts/:id\n",
    " Delete Contacts | DELETE | /api/contacts/:id\n"
   ]
  },
  {
   "cell_type": "markdown",
   "metadata": {},
   "source": [
    "# step :-1  Express Project setup\n",
    "\n",
    "##  step :-1.1  Create A project\n",
    "* run command `npm init`\n"
   ]
  },
  {
   "cell_type": "markdown",
   "metadata": {},
   "source": [
    "\n",
    "##  step :-1.2  create `.gitignore` file \n",
    "###  step :-1.2.1  write in this `.gitignore` file\n",
    "\n",
    "```git\n",
    "\n",
    "/node_modules\n",
    ".env\n",
    "```\n"
   ]
  },
  {
   "cell_type": "markdown",
   "metadata": {},
   "source": [
    "\n",
    "##  step :-1.3  install express in your project\n",
    "* run command in your project cmd terminal \n",
    "  * `npm install express --save`\n",
    "  * or `npm i express --save`\n"
   ]
  },
  {
   "cell_type": "markdown",
   "metadata": {},
   "source": [
    "\n",
    "##  step :-1.4  install nodemon in your project \n",
    "\n",
    "* Nodemon is a command-line tool that helps with the speedy development of Node. js applications. \n",
    "* It monitors your project directory and automatically restarts your node application \n",
    "  * when it detects any changes. \n",
    "* This means that you do not have to stop and restart your applications in order for your changes to take effect.\n",
    "\n",
    "* run command in your project cmd terminal \n",
    "  * `npm install nodemon --save`\n",
    "  * or `npm i nodemon --save`\n",
    "\n"
   ]
  },
  {
   "cell_type": "markdown",
   "metadata": {},
   "source": [
    "## step :-1.5  change you package .json file\n",
    "\n",
    "```json\n",
    "{\n",
    "  \"name\": \"learningbackend\",\n",
    "  \"version\": \"1.0.0\",\n",
    "  \"description\": \"\\\"learnung backend from youtube\\\"\",\n",
    "  \"main\": \"index.js\",\n",
    "  \"type\":\"module\", // add this line by your choice:- To load an ES module, set \"type\": \"module\" in the package.json or use the .mjs extension.\n",
    "  \"scripts\": {\n",
    "    \"test\": \"echo \\\"Error: no test specified\\\" && exit 1\",\n",
    "    \"start\": \"node index.js\", // just add this line\n",
    "    \"dev\" : \"nodemon index.js\" // just add this line :- in cmd run `npm run dev` then nodemon will start auto\n",
    "\n",
    "  },\n",
    "  \"author\": \"Abhay Kumar\",\n",
    "  \"license\": \"ISC\",\n",
    "  \"dependencies\": {\n",
    "    \"express\": \"^4.18.2\"\n",
    "  }\n",
    "}\n",
    "\n",
    "```"
   ]
  },
  {
   "cell_type": "markdown",
   "metadata": {},
   "source": [
    "# step :-2  create express server"
   ]
  },
  {
   "cell_type": "markdown",
   "metadata": {},
   "source": [
    "## step :-2.1  create index.js file\n",
    "\n",
    "* in `index.js` file write the following code\n",
    "\n",
    "```js\n",
    "const express = require(\"express\");\n",
    "const app = express();\n",
    "const port = 5000;\n",
    "\n",
    "\n",
    "// app.listen(portNumber , callBackFunction)\n",
    "app.listen(port , ()=>{\n",
    "    console.log(`server is running on  ${port}`);\n",
    "})\n",
    "```\n",
    "\n",
    "* run command line in cmd `npm run dev`\n",
    "* output :-  `server is running on 5000`"
   ]
  },
  {
   "cell_type": "markdown",
   "metadata": {},
   "source": [
    "## step :-2.2  install dotenv package for envirment file\n",
    "* to install `dotenv` package run following in cmd\n",
    "  * `npm install dotenv` or `npm i dotenv`\n",
    "\n",
    "### step :-2.2.1  create `.env` file and define constant envroment in this file\n",
    "\n",
    "* write following code in this file\n",
    "\n",
    "```env\n",
    "PORT = 5001;\n",
    "```\n"
   ]
  },
  {
   "cell_type": "markdown",
   "metadata": {},
   "source": [
    "\n",
    "### step :-2.2.2  in index.js    import configure of dotenv package and use env\n",
    "\n",
    "```js\n",
    "const express = require(\"express\");\n",
    "const dotenv = require(\"dotenv\").config(); // import configure of dotnet package\n",
    "\n",
    "const app = express();\n",
    "const port = process.env.PORT || 5000; // use env with the help of process package\n",
    "\n",
    "\n",
    "// app.listen(portNumber , callBackFunction)\n",
    "app.listen(port , ()=>{ \n",
    "    console.log(`server is running on  ${port}`);\n",
    "})\n",
    "```\n",
    "\n",
    "* output :- \n",
    "  * `server is running on 5001`"
   ]
  },
  {
   "cell_type": "markdown",
   "metadata": {},
   "source": [
    "# step :-3  Thunder client setup\n",
    "\n",
    "* intall thunder client extension in vs code\n"
   ]
  },
  {
   "cell_type": "markdown",
   "metadata": {},
   "source": [
    "\n",
    "## step :-3.1  create simple api in index.js\n",
    "\n",
    "* in index.js\n",
    "\n",
    "```js\n",
    "const express = require(\"express\");\n",
    "const dotenv = require(\"dotenv\").config();\n",
    "\n",
    "const app = express();\n",
    "const port = process.env.PORT || 5000;\n",
    "\n",
    "\n",
    "// create simple server\n",
    "// app.listen(portNumber , callBackFunction)\n",
    "app.listen(port , ()=>{ \n",
    "    console.log(`server is running on  ${port}`);\n",
    "})\n",
    "\n",
    "\n",
    "\n",
    "// create simple api\n",
    "// url :- http://localhost:5001/api/contacts    -> GET method\n",
    "app.get('/api/contacts' , (req,res)=>{\n",
    "    // res.send(\"get all contacts\"); // send simply string \n",
    "    // res.json({\"message\":\"get all contatc\" , \"status\" : 200}) // send json\n",
    "    res.status(201).json({\"message\":\"get all contatc\"}) // send json with status\n",
    "})\n",
    "```\n",
    "\n",
    "* output :- \n",
    "  * `server is running on 5001`"
   ]
  },
  {
   "cell_type": "markdown",
   "metadata": {},
   "source": [
    "## step :-3.2  go to thunderclient and paste in url\n",
    "\n",
    "* if You are getting output `server is running on 5001`\n",
    "* then paste `http://localhost:5001/api/contacts` in url\n",
    "* then you will get `201` in status and\n",
    "* in response , you will get\n",
    "\n",
    "```js\n",
    "{\n",
    "  \"message\": \"get all contatc\"\n",
    "}\n",
    "```"
   ]
  },
  {
   "cell_type": "markdown",
   "metadata": {},
   "source": [
    "# step :-4  Express Router Setup\n",
    "* create a routes folder\n",
    "* inside we create particular routers file like :- contactRoutes.js\n",
    "\n",
    "* first we import router from expres\n",
    "`contactRoutes.js`\n",
    "\n",
    "```js\n",
    "const express = require('express');\n",
    "const router = express.Router()\n",
    "```\n",
    "\n"
   ]
  },
  {
   "cell_type": "markdown",
   "metadata": {},
   "source": [
    "\n",
    "## step :-4.1  make common api routes\n",
    "\n",
    "\n",
    "* then we make a common api routes\n",
    "`contactRoutes.js`\n",
    "\n",
    "```js\n",
    "const express = require('express');\n",
    "const router = express.Router()\n",
    "\n",
    "// get method\n",
    "router.route('/').get((req,res)=>{\n",
    "    // res.send(\"get all contacts\"); // send simply string \n",
    "    // res.json({\"message\":\"get all contatct\" , \"status\" : 200}) // send json\n",
    "    res.status(201).json({\"message\":`get all contatct   url :- ${req.url}`}) // send json with status\n",
    "})\n",
    "\n",
    "// post method\n",
    "router.route('/').post((req,res)=>{\n",
    "    // res.send(\"get all contacts\"); // send simply string \n",
    "    // res.json({\"message\":\"get all contatct\" , \"status\" : 200}) // send json\n",
    "    res.status(201).json({\"message\":`post contatct   url :- ${req.url}`}) // send json with status\n",
    "})\n",
    "\n",
    "// get method by id\n",
    "router.route('/:id').get((req,res)=>{\n",
    "    // res.send(\"get all contacts\"); // send simply string \n",
    "    // res.json({\"message\":\"get all contatct\" , \"status\" : 200}) // send json\n",
    "    // res.status(201).json({\"message\":\"get by id contatc\"}) // send json with status\n",
    "    res.status(201).json({\"message\":`get by id contatct req:- ${req}    req.params:-   ${req.params}       req.params.id :-${req.params.id}        url :- ${req.url}`}) // send json with status\n",
    "\n",
    "})\n",
    "\n",
    "// put method\n",
    "router.route('/:id').put((req,res)=>{\n",
    "    // res.send(\"get all contacts\"); // send simply string \n",
    "    // res.json({\"message\":\"get all contatct\" , \"status\" : 200}) // send json\n",
    "    // res.status(201).json({\"message\":\"put by id contatc\"}) // send json with status\n",
    "    res.status(201).json({\"message\":`put by id contatct req:- ${req}    req.params:-   ${req.params}       req.params.id :-${req.params.id}         url :- ${req.url}`}) // send json with status\n",
    "})\n",
    "\n",
    "// delete method\n",
    "router.route('/:id').delete((req,res)=>{\n",
    "    // res.send(\"get all contacts\"); // send simply string \n",
    "    // res.json({\"message\":\"get all contatct\" , \"status\" : 200}) // send json\n",
    "    // res.status(201).json({\"message\":\"delete  contatc\"}) // send json with status\n",
    "    res.status(201).json({\"message\":`delete by id contatct req:- ${req}    req.params:-   ${req.params}       req.params.id :-${req.params.id}         url :- ${req.url}`}) // send json with status\n",
    "})\n",
    "\n",
    "\n",
    "\n",
    "module.exports = router\n",
    "```\n"
   ]
  },
  {
   "cell_type": "markdown",
   "metadata": {},
   "source": [
    "\n",
    "## step :-4.2  in index.js we create api with the help of routes\n",
    "\n",
    "\n",
    "* `index.js`\n",
    "```js\n",
    "const express = require(\"express\");\n",
    "const dotenv = require(\"dotenv\").config();\n",
    "\n",
    "const app = express();\n",
    "const port = process.env.PORT || 5000;\n",
    "\n",
    "\n",
    "// create simple server\n",
    "// app.listen(portNumber , callBackFunction)\n",
    "app.listen(port , ()=>{ \n",
    "    console.log(`server is running on  ${port}`);\n",
    "})\n",
    "\n",
    "const allContactRouter = require('./routes/contactRoutes')\n",
    "// create simple api\n",
    "// url :- http://localhost:5001/api/contacts    -> GET method\n",
    "\n",
    "// app.use('url' , routes)\n",
    "app.use('/api/contacts' , require('./routes/contactRoutes')) // usually app.use known as middleware\n",
    "app.use('/api/portfolio' , require('./routes/contactRoutes')) // usually app.use known as middleware\n",
    "```"
   ]
  },
  {
   "cell_type": "markdown",
   "metadata": {},
   "source": [
    "then \n"
   ]
  },
  {
   "cell_type": "code",
   "execution_count": null,
   "metadata": {},
   "outputs": [],
   "source": []
  }
 ],
 "metadata": {
  "language_info": {
   "name": "python"
  },
  "orig_nbformat": 4
 },
 "nbformat": 4,
 "nbformat_minor": 2
}
