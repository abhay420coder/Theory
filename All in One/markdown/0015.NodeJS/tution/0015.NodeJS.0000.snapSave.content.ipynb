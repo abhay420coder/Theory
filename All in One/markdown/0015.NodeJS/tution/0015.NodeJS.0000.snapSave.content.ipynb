{
 "cells": [
  {
   "cell_type": "markdown",
   "metadata": {},
   "source": [
    "# content\n",
    "\n",
    "* Express project Setup (install express)\n",
    "* Create Express Server\n",
    "* Thunder Client Setup (install thunder client to test our api)\n",
    "* Express Router Setup\n",
    "* Error Handling & Async Handler (how i can handle error in express and using the Async Handler)\n",
    "* Express MiddleWare\n",
    "* Mongo DB Setup\n",
    "* Mongoose schemma (how to set up mongoos schema in order to contact with the database)\n",
    "* CRUD Api\n",
    "* User Authentication (how i can authenticate our user)\n",
    "* Registration ANd Login Api\n",
    "* Controller And DB Operations (controller will help us to communicate with our database for different operations )\n",
    "* Password Hashing & Comparing (how to password hashing and compare the password with real password)\n",
    "* Sign/Verify JWT Token (for authentication password)\n",
    "* Handle Relationship (how i can handle relationship using mongoose schema for our diiferent documents in our mongo db)\n",
    "* Protect Routes (only authorized user can access these routes)\n",
    "* User AUthorization (only authorized user can access our end points)\n",
    "* API testing"
   ]
  },
  {
   "cell_type": "markdown",
   "metadata": {},
   "source": [
    "## Rest Api Convention\n",
    "Crud-section | HTTP-Method | End-Points\n",
    "-------------|-------------|------------\n",
    " Get All Contacts | GET | /api/contacts\n",
    " Get Contacts | GET | /api/contacts/:id\n",
    " Create Contacts | POST | /api/contacts\n",
    " Update Contacts | PUT | /api/contacts/:id\n",
    " Delete Contacts | DELETE | /api/contacts/:id\n"
   ]
  },
  {
   "cell_type": "code",
   "execution_count": null,
   "metadata": {},
   "outputs": [],
   "source": []
  }
 ],
 "metadata": {
  "language_info": {
   "name": "python"
  },
  "orig_nbformat": 4
 },
 "nbformat": 4,
 "nbformat_minor": 2
}
