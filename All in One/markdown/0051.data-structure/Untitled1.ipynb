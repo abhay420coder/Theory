{
 "cells": [
  {
   "cell_type": "markdown",
   "id": "7fd78a00",
   "metadata": {},
   "source": []
  },
  {
   "cell_type": "code",
   "execution_count": null,
   "id": "9049ddf4",
   "metadata": {},
   "outputs": [],
   "source": [
    "console.log(\"hello\")"
   ]
  },
  {
   "cell_type": "code",
   "execution_count": 1,
   "id": "570d2659",
   "metadata": {},
   "outputs": [
    {
     "name": "stdout",
     "output_type": "stream",
     "text": [
      "0\n",
      "1\n",
      "2\n",
      "3\n",
      "4\n"
     ]
    }
   ],
   "source": [
    "for(let  i =0 ; i<5 ; i++){\n",
    "    console.log(i)\n",
    "}"
   ]
  },
  {
   "cell_type": "code",
   "execution_count": 2,
   "id": "949d6f13",
   "metadata": {},
   "outputs": [
    {
     "name": "stdout",
     "output_type": "stream",
     "text": [
      "0\n",
      "2\n",
      "4\n"
     ]
    }
   ],
   "source": [
    "for(let  i =0 ; i<5 ; i+=2){\n",
    "    console.log(i)\n",
    "}"
   ]
  },
  {
   "cell_type": "code",
   "execution_count": null,
   "id": "6ffbbf86",
   "metadata": {},
   "outputs": [],
   "source": [
    "// with for loop\n",
    "function printPyramid(row){\n",
    "  \n",
    " // count `star` and `space` with respect to `n` only for row 1 (`first row`) .\n",
    "  nst = 1 \n",
    "  nsp = row - 1\n",
    "  \n",
    "  for i in range(row){\n",
    "    \n",
    "    // write loop to print `space`\n",
    "    for j in range(nsp){\n",
    "      console.log(\" \")\n",
    "    }\n",
    "   // write loop to print `star`\n",
    "    for j in range(nst){\n",
    "      if(j!=(nst-1)) console.log(\"*\" , end=' ')\n",
    "      else console.log(\"*\")\n",
    "    print()\n",
    "    }\n",
    "          // relation in between `row 1` and `row 2` \n",
    "          // for `nst` (number of star) and `nsp` (number of space) for doing this use table.\n",
    "        nst = nst + 1\n",
    "        nsp = nsp - 1\n",
    "    }\n",
    "}\n",
    "printPyramid(5)\n",
    "    "
   ]
  }
 ],
 "metadata": {
  "kernelspec": {
   "display_name": "JavaScript (Node.js)",
   "language": "javascript",
   "name": "javascript"
  },
  "language_info": {
   "file_extension": ".js",
   "mimetype": "application/javascript",
   "name": "javascript",
   "version": "18.13.0"
  }
 },
 "nbformat": 4,
 "nbformat_minor": 5
}
