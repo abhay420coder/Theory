{
 "cells": [
  {
   "attachments": {},
   "cell_type": "markdown",
   "metadata": {},
   "source": [
    "\n",
    "# Operations on Data Structure\n",
    "\n",
    "* The Data  which is stored in our data structure are process by **some set of Operation** .\n",
    "\n",
    "1. Creation\n",
    "   * Creating new Data-Structure.\n",
    "2. Display\n",
    "   *  Display/print array \n",
    "3. Insertion\n",
    "   * Add/Insert new data in the data-structure.\n",
    "   * check overflow condition before Inserting.\n",
    "4. Deletion\n",
    "   * Remove/Delete data from the data-structure.\n",
    "   * check underflow condition before Deleting .\n",
    "5. Traversing\n",
    "   * Process of visiting each and every element of data-structure.\n",
    "6. Searching\n",
    "   * Find/Search the data in the data-structure.\n",
    "   * Searching can be successful or unsuccessful.\n",
    "7. Sorting\n",
    "   * Arrange elements in a particular order in data-structure.\n",
    "   * Sorting can be Ascending order or Descending order .\n",
    "8. Merging\n",
    "   * Process of combining the data items of two different sorted list into a single sorted list.\n",
    "9.  Splitting\n",
    "   * Split/Divide single List into two Lists.\n",
    "10. Updation\n",
    "   * Update data in the data-structure.\n"
   ]
  },
  {
   "cell_type": "markdown",
   "metadata": {},
   "source": []
  },
  {
   "cell_type": "code",
   "execution_count": null,
   "metadata": {},
   "outputs": [],
   "source": [
    "# node of a singly linked list\n",
    "class node:\n",
    "    # constructor\n",
    "    def __init__(self):\n",
    "        self.data = None\n",
    "        self.next = None\n",
    "\n",
    "    # method to set data in the node\n",
    "    def setNodeData(self , data):\n",
    "        self.data = data\n",
    "    # method to get data in the node\n",
    "    def getNodeData(self):\n",
    "        return self.data\n",
    "    \n",
    "    # method to set/linked next-node in the node\n",
    "    def setNextNode(self , next):\n",
    "        self.next = next\n",
    "    # method to get next-node in the node\n",
    "    def getNextNode(self):\n",
    "        return self.next\n",
    "    \n",
    "    # returns true if the node points to another-node\n",
    "    def hasNext(self):\n",
    "        return self.next != None"
   ]
  }
 ],
 "metadata": {
  "kernelspec": {
   "display_name": "Python 3",
   "language": "python",
   "name": "python3"
  },
  "language_info": {
   "codemirror_mode": {
    "name": "ipython",
    "version": 3
   },
   "file_extension": ".py",
   "mimetype": "text/x-python",
   "name": "python",
   "nbconvert_exporter": "python",
   "pygments_lexer": "ipython3",
   "version": "3.10.11 (tags/v3.10.11:7d4cc5a, Apr  5 2023, 00:38:17) [MSC v.1929 64 bit (AMD64)]"
  },
  "orig_nbformat": 4,
  "vscode": {
   "interpreter": {
    "hash": "2c241b0a2dbb25395996509cdcc402c15755508b0c1cfb1ecdb3734d0a06b466"
   }
  }
 },
 "nbformat": 4,
 "nbformat_minor": 2
}
