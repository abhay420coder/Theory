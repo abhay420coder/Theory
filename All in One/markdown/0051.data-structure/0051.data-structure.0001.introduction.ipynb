{
 "cells": [
  {
   "cell_type": "markdown",
   "metadata": {},
   "source": [
    "# About the course - Algorithm And Data Structure With JS\n",
    "\n",
    "1. An introduction to the fundamentals of algorithms\n",
    "2. A practical take on algorithms with JavaScript\n",
    "3. Part one of a two part (Algorithms + Data Structures) course\n",
    "4. (Algorithms on trees and graphs will be part of the next course)\n",
    "\n",
    "\n",
    "## Before we begin\n",
    "\n",
    "* It might seem hard and that is because it is hard\n",
    "* Have a pen and paper and trace the execution of code with a sample input\n",
    "* Code along with me and do not rush through the videos\n",
    "\n",
    "# What is DSA?\n",
    "\n",
    "The term DSA stands for Data Structures and Algorithms.\n",
    "\n",
    "* Learn Data Structure\n",
    "  * Array\n",
    "  * String\n",
    "  * Linked List\n",
    "  * Matrix/Grid\n",
    "  * Stack\n",
    "  * Queue\n",
    "  * Heap\n",
    "  * Hash\n",
    "  * Tree Data Structures\n",
    "  * Binary Tree\n",
    "  * Binary Search Tree\n",
    "  * Other Tree Data Structures\n",
    "  * Graph Data Structure\n",
    "* Learn Algorithms\n",
    "  * Searching Algorithm\n",
    "  * Sorting Algorithm\n",
    "  * Divide and Conquer Algorithm\n",
    "  * Greedy Mehtodology\n",
    "  * Recursion\n",
    "  * Backtracking Algorithm\n",
    "  * Dynamic Programming\n",
    "  * Pattern Searching\n",
    "  * Mathematical Algorithms\n",
    "  * Geometric Algorithms\n",
    "  * Bitwise Algorithms\n",
    "  * Randomized Algorithms\n",
    "  * Branch and Bound Algorithm\n",
    "\n",
    "# What is an data-structure and algorithm?\n",
    "\n",
    "## What is Data Structure?\n",
    "\n",
    "A data structure is defined as a particular way of storing and organizing data in our devices to use the data efficiently and effectively. The main idea behind using data structures is to minimize the time and space complexities. An efficient data structure takes minimum memory space and requires minimum time to execute the data.\n",
    "\n",
    "## What is Algorithm?\n",
    "\n",
    "Algorithm is defined as a process or set of well-defined instructions that are typically used to solve a particular group of problems or perform a specific type of calculation. To explain in simpler terms, it is a set of operations performed in a step-by-step manner to execute a task.\n",
    "\n",
    "> * An algorithm is a set of well-defined instructions to solve a particular problem.\n",
    "> * An Algorithm, in computer programming,\n",
    ">   * is a finite sequence of well-defined instructions,\n",
    ">   * typically executed in a computer,\n",
    ">   * to solve a class of problems or to perform a common task.\n"
   ]
  },
  {
   "cell_type": "markdown",
   "metadata": {},
   "source": [
    "\n",
    "## What is Data-Structure & Algorithm?\n",
    "\n",
    "> * Data-Structure is a way to structurize the data in a organized way\n",
    "> * And Algorithm is used in the Data-Structure to organised/structurized the data\n",
    "\n",
    "## What is Data-Structure & Algorithm?\n",
    "\n",
    "> * Data-Structure is a way to arrange the data.\n",
    "> * And Algorithm is steps or process to arrange the data.\n",
    "> * And Algorithm is steps or process that is used in the data-structure to arrange the data.\n"
   ]
  },
  {
   "attachments": {},
   "cell_type": "markdown",
   "metadata": {},
   "source": [
    "\n",
    "## Recipe analogy\n",
    "\n",
    "* An algorithm is a set of well-defined instructions to solve a particular problem\n",
    "\n",
    "![Receipe Anaogy](../../image/0030.data-structure.0001.introduction/Receipe%20Analogy.png)\n",
    "\n",
    "![example of basic algorithm](../../image/0030.data-structure.0001.introduction/example%20of%20basic%20algorithm.png)\n"
   ]
  },
  {
   "cell_type": "markdown",
   "metadata": {},
   "source": [
    "\n",
    "## Characteristics\n",
    "\n",
    "* Well defined inputs and outputs\n",
    "* Each step should be clear and unambiguous\n",
    "* Language independent\n"
   ]
  },
  {
   "cell_type": "markdown",
   "metadata": {},
   "source": [
    "\n",
    "## Why algorithms?\n",
    "\n",
    "* As a developer, you're going to come across problems that you need to solve\n",
    "* Learning algorithms translates to learning different techniques to efficiently solve those problems\n",
    "* One problem can be solved in many ways using different algorithms\n",
    "* Every algorithm comes with its own tradeoffs when it comes to performance\n",
    "* There can be any number of ways, a specific set of instructions can be defined to perform the same task.\n"
   ]
  },
  {
   "cell_type": "markdown",
   "metadata": {},
   "source": [
    "\n",
    "# classification of DataStructure\n",
    "\n",
    "1. **Data Structure**\n",
    "   1. Linear Data Structure\n",
    "      1. Static Data Structure\n",
    "         1. Array\n",
    "      2. Dynamic Data Structure\n",
    "         1. Queue\n",
    "         2. Stack\n",
    "         3. Linked List\n",
    "         4. Files\n",
    "   2. Non-Linear Data Structure\n",
    "      1. Tree\n",
    "      2. Graph\n"
   ]
  },
  {
   "attachments": {},
   "cell_type": "markdown",
   "metadata": {},
   "source": [
    "\n",
    "# Operations on Data Structure\n",
    "\n",
    "* The Data  which is stored in our data structure are process by **some set of Operation** .\n",
    "\n",
    "1. Creation\n",
    "   * Creating new Data-Structure.\n",
    "2. Display\n",
    "   * display your data structure\n",
    "3. Insertion\n",
    "   * Add/Insert new data in the data-structure.\n",
    "   * check overflow condition before Inserting.\n",
    "4. Deletion\n",
    "   * Remove/Delete data from the data-structure.\n",
    "   * check underflow condition before Deleting .\n",
    "5. Traversing\n",
    "   * Process of visiting each and every element of data-structure.\n",
    "6. Searching\n",
    "   * Find/Search the data in the data-structure.\n",
    "   * Searching can be successful or unsuccessful.\n",
    "7. Sorting\n",
    "   * Arrange elements in a particular order in data-structure.\n",
    "   * Sorting can be Ascending order or Descending order .\n",
    "8. Merging\n",
    "   * Process of combining the data items of two different sorted list into a single sorted list.\n",
    "9.  Splitting\n",
    "   * Split/Divide single List into two Lists.\n",
    "10. Updation\n",
    "   * Update data in the data-structure.\n"
   ]
  },
  {
   "cell_type": "code",
   "execution_count": null,
   "metadata": {},
   "outputs": [],
   "source": []
  }
 ],
 "metadata": {
  "kernelspec": {
   "display_name": "Python 3.10.9 64-bit (microsoft store)",
   "language": "python",
   "name": "python3"
  },
  "language_info": {
   "name": "python",
   "version": "3.10.11 (tags/v3.10.11:7d4cc5a, Apr  5 2023, 00:38:17) [MSC v.1929 64 bit (AMD64)]"
  },
  "orig_nbformat": 4,
  "vscode": {
   "interpreter": {
    "hash": "2c241b0a2dbb25395996509cdcc402c15755508b0c1cfb1ecdb3734d0a06b466"
   }
  }
 },
 "nbformat": 4,
 "nbformat_minor": 2
}
