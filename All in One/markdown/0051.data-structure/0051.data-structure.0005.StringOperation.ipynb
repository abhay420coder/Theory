{
 "cells": [
  {
   "attachments": {},
   "cell_type": "markdown",
   "metadata": {},
   "source": [
    "\n",
    "# Operations on Data Structure\n",
    "\n",
    "* The Data  which is stored in our data structure are process by **some set of Operation** .\n",
    "\n",
    "1. Creation\n",
    "   * Creating new Data-Structure.\n",
    "2. Insertion\n",
    "   * Add/Insert new data in the data-structure.\n",
    "   * check overflow condition before Inserting.\n",
    "3. Deletion\n",
    "   * Remove/Delete data from the data-structure.\n",
    "   * check underflow condition before Deleting .\n",
    "4. Traversing\n",
    "   * Process of visiting each and every element of data-structure.\n",
    "5. Searching\n",
    "   * Find/Search the data in the data-structure.\n",
    "   * Searching can be successful or unsuccessful.\n",
    "6. Sorting\n",
    "   * Arrange elements in a particular order in data-structure.\n",
    "   * Sorting can be Ascending order or Descending order .\n",
    "7. Merging\n",
    "   * Process of combining the data items of two different sorted list into a single sorted list.\n",
    "8. Splitting\n",
    "   * Split/Divide single List into two Lists.\n",
    "9. Updation\n",
    "   * Update data in the data-structure.\n"
   ]
  }
 ],
 "metadata": {
  "language_info": {
   "name": "python"
  },
  "orig_nbformat": 4
 },
 "nbformat": 4,
 "nbformat_minor": 2
}
