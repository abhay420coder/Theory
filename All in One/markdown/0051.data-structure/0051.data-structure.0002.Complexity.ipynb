{
 "cells": [
  {
   "cell_type": "markdown",
   "metadata": {},
   "source": [
    "\n",
    "# Algorithm analysis :- Time and Space complexity\n",
    "\n",
    "* There are multiple ways to solve one problem\n",
    "* Ex: There are multiple algorithms to sort a list of numbers\n",
    "* How do we analyse which one of them is the most efficient algorithm?\n",
    "* Generally, when we talk about performance, we use an absolute measure\n",
    "* If I can run 100 meters in 12 seconds, I'm faster than someone who takes 15 seconds.\n",
    "\n",
    ">The absolute running time of an algorithm cannot be predicted, since it depends on a number of factors\n",
    ">\n",
    "> * Programming language used to implement the algorithm\n",
    "> * The computer the program runs on\n",
    "> * Other programs running at the same time\n",
    "> * Quality of the operating system\n"
   ]
  },
  {
   "attachments": {},
   "cell_type": "markdown",
   "metadata": {},
   "source": [
    "\n",
    "### We evaluate the performance of an algorithm in terms of its input size\n",
    "\n",
    "**Time complexity** - Amount of time taken by an algorithm to run, as a function of input size.\n",
    "\n",
    "* Time complexity is given by time as a function of the length of the input.\n",
    "\n",
    "**Space complexity** - Amount of memory taken by an algorithm to run, as a function of input size.\n",
    "\n",
    "By evaluating against the input size, the analysis is not only machine independent but the comparison is also more appropriate.\n",
    "There is no one solution that works every single time. It is always good to know multiple ways to solve the problem and use the best solution, given your constraints.\n",
    "\n",
    "If your app needs to be very quick and has plenty of memory to work with, you don't have to worry about space complexity.\n",
    "If you have very little memory to work with, you should pick a solution that is relatively slower but needs less space.\n"
   ]
  },
  {
   "cell_type": "markdown",
   "metadata": {},
   "source": [
    "\n",
    "## How to represent complexity?\n",
    "\n",
    "Asymptotic notations\n",
    "\n",
    "* Mathematical tools to represent time and space complexity\n",
    "\n",
    "1. Big-O Notation (O-notation) — Worst case complexity\n",
    "   * The worst case complexity of an algorithm is represented using the Big-O notation\n",
    "2. Omega Notation (Q-notation) — Best case complexity\n",
    "3. Theta Notation (O-notation) — Average case complexity\n"
   ]
  },
  {
   "attachments": {},
   "cell_type": "markdown",
   "metadata": {},
   "source": [
    "\n",
    "# Big-O Notation\n",
    "\n",
    "The worst case complexity of an algorithm is represented using the Big-O notation.\n",
    "Big-O notation describes the complexity of an algorithm using algebraic terms\n",
    "> It has two important characteristics\n",
    ">\n",
    "> * It is expressed in terms of the input\n",
    "> * It focuses on the bigger picture without getting caught up in the minute details\n",
    "\n",
    "**Example :-**\n",
    "\n",
    "```JS\n",
    "        function summation(n) {\n",
    "        let sum = 0;\n",
    "        for (let i =1 ; i<=n ; i++) {\n",
    "            sum += i;\n",
    "        }\n",
    "        return sum;\n",
    "        }\n",
    "```\n",
    "\n",
    "**output:-**\n",
    "`\n",
    "summation(4) = 1+2+3+4=10 => Count the number of times a statement executes based on the input size\n",
    "`\n",
    "**Number of times executed - big o notation**\n",
    "![Number of times executed - big o notation](../../image/0030.data-structure.0002.Complexity/Number%20of%20times%20executed%20-%20big%20o%20notation.png)\n",
    "![Number of times executed - big o notation - 2](../../image/0030.data-structure.0002.Complexity/Number%20of%20times%20executed%20-%20big%20o%20notation%20-2.png)\n",
    "\n",
    "**Time Complexity** of above function =>  O(n) - Linear\n",
    "\n",
    "* And, there exists a relation between the input data size (n) and the number of operations performed (N) with respect to time.\n",
    "* This relation is denoted as **Order of growth** in Time complexity\n",
    "* and given notation **O[n]**\n",
    "  * where O is the order of growth\n",
    "  * and n is the length of the input.\n",
    "* It is also called as ‘**Big O Notation**’\n",
    "\n",
    "> **Importan point**\n",
    ">\n",
    "> * Big O Notation expresses the run time of an algorithm in terms of how quickly it grows relative to the input ‘n’ by defining the N number of operations that are done on it.\n",
    "> * Thus, the time complexity of an algorithm is denoted by the combination of all O[n] assigned for each line of function.\n",
    "\n",
    "> **There are different types of time complexities used, let’s see one by one:-**\n",
    ">\n",
    "> 1. Constant time – O(1)\n",
    "> 2. Linear time – O(n)\n",
    "> 3. Logarithmic time – O(log n)\n",
    "> 4. Quasilinear time – O(n log n)\n",
    "> 5. Quadratic time – O(n^2)\n",
    "> 6. Cubic time – O(n^3)\n",
    "> 7. Polynomial time - O(n^m)\n",
    "> 8. Exponential time - O(2^n)\n",
    "> 9. factorial time - O(n!)\n",
    ">\n",
    "> and many more complex notations like **Exponential time, Quasilinear time, factorial time**, etc. are used based on the type of functions defined.\n",
    "\n"
   ]
  },
  {
   "attachments": {},
   "cell_type": "markdown",
   "metadata": {},
   "source": [
    "* **Compairing the complexity classes**\n",
    "  * O(1) < O(log n) < O(n) < O(n log n) < O(n^2) < O(n^3) < O(2^n) < O(n^m) < O(n!) "
   ]
  },
  {
   "attachments": {},
   "cell_type": "markdown",
   "metadata": {},
   "source": [
    "# Techniques to measure time efficiency\n",
    "1. Meassuring time to execute\n",
    "2. counting operation involved\n",
    "3. Abstract notion of order of growth"
   ]
  },
  {
   "attachments": {},
   "cell_type": "markdown",
   "metadata": {},
   "source": [
    "###  Measuring time to execute \n",
    "\n",
    "##### measurement code in python\n",
    "```py\n",
    "import time\n",
    "startTime = time.time()\n",
    "\n",
    "# write code or part-of-code here , which will be measured as  time-reference\n",
    "\n",
    "endTime = time.time()\n",
    "print(\"execution time is  :-  \" ,endTime-startTime)\n",
    "```\n",
    "\n",
    "##### problem with this approach\n",
    "1. Different time for Different algorithm   ✔\n",
    "2. Time varies if implementation changes  ❌\n",
    "3. Different machines different time  ❌\n",
    "4. Does not work for extremely small input  ❌\n",
    "5. Time varies for different inputs , but can't establish a relationship  ❌"
   ]
  },
  {
   "cell_type": "code",
   "execution_count": 10,
   "metadata": {},
   "outputs": [],
   "source": [
    "import time\n",
    "\n",
    "# 1st code\n",
    "startTime1 = time.time()\n",
    "# for i in range(1 , 101):\n",
    "#   print(i)\n",
    "endTime1 = time.time()\n",
    "# print(\"execution time is 1 :-  \" ,endTime1-startTime1)\n",
    "\n",
    "# 2nd code \n",
    "startTime2 = time.time()\n",
    "i = 1\n",
    "# while i < 101 :\n",
    "#   print(i)\n",
    "#   i+=1\n",
    "endTime2 = time.time()\n",
    "# print(\"execution time is  2 :-  \" ,endTime2-startTime2)"
   ]
  },
  {
   "attachments": {},
   "cell_type": "markdown",
   "metadata": {},
   "source": [
    "### counting operation involved\n",
    "\n",
    "* in this approach we have to find how many operations is involved to execute the program\n",
    "##### steps to understand `counting operation`\n",
    "* assume these steps take constant time : \n",
    "  * mathematical operations\n",
    "  * comparisons\n",
    "  * assignmdents\n",
    "  * accessing obkjects in mememory\n",
    "* then count the number of operations executed as function of size of input\n",
    "\n",
    "##### example\n",
    "* if `x = input`   then output = `1+3x`  \n",
    "* if input=10  then output=31\n",
    "* if input=13  then output=40\n",
    "\n",
    "```py\n",
    "def c_to_f(c):\n",
    "  return c*9.0/5 + 32 # 3 operations = c*9.0 :- first operation      (c*9.0)/5 :- second operation     [(c*9.0)/5]+32 :- third operation\n",
    "def mysum(x):\n",
    "  total = 0 # 1 operation\n",
    "\n",
    "  # operations = loop*times\n",
    "  for i in range(x+1):\n",
    "    total += i  # 1 operations\n",
    "\n",
    "  return total # we don't count this return statement in operation\n",
    "  # 2 operations\n",
    "\n",
    "  # mysum -> 1 + 3x outputs\n",
    "```\n",
    "\n",
    "##### problem with this approach\n",
    "1. Different time for Different algorithm   ✔\n",
    "2. Time varies if implementation changes  ❌\n",
    "3. Different machines different time   ✔\n",
    "4. Does not work for extremely small input  ❌\n",
    "5. Time varies for different inputs , but can't establish a relationship   ✔\n",
    "\n",
    "\n",
    "   "
   ]
  },
  {
   "cell_type": "code",
   "execution_count": 8,
   "metadata": {},
   "outputs": [],
   "source": [
    "def c_to_f(c):\n",
    "  return c*9.0/5 + 32 # 3 operations = c*9.0 :- first operation      (c*9.0)/5 :- second operation     [(c*9.0)/5]+32 :- third operation\n",
    "def mysum(x):\n",
    "  total = 0 # 1 operation\n",
    "\n",
    "  # operations = loop*times\n",
    "  for i in range(x+1):\n",
    "    total += i  # 1 operations\n",
    "\n",
    "  return total # we don't count this return statement in operation\n",
    "  # 2 operations\n",
    "\n",
    "  # mysum -> 1 + 3x outputs\n",
    "  "
   ]
  },
  {
   "attachments": {},
   "cell_type": "markdown",
   "metadata": {},
   "source": [
    "### what do we want\n",
    "1. we want to evaluate the algorithm.\n",
    "2. we want to evaluate scalability.\n",
    "3. we want to evaluate in terms of input size."
   ]
  },
  {
   "attachments": {},
   "cell_type": "markdown",
   "metadata": {},
   "source": [
    "### Different Inputs Change , How the program runs\n",
    "\n",
    "* a function that searches for an element in a list \n",
    "\n",
    "```py\n",
    "def saerch_for_elmt(L , e):\n",
    "  for i in L:\n",
    "    if i== e :\n",
    "      return True\n",
    "  return False\n",
    "```\n",
    "* when e is **first element** in the list ➡ Best Case\n",
    "* when e is **not in list** or **last element in the list**  ➡ Worst Case\n",
    "* When **look through about half** of the elements in list  ➡ Average Case"
   ]
  },
  {
   "attachments": {},
   "cell_type": "markdown",
   "metadata": {},
   "source": [
    "##### in hinglish , hmlog janenege ki best case , worst case , average case scenario kya hota hai\n",
    "\n",
    "* maan lete hai mujhe ek element search krna hai n element me\n",
    "* ydi hmara first element hi search element hai tab ye hmara **Best Case** ho gya\n",
    "  * search element = 26\n",
    "  * array = [26 , 35 , 37 , 56 , 58 , 67 ,78 , 89]\n",
    "  * yaha pr ye case **Best Case** khlayega\n",
    "* ydi hmara last element hi search element hai tab ye hmara **Worst Case** ho gya\n",
    "  * kyuki hme sara element check krna pdega tb jaakr search element ka pta chalega\n",
    "  * search element = 89\n",
    "  * array = [26 , 35 , 37 , 56 , 58 , 67 ,78 , 89]\n",
    "  * yaha pr ye case **Worst Case** khlayega\n",
    "* ydi hmara search element list me hi nhi hai tab ye hmara **Worst Case** ho gya\n",
    "  * kyuki hme sara element check krna pdega tb jaakr search element ka pta chalega ki ye list me hi nhi hai\n",
    "  * search element = 98\n",
    "  * array = [26 , 35 , 37 , 56 , 58 , 67 ,78 , 89]\n",
    "  * yaha pr ye case **Worst Case** khlayega\n",
    "* ydi hmara search element list me beech me ho (mtlb naa to ye first element hai aur naa hi ye last element ) tab ye hmara **Average Case** ho gya\n",
    "  * search element = 56\n",
    "  * array = [26 , 35 , 37 , 56 , 58 , 67 ,78 , 89]\n",
    "  * yaha pr ye case **Average Case** khlayega"
   ]
  },
  {
   "attachments": {},
   "cell_type": "markdown",
   "metadata": {},
   "source": [
    "### Design of Algorithm\n",
    "\n",
    "* whenever we should design algorithm according to worst case scenario.\n",
    "* hmlog jb bhi algorithm design krenge , tb hm worst case scenario ko dhyan me rkh kr krenge.\n"
   ]
  },
  {
   "attachments": {},
   "cell_type": "markdown",
   "metadata": {},
   "source": [
    "### Orders Of Growth (this approach is used in industries)\n",
    "* Goals :- \n",
    "  * we want to evaluate program's efficiency when **input is very big** .\n",
    "  * we want to express the **growth of program's run time** as inut size grows .\n",
    "  * we want to put an **upper bound** on growth - as tight as possible.\n",
    "  * we do  not to be precise : **\"order of\" not  \"exact\"** growth.\n",
    "  * we will look at **lagest factors** in run time (which section of the program will take the longest to run?)\n",
    "  * **thus , generally we want tight upper bound on growth , as fnction of size of input , in worst case**\n"
   ]
  },
  {
   "cell_type": "markdown",
   "metadata": {},
   "source": [
    "\n",
    "##### Measuring Order of Growth : Big Oh Notation\n",
    "* **Big-Oh** notation measures an **upper bound on the asymptotic growth** ,  often called order of growth\n",
    "* **Big-oh** or **O()** is used to describe worst case\n",
    "  * worst case occurs often and is the bottleneck , when a program runs\n",
    "  * express rate of growth of program relative to the input size\n",
    "  * evaluate algorithm **NOT** machine or implementation\n"
   ]
  },
  {
   "cell_type": "markdown",
   "metadata": {},
   "source": [
    "\n",
    "##### Exact Steps vs O()\n",
    "  * \n",
    "    ```py\n",
    "        def fact_iter(n)\n",
    "        \"\"\"assumes n an     int >= 0\"\"\"\n",
    "        answer = 1     # 1 0peration\n",
    "\n",
    "\n",
    "        while n>1:         # 1 0peration\n",
    "          answer *= n     # 2 0peration\n",
    "          n -= 1  # temp = n-1    then      n = temp           # 2 0peration\n",
    "        # this loop contains total 5 0peration\n",
    "\n",
    "        return answer          # 1 0peration\n",
    "\n",
    "\n",
    "        # total operation :- (1 operation) + (5 operation * n) + (1 operation)   :- n= input\n",
    "        # total operation :- 5n+2 :-  O(n)\n",
    "    ```\n",
    "  * computes factorial\n",
    "  * number of steps:    ``\n",
    "  * worst case asymptotic complexity :  \n",
    "    * ignore additive constants\n",
    "    * ignore multiplicitive constants\n"
   ]
  },
  {
   "cell_type": "markdown",
   "metadata": {},
   "source": [
    "\n",
    "###### some important concept\n",
    "* Kn = Kth operations inside one loop\n",
    "* n^2 = one level nested loop\n",
    "* n^3 = two level nested loop "
   ]
  }
 ],
 "metadata": {
  "kernelspec": {
   "display_name": "Python 3",
   "language": "python",
   "name": "python3"
  },
  "language_info": {
   "codemirror_mode": {
    "name": "ipython",
    "version": 3
   },
   "file_extension": ".py",
   "mimetype": "text/x-python",
   "name": "python",
   "nbconvert_exporter": "python",
   "pygments_lexer": "ipython3",
   "version": "3.10.11 (tags/v3.10.11:7d4cc5a, Apr  5 2023, 00:38:17) [MSC v.1929 64 bit (AMD64)]"
  },
  "orig_nbformat": 4,
  "vscode": {
   "interpreter": {
    "hash": "2c241b0a2dbb25395996509cdcc402c15755508b0c1cfb1ecdb3734d0a06b466"
   }
  }
 },
 "nbformat": 4,
 "nbformat_minor": 2
}
