{
 "cells": [
  {
   "cell_type": "markdown",
   "metadata": {},
   "source": [
    "# What is Python?\n",
    "\n",
    "* Python is a popular programming language. It was created by Guido van Rossum, and released in 1991.\n",
    "\n",
    "* It is used for:\n",
    "\n",
    "  * web development (server-side),\n",
    "  * software development,\n",
    "  * mathematics,\n",
    "  * system scripting."
   ]
  },
  {
   "cell_type": "markdown",
   "metadata": {},
   "source": [
    "## What can Python do?\n",
    "\n",
    "* Python can be used on a server to create web applications.\n",
    "* Python can be used alongside software to create workflows.\n",
    "* Python can connect to database systems. It can also read and modify files.\n",
    "* Python can be used to handle big data and perform complex mathematics.\n",
    "* Python can be used for rapid prototyping, or for production-ready software development."
   ]
  },
  {
   "cell_type": "markdown",
   "metadata": {},
   "source": [
    "## Why Python?\n",
    "\n",
    "* Python works on different platforms (Windows, Mac, Linux, Raspberry Pi, etc).\n",
    "* Python has a simple syntax similar to the English language.\n",
    "* Python has syntax \n",
    "  * that allows developers to write programs \n",
    "  * with fewer lines than some other programming languages.\n",
    "* Python runs on an interpreter system, \n",
    "  * meaning that code can be executed as soon as it is written. \n",
    "    * This means that prototyping can be very quick.\n",
    "* Python can be treated in \n",
    "  * a procedural way, \n",
    "  * an object-oriented way or \n",
    "  * a functional way."
   ]
  },
  {
   "cell_type": "code",
   "execution_count": null,
   "metadata": {},
   "outputs": [
    {
     "ename": "",
     "evalue": "",
     "output_type": "error",
     "traceback": [
      "\u001b[1;31mFailed to start the Kernel. \n",
      "\u001b[1;31mView Jupyter <a href='command:jupyter.viewOutput'>log</a> for further details."
     ]
    }
   ],
   "source": [
    "print(34)"
   ]
  }
 ],
 "metadata": {
  "kernelspec": {
   "display_name": "JavaScript (Node.js)",
   "language": "javascript",
   "name": "javascript"
  },
  "language_info": {
   "codemirror_mode": {
    "name": "ipython",
    "version": 3
   },
   "file_extension": ".py",
   "mimetype": "text/x-python",
   "name": "javascript",
   "nbconvert_exporter": "python",
   "pygments_lexer": "ipython3",
   "version": "3.10.9 (tags/v3.10.9:1dd9be6, Dec  6 2022, 20:01:21) [MSC v.1934 64 bit (AMD64)]"
  },
  "vscode": {
   "interpreter": {
    "hash": "2c241b0a2dbb25395996509cdcc402c15755508b0c1cfb1ecdb3734d0a06b466"
   }
  }
 },
 "nbformat": 4,
 "nbformat_minor": 2
}
