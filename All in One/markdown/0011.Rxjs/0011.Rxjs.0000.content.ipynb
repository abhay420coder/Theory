{
 "cells": [
  {
   "cell_type": "markdown",
   "metadata": {},
   "source": [
    "# Categories of operators\n",
    "\n",
    "* There are operators for different purposes, and they may be categorized as: creation, transformation, filtering, joining, multicasting, error handling, utility, etc. In the following list you will find all the operators organized in categories.\n",
    "\n",
    "* For a complete overview, see the references page."
   ]
  },
  {
   "cell_type": "markdown",
   "metadata": {},
   "source": [
    "## Creation Operators\n",
    "\n",
    "* ajax\n",
    "* bindCallback\n",
    "* bindNodeCallback\n",
    "* defer\n",
    "* empty\n",
    "* from\n",
    "* fromEvent\n",
    "* fromEventPattern\n",
    "* generate\n",
    "* interval\n",
    "* of\n",
    "* range\n",
    "* throwError\n",
    "* timer\n",
    "* iif"
   ]
  },
  {
   "cell_type": "markdown",
   "metadata": {},
   "source": [
    "## Join Creation Operators\n",
    "\n",
    "These are Observable creation operators that also have join functionality -- emitting values of multiple source Observables.\n",
    "\n",
    "* combineLatest\n",
    "* concat\n",
    "* forkJoin\n",
    "* merge\n",
    "* partition\n",
    "* race\n",
    "* zip"
   ]
  },
  {
   "cell_type": "markdown",
   "metadata": {},
   "source": [
    "## Transformation Operators\n",
    "\n",
    "* buffer\n",
    "* bufferCount\n",
    "* bufferTime\n",
    "* bufferToggle\n",
    "* bufferWhen\n",
    "* concatMap\n",
    "* concatMapTo\n",
    "* exhaust\n",
    "* exhaustMap\n",
    "* expand\n",
    "* groupBy\n",
    "* map\n",
    "* mapTo\n",
    "* mergeMap\n",
    "* mergeMapTo\n",
    "* mergeScan\n",
    "* pairwise\n",
    "* partition\n",
    "* pluck\n",
    "* scan\n",
    "* switchScan\n",
    "* switchMap\n",
    "* switchMapTo\n",
    "* window\n",
    "* windowCount\n",
    "* windowTime\n",
    "* windowToggle\n",
    "* windowWhen"
   ]
  },
  {
   "cell_type": "markdown",
   "metadata": {},
   "source": [
    "## Filtering Operators\n",
    "\n",
    "* audit\n",
    "* auditTime\n",
    "* debounce\n",
    "* debounceTime\n",
    "* distinct\n",
    "* distinctUntilChanged\n",
    "* distinctUntilKeyChanged\n",
    "* elementAt\n",
    "* filter\n",
    "* first\n",
    "* ignoreElements\n",
    "* last\n",
    "* sample\n",
    "* sampleTime\n",
    "* single\n",
    "* skip\n",
    "* skipLast\n",
    "* skipUntil\n",
    "* skipWhile\n",
    "* take\n",
    "* takeLast\n",
    "* takeUntil\n",
    "* takeWhile\n",
    "* throttle\n",
    "* throttleTime"
   ]
  },
  {
   "cell_type": "markdown",
   "metadata": {},
   "source": [
    "## Join Operators\n",
    "\n",
    "Also see the Join Creation Operators section above.\n",
    "\n",
    "* combineLatestAll\n",
    "* concatAll\n",
    "* exhaustAll\n",
    "* mergeAll\n",
    "* switchAll\n",
    "* startWith\n",
    "* withLatestFrom"
   ]
  },
  {
   "cell_type": "markdown",
   "metadata": {},
   "source": [
    "## Multicasting Operators\n",
    "\n",
    "* multicast\n",
    "* publish\n",
    "* publishBehavior\n",
    "* publishLast\n",
    "* publishReplay\n",
    "* share"
   ]
  },
  {
   "cell_type": "markdown",
   "metadata": {},
   "source": [
    "## Error Handling Operators\n",
    "\n",
    "* catchError\n",
    "* retry\n",
    "* retryWhen"
   ]
  },
  {
   "cell_type": "markdown",
   "metadata": {},
   "source": [
    "## Utility Operators\n",
    "\n",
    "* tap\n",
    "* delay\n",
    "* delayWhen\n",
    "* dematerialize\n",
    "* materialize\n",
    "* observeOn\n",
    "* subscribeOn\n",
    "* timeInterval\n",
    "* timestamp\n",
    "* timeout\n",
    "* timeoutWith\n",
    "* toArray"
   ]
  },
  {
   "cell_type": "markdown",
   "metadata": {},
   "source": [
    "## Conditional and Boolean Operators\n",
    "\n",
    "* defaultIfEmpty\n",
    "* every\n",
    "* find\n",
    "* findIndex\n",
    "* isEmpty"
   ]
  },
  {
   "cell_type": "markdown",
   "metadata": {},
   "source": [
    "## Mathematical and Aggregate Operators\n",
    "\n",
    "* count\n",
    "* max\n",
    "* min\n",
    "* reduce\n"
   ]
  },
  {
   "cell_type": "markdown",
   "metadata": {},
   "source": [
    "\n",
    "## Creating custom operators :- `pipe()`\n",
    "\n",
    "* Use the `pipe()` function to make new operators\n",
    "* If there is a commonly used sequence of operators in your code, \n",
    "  * use the `pipe()` function to extract the sequence into a new operator. \n",
    "* Even if a sequence is not that common, \n",
    "  * breaking it out into a single operator can improve readability.\n",
    "\n",
    "* For example,\n",
    "  * you could make a function\n",
    "  * that discarded odd values and doubled even values like this:\n",
    "\n",
    "```js\n",
    "import { pipe, filter, map } from 'rxjs';\n",
    "\n",
    "function discardOddDoubleEven() {\n",
    "  return pipe(\n",
    "    filter((v) => !(v % 2)),\n",
    "    map((v) => v + v)\n",
    "  );\n",
    "}\n",
    "```\n",
    "\n",
    "* The` pipe()` function is analogous to, but not the same thing as, the `.pipe()` method on an Observable.)\n"
   ]
  },
  {
   "cell_type": "markdown",
   "metadata": {},
   "source": [
    "\n",
    "## Creating new operators from scratch\n",
    "\n",
    "It is more complicated, but if you have to write an operator that cannot be made from a combination of existing operators (a rare occurrence), you can write an operator from scratch using the Observable constructor, like this:\n",
    "\n",
    "```js\n",
    "import { Observable, of } from 'rxjs';\n",
    " \n",
    "function delay<T>(delayInMillis: number) {\n",
    "  return (observable: Observable<T>) =>\n",
    "    new Observable<T>((subscriber) => {\n",
    "      // this function will be called each time this\n",
    "      // Observable is subscribed to.\n",
    "      const allTimerIDs = new Set();\n",
    "      let hasCompleted = false;\n",
    "      const subscription = observable.subscribe({\n",
    "        next(value) {\n",
    "          // Start a timer to delay the next value\n",
    "          // from being pushed.\n",
    "          const timerID = setTimeout(() => {\n",
    "            subscriber.next(value);\n",
    "            // after we push the value, we need to clean up the timer timerID\n",
    "            allTimerIDs.delete(timerID);\n",
    "            // If the source has completed, and there are no more timers running,\n",
    "            // we can complete the resulting observable.\n",
    "            if (hasCompleted && allTimerIDs.size === 0) {\n",
    "              subscriber.complete();\n",
    "            }\n",
    "          }, delayInMillis);\n",
    " \n",
    "          allTimerIDs.add(timerID);\n",
    "        },\n",
    "        error(err) {\n",
    "          // We need to make sure we're propagating our errors through.\n",
    "          subscriber.error(err);\n",
    "        },\n",
    "        complete() {\n",
    "          hasCompleted = true;\n",
    "          // If we still have timers running, we don't want to complete yet.\n",
    "          if (allTimerIDs.size === 0) {\n",
    "            subscriber.complete();\n",
    "          }\n",
    "        },\n",
    "      });\n",
    " \n",
    "      // Return the finalization logic. This will be invoked when\n",
    "      // the result errors, completes, or is unsubscribed.\n",
    "      return () => {\n",
    "        subscription.unsubscribe();\n",
    "        // Clean up our timers.\n",
    "        for (const timerID of allTimerIDs) {\n",
    "          clearTimeout(timerID);\n",
    "        }\n",
    "      };\n",
    "    });\n",
    "}\n",
    " \n",
    "// Try it out!\n",
    "of(1, 2, 3).pipe(delay(1000)).subscribe(console.log);\n",
    "```\n"
   ]
  }
 ],
 "metadata": {
  "kernelspec": {
   "display_name": "Python 3.10.9 64-bit (microsoft store)",
   "language": "python",
   "name": "python3"
  },
  "language_info": {
   "name": "python",
   "version": "3.10.9 (tags/v3.10.9:1dd9be6, Dec  6 2022, 20:01:21) [MSC v.1934 64 bit (AMD64)]"
  },
  "orig_nbformat": 4,
  "vscode": {
   "interpreter": {
    "hash": "2c241b0a2dbb25395996509cdcc402c15755508b0c1cfb1ecdb3734d0a06b466"
   }
  }
 },
 "nbformat": 4,
 "nbformat_minor": 2
}
