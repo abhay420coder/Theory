{
 "cells": [
  {
   "cell_type": "markdown",
   "metadata": {},
   "source": []
  },
  {
   "cell_type": "markdown",
   "metadata": {},
   "source": [
    "\n",
    "# The Console Object :- Console Debug\n",
    "\n",
    "* The console object provides access to the browser's debugging console.\n",
    "* The console object is a property of the window object.\n",
    "* The console object is accessed with:\n",
    "  * `window.console` or just `console`\n",
    "\n",
    "* if you are learning Data Structure with JavaScript or Debugging Code the this topic is very helpful.\n"
   ]
  },
  {
   "cell_type": "markdown",
   "metadata": {},
   "source": [
    "\n",
    "## Console Object Methods\n",
    "\n",
    "```js\n",
    "Method              Description\n",
    "assert()            Writes an error message to the console if a assertion is false\n",
    "clear()             Clears the console\n",
    "count()             Logs the number of times that this particular call to count() has been called\n",
    "error()             Outputs an error message to the console\n",
    "\n",
    "group()             Creates a new inline group in the console. \n",
    "                    This indents following console messages by an additional level, \n",
    "                        until console.groupEnd() is called\n",
    "\n",
    "groupCollapsed()    Creates a new inline group in the console. \n",
    "                    However, the new group is created collapsed. \n",
    "                    The user will need to use the disclosure button to expand it\n",
    "\n",
    "groupEnd()          Exits the current inline group in the console\n",
    "info()              Outputs an informational message to the console\n",
    "log()               Outputs a message to the console\n",
    "table()             Displays tabular data as a table\n",
    "time()              Starts a timer (can track how long an operation takes)\n",
    "timeEnd()           Stops a timer that was previously started by console.time()\n",
    "trace()             Outputs a stack trace to the console\n",
    "warn()              Outputs a warning message to the console\n",
    "```\n"
   ]
  },
  {
   "cell_type": "markdown",
   "metadata": {},
   "source": [
    "\n",
    "## Console Object Methods :- ShortNotes\n",
    "\n",
    "* **clear the console**\n",
    "  * `console.clear()` :-  Clears the console\n",
    "  \n",
    "* **output/print in console**\n",
    "  * `console.log(message)`  :-  Outputs a message to the console\n",
    "  * `console.info(message)` :-  Outputs an informational message to the console\n",
    "  * `console.error(message)`  :-  Outputs an error message to the console\n",
    "  * `console.warn(message)` :-  Outputs a warning message to the console\n",
    "  * `console.assert(condition, message)`  :-  Writes an error message to the console if a `condition` is false\n",
    "  * `console.table(tabledata, tablecolumns)`  :-  Displays tabular data as a table\n",
    "  \n",
    "* **show console message in a group**\n",
    "  * `console.group(label)`  :-  Creates a new inline group in the console.\n",
    "  * `console.groupCollapsed(label)` :-  Creates a new inline group in the console.\n",
    "  * `console.groupEnd()`  :-  Exits the current inline group in the console\n",
    "  \n",
    "* **check how much time taken by the code between `console.time(label)` and `console.timeEnd(label)` in console**\n",
    "  * `console.time(label)` :-  Starts a timer (can track how long an operation takes)\n",
    "  * `console.timeEnd(label)`  :-  Stops a timer that was previously started by console.time()\n",
    "  \n",
    "* **check timeComplexity of the code or Loop  with `console.count(label)` in console**\n",
    "  * `console.count(label)`  :-  Logs the number of times that this particular call to count() has been called\n",
    "\n",
    "* **trace output of the code with `console.trace(label)` in console**\n",
    "  * `console.trace(label)`  :-  Outputs a stack trace to the console\n"
   ]
  },
  {
   "cell_type": "markdown",
   "metadata": {},
   "source": [
    "\n",
    "## Console Object Methods :- Describe\n"
   ]
  },
  {
   "cell_type": "markdown",
   "metadata": {},
   "source": [
    "\n",
    "### clear the console\n"
   ]
  },
  {
   "cell_type": "markdown",
   "metadata": {},
   "source": [
    "\n",
    "#### `console.clear()`\n",
    "\n",
    "* Clears the console\n"
   ]
  },
  {
   "cell_type": "markdown",
   "metadata": {},
   "source": [
    "\n",
    "### output/print in console\n"
   ]
  },
  {
   "cell_type": "markdown",
   "metadata": {},
   "source": [
    "\n",
    "#### `console.log(message)`\n",
    "\n",
    "* Outputs a message to the console\n"
   ]
  },
  {
   "cell_type": "markdown",
   "metadata": {},
   "source": [
    "\n",
    "#### `console.info(message)`\n",
    "\n",
    "* Outputs an informational message to the console\n"
   ]
  },
  {
   "cell_type": "markdown",
   "metadata": {},
   "source": [
    "\n",
    "#### `console.error(message)`\n",
    "\n",
    "* Outputs an error message to the console\n"
   ]
  },
  {
   "cell_type": "markdown",
   "metadata": {},
   "source": [
    "\n",
    "#### `console.warn(message)`\n",
    "\n",
    "* Outputs a warning message to the console\n"
   ]
  },
  {
   "cell_type": "markdown",
   "metadata": {},
   "source": [
    "\n",
    "#### `console.assert(condition, message)`\n",
    "\n",
    "* Writes an error message to the console if a `condition` is false\n",
    "* here `condition` si like if-condition or conditional expression\n",
    "  * ex:- `x+y>=11` , `arr.length>10`\n"
   ]
  },
  {
   "cell_type": "markdown",
   "metadata": {},
   "source": [
    "\n",
    "#### `console.table(tabledata, tablecolumns)`\n",
    "\n",
    "* Displays tabular data as a table\n",
    "* ex:-\n",
    "\n",
    "  ```js\n",
    "    const car1 = {name:\"Audi\", model:\"A4\"}\n",
    "    const car2 = {name:\"Volvo\", model:\"XC90\"}\n",
    "    const car3 = {name:\"Ford\", model:\"Fusion\"}\n",
    "    console.table([car1, car2, car3])\n",
    "\n",
    "  ```\n"
   ]
  },
  {
   "cell_type": "markdown",
   "metadata": {},
   "source": [
    "\n",
    "### show console message in a group\n"
   ]
  },
  {
   "cell_type": "markdown",
   "metadata": {},
   "source": [
    "\n",
    "#### `console.group(label)`\n",
    "\n",
    "* Creates a new inline group in the console.\n",
    "* This indents following console messages by an additional level,\n",
    "  * until `console.groupEnd()` is called\n",
    "* label is a \"name\" of group\n"
   ]
  },
  {
   "cell_type": "markdown",
   "metadata": {},
   "source": [
    "\n",
    "#### `console.groupCollapsed(label)`\n",
    "\n",
    "* Creates a new inline group in the console.\n",
    "* However, the new group is created collapsed.\n",
    "  * The user will need to use the disclosure button to expand it\n",
    "* label is a \"name\" of group\n"
   ]
  },
  {
   "cell_type": "markdown",
   "metadata": {},
   "source": [
    "\n",
    "#### `console.groupEnd()`\n",
    "\n",
    "* Exits the current inline group in the console\n",
    "* ex:-\n",
    "\n",
    "  ```js\n",
    "    console.log(\"Hello world!\");\n",
    "    console.group();\n",
    "    console.log(\"Hello again, this time inside a group!\");\n",
    "    console.groupEnd();\n",
    "    console.log(\"and we are back.\");\n",
    "  ```\n",
    "  \n"
   ]
  },
  {
   "cell_type": "markdown",
   "metadata": {},
   "source": [
    "### check how much time taken by the code between `console.time(label)` and `console.timeEnd(label)` in console\n"
   ]
  },
  {
   "cell_type": "markdown",
   "metadata": {},
   "source": [
    "\n",
    "#### `console.time(label)`\n",
    "\n",
    "* Starts a timer (can track how long an operation takes)\n",
    "* The `time()` method starts a timer in the console view.\n",
    "* The `time()` method allows you to time code for testing purposes.\n",
    "* You can run many timers at the same time.\n",
    "* label is a \"name\" of timer\n"
   ]
  },
  {
   "cell_type": "markdown",
   "metadata": {},
   "source": [
    "\n",
    "#### `console.timeEnd(label)`\n",
    "\n",
    "* Stops a timer that was previously started by `console.time()`\n",
    "* label is a \"name\" of timer\n",
    "* ex:-\n",
    "\n",
    "  ```js\n",
    "    console.time();\n",
    "    for (let i = 0; i < 1000000000; i++) {\n",
    "      // some code\n",
    "    }\n",
    "    console.timeEnd();\n",
    "\n",
    "    // it returns how much time loop is taking time\n",
    "  ```\n"
   ]
  },
  {
   "cell_type": "markdown",
   "metadata": {},
   "source": [
    "\n",
    "### check timeComplexity of the code or Loop  with `console.count(label)` in console\n"
   ]
  },
  {
   "cell_type": "markdown",
   "metadata": {},
   "source": [
    "\n",
    "#### `console.count(label)`\n",
    "\n",
    "* Logs the number of times that this particular call to `count()` has been called\n",
    "* Default `label` is \"Default\"\n",
    "* this is useful in loop\n",
    "* label is a \"name\" of count\n",
    "* ex:-\n",
    "\n",
    "  ```js\n",
    "    // Call console.count() 5 times:\n",
    "    for (let i = 0; i < 5; i++) {\n",
    "      console.count();\n",
    "    }\n",
    "\n",
    "    //Call console.count() 5 times, with a label:\n",
    "    for (let i = 0; i < 5; i++) {\n",
    "      console.count(\"myLabel\");\n",
    "    }\n",
    "\n",
    "    // Call console.count() two times:\n",
    "    console.count();\n",
    "    console.count();\n",
    "\n",
    "    // Call console.count two times, with a label:\n",
    "    console.count(\"myLabel\");\n",
    "    console.count(\"myLabel\");\n",
    "\n",
    "    // To remove the label, use \"\" as a parameter:\n",
    "    console.count(\"\");\n",
    "    console.count(\"\");\n",
    "\n",
    "  ```\n"
   ]
  },
  {
   "cell_type": "markdown",
   "metadata": {},
   "source": [
    "\n",
    "### trace output of the code with `console.trace(label)` in console\n"
   ]
  },
  {
   "cell_type": "markdown",
   "metadata": {},
   "source": [
    "\n",
    "#### `console.trace(label)`\n",
    "\n",
    "* Outputs a stack trace to the console\n",
    "* label is a \"name\" of timer\n",
    "* ex:-\n",
    "\n",
    "  ```js\n",
    "    function myFunction() {\n",
    "      myOtherFunction();\n",
    "    }\n",
    "\n",
    "    function myOtherFunction() {\n",
    "      console.trace();\n",
    "    }\n",
    "\n",
    "  ```\n",
    "\n",
    "* output:-\n",
    "\n",
    "  ```js\n",
    "    VM22:8 console.trace\n",
    "    myOtherFunction @ VM22:8\n",
    "    myFunction @ VM22:4\n",
    "    onclick @ tryit.asp?filename=tryjsref_console_trace:1\n",
    "  ```\n"
   ]
  },
  {
   "cell_type": "code",
   "execution_count": null,
   "metadata": {},
   "outputs": [],
   "source": []
  }
 ],
 "metadata": {
  "kernelspec": {
   "display_name": "Python 3.10.9 64-bit (microsoft store)",
   "language": "python",
   "name": "python3"
  },
  "language_info": {
   "name": "python",
   "version": "3.10.9"
  },
  "orig_nbformat": 4,
  "vscode": {
   "interpreter": {
    "hash": "2c241b0a2dbb25395996509cdcc402c15755508b0c1cfb1ecdb3734d0a06b466"
   }
  }
 },
 "nbformat": 4,
 "nbformat_minor": 2
}
