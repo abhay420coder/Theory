{
 "cells": [
  {
   "attachments": {},
   "cell_type": "markdown",
   "metadata": {},
   "source": [
    "# Introduction to computer networks\n"
   ]
  },
  {
   "attachments": {},
   "cell_type": "markdown",
   "metadata": {},
   "source": [
    "\n",
    "> Question :-  What is network\n",
    "\n",
    "Answer :- \n",
    "* A group of two or more similar things or people \n",
    "  * interconnected with each other is called network\n",
    "\n",
    "> Question :-  What is computer network\n",
    "\n",
    "Answer :- \n",
    "* A computer network is an interconnection \n",
    "  * among two or more computers or computing devices. \n",
    "* Such interconnection allows computers \n",
    "  * to share data and resources among each other\n",
    "* Network allows sharing of resources.\n",
    "  * like email, websites, audio/video calls, etc."
   ]
  },
  {
   "attachments": {},
   "cell_type": "markdown",
   "metadata": {},
   "source": [
    "> what is the use of networking device.\n",
    "\n",
    "Answer :- \n",
    "* Networking devices are used \n",
    "  * to connect multiple computers in different settings. \n",
    "  \n",
    "> what is packets.\n",
    "\n",
    "Answer :- \n",
    "*  For communication, \n",
    "   *  data in a network is divided into smaller chunks called packets. \n",
    "*  These packets are then carried over a network.\n",
    "*  Devices in a network can be connected \n",
    "   *  either through wired media like cables \n",
    "   *  or wireless media like air."
   ]
  },
  {
   "attachments": {},
   "cell_type": "markdown",
   "metadata": {},
   "source": [
    "> what is node.\n",
    "\n",
    "Answer :- \n",
    "*  In a communication network, \n",
    "   *  each device that is a part of a network and \n",
    "   *  that can receive, create, store or send data \n",
    "      *  to different network routes is called a node. \n",
    "*  In the context of data communication, \n",
    "   *  a node can be a device \n",
    "      *  such as a modem, hub, bridge, switch, router, digital telephone handset, a printer, a computer or a server."
   ]
  },
  {
   "attachments": {},
   "cell_type": "markdown",
   "metadata": {},
   "source": [
    "# Evolution of Networking"
   ]
  }
 ],
 "metadata": {
  "language_info": {
   "name": "python"
  },
  "orig_nbformat": 4
 },
 "nbformat": 4,
 "nbformat_minor": 2
}
