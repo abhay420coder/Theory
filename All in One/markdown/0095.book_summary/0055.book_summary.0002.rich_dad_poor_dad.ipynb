{
 "cells": [
  {
   "attachments": {},
   "cell_type": "markdown",
   "metadata": {},
   "source": [
    "# chap 1 :- Paise ko smajhna aur sambhalna\n",
    "\n",
    "* shayari :-\n",
    "  * jeb khali ho fir bhi maine unhe mna krte nhi dekha \n",
    "  * are maine apne pita se jyada amir is dniya me koi insaan nhi dekha\n",
    "* paisa sabKuch nhi hai , pr sabKuch pane ke liya paisa jruri hai"
   ]
  },
  {
   "attachments": {},
   "cell_type": "markdown",
   "metadata": {},
   "source": [
    "# chap 2 :- Ammer Dad Ka Sabak\n",
    "* Ameer Log km Tax kyu dete  hai\n",
    "* Apka makaan Sampati nhi hai\n",
    "* Aay me virdhiyaa krmchariyo ki nhi , udhyamiyo aur nivesko ke paas jaa rhi hai\n",
    "  * unlogo ke paas nhi jo paise ke liye kaam krte hai\n",
    "* bachat krne wale prazit hote hai\n",
    "  * gareeb aur madhyam wargiya ke liye paise bachana ek dhrm hai\n",
    "  * gareebi se arthik mukti hai aur krur sanssar se surakcha hai\n",
    "* ek chitr ek hazzar sabdo jitna mulyawaan hota hai "
   ]
  },
  {
   "attachments": {},
   "cell_type": "markdown",
   "metadata": {},
   "source": [
    "# chap-3 :- prastavna\n",
    "* paiso ke liye do nazriya :- \n",
    "  * Paiso ka prem hi sari burai ki jr hai\n",
    "  * paiso ki kami hi sari burai ki jr hai\n",
    "* three types of people\n",
    "  * Ameer log jyada ameer bnte hai\n",
    "  * Gareeb log hmesha greeb rhte  hai\n",
    "  * Aur middle class log hmesha krz me dube rhte hai\n",
    "* man lijiye mere paas kisi vastu ko khridne ke liye paise nhi hai \n",
    "  * 1st type of mind :- `mai ise nhi khrid sakta`\n",
    "    * isme baat khtm ho jaati hai\n",
    "  * 2nd type of mind :- `mai ise kaise khrid sakta hu`\n",
    "    * isme aap sochne ke liye mzboor ho jaate hai\n",
    "* hmesha kisi bhi chiz ke karan(reason) dundhne se mind bdhti hai\n"
   ]
  },
  {
   "attachments": {},
   "cell_type": "markdown",
   "metadata": {},
   "source": [
    "\n",
    "# chap-4 :- Rich dad aur poor dad me frk\n",
    "* man lijiye mere paas kisi vastu ko khridne ke liye paise nhi hai \n",
    "  * Poor type of mind :- `mai ise nhi khrid sakta`\n",
    "    * isme baat khtm ho jaati hai\n",
    "  * Rich type of mind :- `mai ise kaise khrid sakta hu`\n",
    "    * isme aap sochne ke liye mzboor ho jaate hai\n",
    "* example :-\n",
    "  * Poor type of mind :- `mehnat se padho taki tumhe ki achi kampani me naukri mil jaye`\n",
    "  * Rich type of mind :- `mehnat se padho taki tumhe kharidne ke liye koi achi company mil jaye`  \n",
    "* example :-\n",
    "  * Poor type of mind :- `mai isliye ameer nhi hu ki tum baal bacho ko palna padta hai`\n",
    "  * Rich type of mind :- `mujhe isliye ameer banna hai ki mujhe baal bachho ko palna hai`  \n",
    "* example :-\n",
    "  * Poor type of mind :- `jha paise ki baat ho vha zokhim mt lo aur safe khelo`\n",
    "  * Rich type of mind :- `zokhim ko sambhalna sikho`  \n",
    "* example :-\n",
    "  * Poor type of mind :- \n",
    "    * `company aur goverment ko apki aur apki needs ki prwaah krni chahiye`\n",
    "    * `ye hmesha salary increment , medical benifit , seek leave , weekend leaves`\n",
    "    * `inspired by government job`\n",
    "  * Rich type of mind :- \n",
    "    * `financial independent me believ krte hai`\n",
    "    * `suvidha bhogi aur adhikaar ke mansikta ke virodhi the`\n",
    "    * `independent by economically`  \n",
    "* example :-\n",
    "  * Poor type of mind :- \n",
    "    * `dollar ko save krne ke liye mind lgana`\n",
    "  * Rich type of mind :- \n",
    "    * `dollar ko asset me  invest ke liye mind lgana`  \n",
    "* example :-\n",
    "  * Poor type of mind :- \n",
    "    * `searching for good job , how to write effective bio-data`\n",
    "  * Rich type of mind :- \n",
    "    * `powerful bussiness and financial yojna kaise likhi jai`\n",
    "* Kadka hona Asthai hai aur gareeb hona sthai hai\n",
    "  * kadkaa hone ka mtlb `aapki bussiness me achanak se ek bdaa loss ho jana`  \n"
   ]
  },
  {
   "attachments": {},
   "cell_type": "markdown",
   "metadata": {},
   "source": [
    "# chap-5 :- Ammer log paise ke liye kaam nhi krte hai\n",
    "* gareeb aur madhyam varg ke log paise ke liye kaam krte hai.\n",
    "* Ameer log paise ke liye kaam nhi krate hai.\n",
    "  * Ameer log paise se apne liye kaam krate hai.\n",
    "* "
   ]
  },
  {
   "cell_type": "code",
   "execution_count": null,
   "metadata": {},
   "outputs": [],
   "source": []
  }
 ],
 "metadata": {
  "kernelspec": {
   "display_name": "JavaScript (Node.js)",
   "language": "javascript",
   "name": "javascript"
  },
  "language_info": {
   "name": "javascript"
  },
  "orig_nbformat": 4
 },
 "nbformat": 4,
 "nbformat_minor": 2
}
