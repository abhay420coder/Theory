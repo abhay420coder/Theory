{
 "cells": [
  {
   "attachments": {},
   "cell_type": "markdown",
   "metadata": {},
   "source": [
    "##### point : 1 (women ko dekehne ka nazariya badle)\n",
    "\n",
    "> 1. ladki ko kabhi bhi object kr trh treat nhi krni chahiye \n",
    ">    1. kyuki vo bhi insaan hai , use bhi apni trh equal value dijiye.\n",
    "\n",
    "2. aurat ko objet(cheez) ki trh dekhna bnd kijiye , \n",
    "   1. vo koi kabje krne wali cheez nhi hai\n",
    "   2. vo koi prize nhi hai , jise aap koi competition me jitte hai\n",
    "3. upar wale ne jaise hme banaya hai vaise hi  usne ladie ko bnaya hai\n",
    "4. ladie ko jabardasti pane ki osis mt kijiye , varna vo dur chali jayegi"
   ]
  },
  {
   "attachments": {},
   "cell_type": "markdown",
   "metadata": {},
   "source": [
    "##### point 2 :- jise aap chahte ho use pura krne ki kosis kijiye , naa ki us pr havi havi hone kaa"
   ]
  },
  {
   "attachments": {},
   "cell_type": "markdown",
   "metadata": {},
   "source": [
    "##### point 3 :- \n",
    "1. ydi aurat sabki purposal ko haan kr de \n",
    "   1. to log uski character pr ungli uthayenge\n",
    "   2. to log iska mtlb ye lga lete hai ki\n",
    "   3. usko sabke sath relationship me rhna hai yaa vo cheap hai\n",
    "2. ydi aurat aapki purposal ko naa kr de to log iska mtlb ye lga lete hai ki\n",
    "   1. usme attitude aa fya hai , vo apne aapko heroine smajhti hai\n",
    "3. ydi koi aurat apki purposal ko reject kr deti hai \n",
    "   1. iska mtlb simply ye hai ki vo aapme interested nhi\n",
    "   2. iska koi dusra mtlb nhi nikale , us pr koi ilzam naa lagaye\n",
    "   3. ladki ki apni choice hai ki vo aapko pasand kre yaa naa kre\n",
    "> 4. kisi ke purposal ko accept aur reject krne se aurat ke character ko justify nhi krnaa chahiye"
   ]
  },
  {
   "attachments": {},
   "cell_type": "markdown",
   "metadata": {},
   "source": [
    "##### point 4 :- three principls :- aim , courage , don't be needy\n",
    "1. aap apne aim ko achieve krne ke  kitne jiimedar ho. \n",
    "   1. kyuki apne goals ko achieve krna bh ek acho lifestyle hai\n",
    "   2. jo log ye dikhate hai ki vo life me kuch achieve krna chahte hai vo aurto ko ache lagte hai\n",
    "2. courage :- \n",
    "   1. kisi aurat ko phli baar date pr jaan bhi ek courage hai\n",
    "   2. kyuki ho sakta hai vo mna bhi kr sakti hai\n",
    "   3. to behtar hai aap use purpose kr de\n",
    "3. dont be needy :- \n",
    "   1. aap needy kabhi naa bne\n",
    "   2. aap use bta dijiye ki aap use date krna chahte hai\n",
    "      1. ydi vo nhi mani to aap uske bagair jee nhi payenge\n",
    "   3. aap  show mt kijiye ki uske bina apki life bnd si pd jayegi\n",
    "      1. unhe is baat ki ehsaas ho ki uske bin a bhi apki life achi hi rhegi"
   ]
  },
  {
   "attachments": {},
   "cell_type": "markdown",
   "metadata": {},
   "source": [
    "#### point 5 :- treat other person with good behaviour\n",
    "1. aurat is cheez pr bhut jyada focus krti hai ki vo duskro ko kaise treat krte ho\n",
    "   \n",
    "> 2. spend less and get more\n",
    ">       1. aurto ko jyada gift yaa paise mt dijiye\n",
    ">       2. use apne jaise equal hi smajhiye\n",
    ">       3. ambitious , courage bniye \n",
    ">       4. needy t baniye\n",
    ">       5. dusro ko respect kijiye aur respectful tarike se baat kijiye\n",
    ">       6. aurat ko force mt kijiye ki vo aapse baat kre yaa pyar kre , ydi use baat krne kaa hoga to kregi nhi to nhi kregi\n",
    ">       7. don't be despirate to get women"
   ]
  },
  {
   "attachments": {},
   "cell_type": "markdown",
   "metadata": {},
   "source": [
    "#### point 6 :- \n",
    "1. be honest with self\n",
    "2. khud ko kmzor mt dikhiye kabhi bhi\n",
    "3. ydi koi date fail hita hai to \n",
    "   1. khud ke bare me glt mt sochiye \n",
    "   2. aur khud se sawal kijiye \n",
    "   3. aur uska answer dundhne ki kosis kijiye\n",
    "4. iss trike se aap valnureble bnkr bhi strong bn sakte hai\n",
    "5. kiski ke achai ka fayda mt uthaiye"
   ]
  },
  {
   "attachments": {},
   "cell_type": "markdown",
   "metadata": {},
   "source": [
    "#### point 7 :-\n",
    "1. aurto ko ye feel nhi krwaye vo sirf apke liye ek object ki trh hai\n",
    "2. aurto ko ye feel nhi krwaye ki aap sirf uske sath physical relations bnane ke liye hai "
   ]
  },
  {
   "attachments": {},
   "cell_type": "markdown",
   "metadata": {},
   "source": [
    "#### point 8 :- try to find interest level of women\n",
    "1. receptive aurat vo hai jo apko pasand krti hai aur apko chahti hai\n",
    "2. ydi koi aurat apki personal life me interest dikha rhi ahi to apko uske IOI samajhne honge\n",
    "3. IOI :- indication of interest\n",
    "4. aap aurto ke sath bura behave naa kre "
   ]
  },
  {
   "cell_type": "code",
   "execution_count": null,
   "metadata": {},
   "outputs": [],
   "source": []
  }
 ],
 "metadata": {
  "kernelspec": {
   "display_name": "Python 3",
   "language": "python",
   "name": "python3"
  },
  "language_info": {
   "name": "python",
   "version": "3.10.11 (tags/v3.10.11:7d4cc5a, Apr  5 2023, 00:38:17) [MSC v.1929 64 bit (AMD64)]"
  },
  "orig_nbformat": 4,
  "vscode": {
   "interpreter": {
    "hash": "2c241b0a2dbb25395996509cdcc402c15755508b0c1cfb1ecdb3734d0a06b466"
   }
  }
 },
 "nbformat": 4,
 "nbformat_minor": 2
}
