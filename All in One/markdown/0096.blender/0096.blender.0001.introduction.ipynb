{
 "cells": [
  {
   "attachments": {},
   "cell_type": "markdown",
   "metadata": {},
   "source": [
    "# scale , move , rotate , zoom-in-out , select object, floor axis , default view , object hide-unhide, object lock-unlock\n",
    "* if we want to remove default camera, light and cube\n",
    "  * then select all (`ctrl + A`) then press `delete` button\n",
    "  * then go to `file` -> `defaults` -> save stratup `file`\n",
    "* if we want to add default camera, light and cube\n",
    "  * then go to `file` -> `defaults` -> `load factory setting`\n",
    "  \n",
    "> * zoom in = mouse wheel up\n",
    "> * zoom out = mouse wheel down\n",
    "> * rotate on axis = `press mouse middle` then `rotate mouse`\n",
    "> * floor axis = `shift` + `press mouse middle` then `rotate mouse`\n",
    "> * zoom in/out = `ctrl` + `press mouse middle` then `move mouse forward/backward`\n",
    "\n",
    "> * Cursor position change = `shift` + `right-click`   on any position\n",
    "> * if you want to any object then new object will be add on cursor position\n",
    "\n",
    "> * seletct move Tool = `shift`+`spacebar` -> `press G`\n",
    "> * seletct rotate Tool = `shift`+`spacebar` -> `press R`\n",
    "> * seletct Scale Tool = `shift`+`spacebar` -> `press S`\n",
    "> * seletct Transform Tool = `shift`+`spacebar` -> `press T`\n",
    "\n",
    "> * free move = `press G` then `move object anywhere`\n",
    "> * free rotate = `press R` then `rotate object in any direction`\n",
    "> * free Scale = `press S` then `scale object in any direction`\n",
    "\n",
    "> * free move = `press G` then `move object anywhere`\n",
    "> * free move in x direction as global= `press G` then `press X` then `move object in global x direction`\n",
    "> * free move in x direction as local= `press G` then `press XX` then `move object in local x direction`\n",
    "> * free move in y direction as global= `press G` then `press Y` then `move object in global y direction`\n",
    "> * free move in y direction as local= `press G` then `press YY` then `move object in local y direction`\n",
    "> * free move in z direction as global= `press G` then `press Z` then `move object in global z direction`\n",
    "> * free move in z direction as local= `press G` then `press ZZ` then `move object in local z direction`\n",
    "\n",
    "\n",
    "\n",
    "> * free rotate = `press R` then `rotate object in any direction`\n",
    "> * free rotate in x direction as global= `press R` then `press X` then `rotate object in global x direction`\n",
    "> * free rotate in x direction as local= `press R` then `press XX` then `rotate object in local x direction`\n",
    "> * free rotate in y direction as global= `press R` then `press Y` then `rotate object in global y direction`\n",
    "> * free rotate in y direction as local= `press R` then `press YY` then `rotate object in local y direction`\n",
    "> * free rotate in z direction as global= `press R` then `press Z` then `rotate object in global z direction`\n",
    "> * free rotate in z direction as local= `press R` then `press ZZ` then `rotate object in local z direction`\n",
    "\n",
    "> * free rotate in XY direction (in trackBall) as global= `press R` then `press XR`/`press YR`/`press ZR` then `rotate object on trackBall`\n",
    "> * free rotate in XY direction (in trackBall) as local= `press R` then `press XXR`/`press YYR`/`press ZZR` then `rotate object on trackBall`\n",
    "\n",
    "> * free Scale = `press S` then `scale object in any direction`\n",
    "> * free Scale in x direction as global= `press s` then `press X` then `Scale object in global x direction`\n",
    "> * free Scale in x direction as local= `press s` then `press XX` then `Scale object in local x direction`\n",
    "> * free Scale in y direction as global= `press s` then `press Y` then `Scale object in global y direction`\n",
    "> * free Scale in y direction as local= `press s` then `press YY` then `Scale object in local y direction`\n",
    "> * free Scale in z direction as global= `press s` then `press Z` then `Scale object in global z direction`\n",
    "> * free Scale in z direction as local= `press s` then `press ZZ` then `Scale object in local z direction`\n",
    "\n",
    "\n"
   ]
  },
  {
   "cell_type": "code",
   "execution_count": null,
   "metadata": {},
   "outputs": [],
   "source": []
  }
 ],
 "metadata": {
  "kernelspec": {
   "display_name": "Python 3 (ipykernel)",
   "language": "python",
   "name": "python3"
  },
  "language_info": {
   "codemirror_mode": {
    "name": "ipython",
    "version": 3
   },
   "file_extension": ".py",
   "mimetype": "text/x-python",
   "name": "python",
   "nbconvert_exporter": "python",
   "pygments_lexer": "ipython3",
   "version": "3.10.11 (tags/v3.10.11:7d4cc5a, Apr  5 2023, 00:38:17) [MSC v.1929 64 bit (AMD64)]"
  },
  "vscode": {
   "interpreter": {
    "hash": "2c241b0a2dbb25395996509cdcc402c15755508b0c1cfb1ecdb3734d0a06b466"
   }
  }
 },
 "nbformat": 4,
 "nbformat_minor": 2
}
