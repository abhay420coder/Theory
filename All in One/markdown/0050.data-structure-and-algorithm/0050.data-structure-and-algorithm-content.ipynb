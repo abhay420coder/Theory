{
 "cells": [
  {
   "cell_type": "markdown",
   "metadata": {},
   "source": [
    "\n",
    "# Learn Data Structure\n",
    "\n",
    "* Array\n",
    "* String\n",
    "* Linked List\n",
    "* Matrix/Grid\n",
    "* Stack\n",
    "* Queue\n",
    "* Heap\n",
    "* Hash\n",
    "* Tree Data Structures\n",
    "* Binary Tree\n",
    "* Binary Search Tree\n",
    "* Other Tree Data Structures\n",
    "* Graph Data Structure\n"
   ]
  },
  {
   "cell_type": "markdown",
   "metadata": {},
   "source": [
    "\n",
    "# Learn Algorithms\n",
    "\n",
    "* Searching Algorithm\n",
    "* Sorting Algorithm\n",
    "* Divide and Conquer Algorithm\n",
    "* Greedy Mehtodology\n",
    "* Recursion\n",
    "* Backtracking Algorithm\n",
    "* Dynamic Programming\n",
    "* Pattern Searching\n",
    "* Mathematical Algorithms\n",
    "* Geometric Algorithms\n",
    "* Bitwise Algorithms\n",
    "* Randomized Algorithms\n",
    "* Branch and Bound Algorithm\n"
   ]
  }
 ],
 "metadata": {
  "kernelspec": {
   "display_name": "Python 3.10.9 64-bit (microsoft store)",
   "language": "python",
   "name": "python3"
  },
  "language_info": {
   "name": "python",
   "version": "3.10.9 (tags/v3.10.9:1dd9be6, Dec  6 2022, 20:01:21) [MSC v.1934 64 bit (AMD64)]"
  },
  "orig_nbformat": 4,
  "vscode": {
   "interpreter": {
    "hash": "2c241b0a2dbb25395996509cdcc402c15755508b0c1cfb1ecdb3734d0a06b466"
   }
  }
 },
 "nbformat": 4,
 "nbformat_minor": 2
}
