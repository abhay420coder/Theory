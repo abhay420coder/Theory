{
 "cells": [
  {
   "cell_type": "markdown",
   "metadata": {},
   "source": [
    "\n",
    "# Algorithm analysis :- Time and Space complexity\n",
    "\n",
    "* There are multiple ways to solve one problem\n",
    "* Ex: There are multiple algorithms to sort a list of numbers\n",
    "* How do we analyse which one of them is the most efficient algorithm?\n",
    "* Generally, when we talk about performance, we use an absolute measure\n",
    "* If I can run 100 meters in 12 seconds, I'm faster than someone who takes 15 seconds.\n",
    "\n",
    ">The absolute running time of an algorithm cannot be predicted, since it depends on a number of factors\n",
    ">\n",
    "> * Programming language used to implement the algorithm\n",
    "> * The computer the program runs on\n",
    "> * Other programs running at the same time\n",
    "> * Quality of the operating system\n"
   ]
  },
  {
   "cell_type": "markdown",
   "metadata": {},
   "source": [
    "\n",
    "### We evaluate the performance of an algorithm in terms of its input size\n",
    "\n",
    "**Time complexity** - Amount of time taken by an algorithm to run, as a function of input size.\n",
    "\n",
    "* Time complexity is given by time as a function of the length of the input.\n",
    "*\n",
    "\n",
    "**Space complexity** - Amount of memory taken by an algorithm to run, as a function of input size.\n",
    "\n",
    "By evaluating against the input size, the analysis is not only machine independent but the comparison is also more appropriate.\n",
    "There is no one solution that works every single time. It is always good to know multiple ways to solve the problem and use the best solution, given your constraints.\n",
    "\n",
    "If your app needs to be very quick and has plenty of memory to work with, you don't have to worry about space complexity.\n",
    "If you have very little memory to work with, you should pick a solution that is relatively slower but needs less space.\n"
   ]
  },
  {
   "cell_type": "markdown",
   "metadata": {},
   "source": [
    "\n",
    "## How to represent complexity?\n",
    "\n",
    "Asymptotic notations\n",
    "\n",
    "* Mathematical tools to represent time and space complexity\n",
    "\n",
    "1. Big-O Notation (O-notation) — Worst case complexity\n",
    "   * The worst case complexity of an algorithm is represented using the Big-O notation\n",
    "2. Omega Notation (Q-notation) — Best case complexity\n",
    "3. Theta Notation (O-notation) — Average case complexity\n"
   ]
  },
  {
   "cell_type": "markdown",
   "metadata": {},
   "source": [
    "\n",
    "# Big-O Notation\n",
    "\n",
    "The worst case complexity of an algorithm is represented using the Big-O notation.\n",
    "Big-O notation describes the complexity of an algorithm using algebraic terms\n",
    "> It has two important characteristics\n",
    ">\n",
    "> * It is expressed in terms of the input\n",
    "> * It focuses on the bigger picture without getting caught up in the minute details\n",
    "\n",
    "**Example :-**\n",
    "\n",
    "```JS\n",
    "        function summation(n) {\n",
    "        let sum = 0;\n",
    "        for (let i =1 ; i<=n ; i++) {\n",
    "            sum += i;\n",
    "        }\n",
    "        return sum;\n",
    "        }\n",
    "```\n",
    "\n",
    "**output:-**\n",
    "`\n",
    "summation(4) = 1+2+3+4=10 => Count the number of times a statement executes based on the input size\n",
    "`\n",
    "**Number of times executed - big o notation**\n",
    "![Number of times executed - big o notation](../image/0030.data-structure.0002.Complexity/Number%20of%20times%20executed%20-%20big%20o%20notation.png)\n",
    "![Number of times executed - big o notation - 2](../image/0030.data-structure.0002.Complexity/Number%20of%20times%20executed%20-%20big%20o%20notation%20-2.png)\n",
    "\n",
    "**Time Complexity** of above function =>  O(n) - Linear\n",
    "\n",
    "* And, there exists a relation between the input data size (n) and the number of operations performed (N) with respect to time.\n",
    "* This relation is denoted as **Order of growth** in Time complexity\n",
    "* and given notation **O[n]**\n",
    "  * where O is the order of growth\n",
    "  * and n is the length of the input.\n",
    "* It is also called as ‘**Big O Notation**’\n",
    "\n",
    "> **Importan point**\n",
    ">\n",
    "> * Big O Notation expresses the run time of an algorithm in terms of how quickly it grows relative to the input ‘n’ by defining the N number of operations that are done on it.\n",
    "> * Thus, the time complexity of an algorithm is denoted by the combination of all O[n] assigned for each line of function.\n",
    "\n",
    "> **There are different types of time complexities used, let’s see one by one:-**\n",
    ">\n",
    "> 1. Constant time – O (1)\n",
    "> 2. Linear time – O (n)\n",
    "> 3. Logarithmic time – O (log n)\n",
    "> 4. Quadratic time – O (n^2^)\n",
    "> 5. Cubic time – O (n^3^)\n",
    ">\n",
    ">\n",
    "> and many more complex notations like **Exponential time, Quasilinear time, factorial time**, etc. are used based on the type of functions defined.\n"
   ]
  },
  {
   "cell_type": "code",
   "execution_count": null,
   "metadata": {},
   "outputs": [],
   "source": []
  }
 ],
 "metadata": {
  "kernelspec": {
   "display_name": "Python 3.10.9 64-bit (microsoft store)",
   "language": "python",
   "name": "python3"
  },
  "language_info": {
   "name": "python",
   "version": "3.10.9 (tags/v3.10.9:1dd9be6, Dec  6 2022, 20:01:21) [MSC v.1934 64 bit (AMD64)]"
  },
  "orig_nbformat": 4,
  "vscode": {
   "interpreter": {
    "hash": "2c241b0a2dbb25395996509cdcc402c15755508b0c1cfb1ecdb3734d0a06b466"
   }
  }
 },
 "nbformat": 4,
 "nbformat_minor": 2
}
