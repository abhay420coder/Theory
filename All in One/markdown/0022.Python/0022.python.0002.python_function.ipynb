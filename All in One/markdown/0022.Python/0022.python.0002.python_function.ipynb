{
 "cells": [
  {
   "attachments": {},
   "cell_type": "markdown",
   "metadata": {},
   "source": [
    "# Function Introduction\n",
    "\n",
    "### why we need functions\n",
    "\n",
    "* generally we see  that \n",
    "  * there are often repeated elements in our program.\n",
    "  \n",
    "> * **Method 1:-**\n",
    ">   * you can cut and paste code from one section to another , but this is messy\n",
    "\n",
    "> * what happens when you need to update that particular part of the program\n",
    ">   * you would have to modify each duplicated section individually.\n",
    "\n",
    "> * For very small programs this is unlikelyto generate any significant overhead\n",
    ">   * but as the size and complexity of the program increases,\n",
    ">   * so does the time required to modify and update essentially the same piece of code over and over.\n",
    "\n",
    "> * Duplication also runs the risk of introducing additional syntactic, logical, and typographical errors.\n",
    "> * Imagine Duplicatiing a sequence that contained a simple typing mistake -\n",
    ">   * you would have to trace every single instance to isolate\n",
    "\n",
    "**This is where fnctions solve all your problems.**\n"
   ]
  },
  {
   "attachments": {},
   "cell_type": "markdown",
   "metadata": {},
   "source": [
    "### Abstraction\n",
    "\n",
    "* Abstraction is the concept of oop that shows only essentialattributes and un-necessary informations.\n",
    "* This method of taking repeated pieces of code and placing them into a function is called abstraction.\n",
    "  \n",
    "##### Python has three basic leels of abstraction\n",
    "* A program can be split into multiple modules.\n",
    "* Each Module contains multiple statements.\n",
    "* Each statement operates on objects.\n",
    "\n",
    "### special feature of python related to function\n",
    "\n",
    "* Python also provides one of the best systems for code reuse.\n",
    "* Once you have written a python function, \n",
    "  * it is immediately available to any other program just by importing the function from the source file.\n"
   ]
  },
  {
   "attachments": {},
   "cell_type": "markdown",
   "metadata": {},
   "source": [
    "### "
   ]
  },
  {
   "attachments": {},
   "cell_type": "markdown",
   "metadata": {},
   "source": []
  }
 ],
 "metadata": {
  "kernelspec": {
   "display_name": "Python 3",
   "language": "python",
   "name": "python3"
  },
  "language_info": {
   "codemirror_mode": {
    "name": "ipython",
    "version": 3
   },
   "file_extension": ".py",
   "mimetype": "text/x-python",
   "name": "python",
   "nbconvert_exporter": "python",
   "pygments_lexer": "ipython3",
   "version": "3.10.11 (tags/v3.10.11:7d4cc5a, Apr  5 2023, 00:38:17) [MSC v.1929 64 bit (AMD64)]"
  },
  "orig_nbformat": 4,
  "vscode": {
   "interpreter": {
    "hash": "2c241b0a2dbb25395996509cdcc402c15755508b0c1cfb1ecdb3734d0a06b466"
   }
  }
 },
 "nbformat": 4,
 "nbformat_minor": 2
}
