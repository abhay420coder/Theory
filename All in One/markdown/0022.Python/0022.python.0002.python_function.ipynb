{
 "cells": [
  {
   "attachments": {},
   "cell_type": "markdown",
   "metadata": {},
   "source": [
    "# Function Introduction\n",
    "\n",
    "## why we need functions\n",
    "\n",
    "* generally we see  that \n",
    "  * there are often repeated elements in our program.\n",
    "  \n",
    "> * **Method 1:-**\n",
    ">   * you can cut and paste code from one section to another , but this is messy\n",
    "\n",
    "> * what happens when you need to update that particular part of the program\n",
    ">   * you would have to modify each duplicated section individually.\n",
    "\n",
    "> * For very small programs this is unlikelyto generate any significant overhead\n",
    ">   * but as the size and complexity of the program increases,\n",
    ">   * so does the time required to modify and update essentially the same piece of code over and over.\n",
    "\n",
    "> * Duplication also runs the risk of introducing additional syntactic, logical, and typographical errors.\n",
    "> * Imagine Duplicatiing a sequence that contained a simple typing mistake -\n",
    ">   * you would have to trace every single instance to isolate\n",
    "\n",
    "**This is where fnctions solve all your problems.**\n"
   ]
  },
  {
   "attachments": {},
   "cell_type": "markdown",
   "metadata": {},
   "source": [
    "## Abstraction\n",
    "\n",
    "* Abstraction is the concept of oop that shows only essentialattributes and un-necessary informations.\n",
    "* This method of taking repeated pieces of code and placing them into a function is called abstraction.\n",
    "  \n",
    "### Python has three basic leels of abstraction\n",
    "* A program can be split into multiple modules.\n",
    "* Each Module contains multiple statements.\n",
    "* Each statement operates on objects.\n",
    "\n",
    "## special feature of python related to function\n",
    "\n",
    "* Python also provides one of the best systems for code reuse.\n",
    "* Once you have written a python function, \n",
    "  * it is immediately available to any other program just by importing the function from the source file.\n"
   ]
  },
  {
   "attachments": {},
   "cell_type": "markdown",
   "metadata": {},
   "source": [
    "## Function Definition and execution\n"
   ]
  },
  {
   "attachments": {},
   "cell_type": "markdown",
   "metadata": {},
   "source": [
    "\n",
    "###   Normal Function\n",
    "If the number of arguments is known\n",
    "```py\n",
    "\n",
    "def   functionName(arg1 , arg2, arg3, ..... , argN  ): \n",
    "    # statement(s)\n",
    "    # return value\n",
    "\n",
    "# Example  \n",
    "def my_function(fname):\n",
    " \tprint(fname + \" Refsnes\")\n",
    "my_function(\"Emil\")\t# Emil Refsnes\n",
    "\n",
    "```\n"
   ]
  },
  {
   "attachments": {},
   "cell_type": "markdown",
   "metadata": {},
   "source": [
    "###  Return Values    -  Function  \n",
    "To let a function return a value, use the return statement:\n",
    "\n",
    "```py\n",
    "# syntax\n",
    "def   functionName(arg1 , arg2, arg3, ..... , argN  ): \n",
    "    return value\n",
    "\n",
    "\n",
    "# Example  \n",
    "def my_function(x):\n",
    "\treturn 5 * x\n",
    "print(my_function(3)) # 15\n",
    "\n",
    "```\n"
   ]
  },
  {
   "attachments": {},
   "cell_type": "markdown",
   "metadata": {},
   "source": [
    "\n",
    "### Pass Statement   -  Function\n",
    "definition(functions) with no content, put in the pass statement to avoid getting an error:\n",
    "\n",
    "```py\n",
    "def   functionName(arg1 , arg2, arg3, ..... , argN  ): \n",
    "    pass \n",
    "```\n"
   ]
  },
  {
   "attachments": {},
   "cell_type": "markdown",
   "metadata": {},
   "source": [
    "\n",
    "### Default Parameter Value -  Function  .   \n",
    "If the number of arguments is known\n",
    "```py\n",
    "def functionName(arg1=Val1,arg2=Val2,...,argN=ValN ): \n",
    "    # statement(s)\n",
    "    # return value\n",
    "\n",
    "\n",
    "# Example\n",
    "def my_function(country = \"Norway\"):\n",
    "\tprint(country)\n",
    "my_function(\"Sweden\") # Sweden      \n",
    "my_function(\"India\") # India   \n",
    "my_function() # Norway  \t\n",
    "my_function(\"Brazil\") # Brazil\n",
    "\n",
    "```\n"
   ]
  },
  {
   "attachments": {},
   "cell_type": "markdown",
   "metadata": {},
   "source": [
    "\n",
    "### key = value  Argument - Function ....  \n",
    "Keyword Arguments:  `key=value`\n",
    "\n",
    "```py\n",
    "def   functionName(arg1 , arg2, ..... , argN ): \n",
    "oneTabSpace # statement(s)\n",
    "Example  \n",
    "def my_function(child3, child2):\n",
    "                      print(\"The youngest child is \" + child3)\n",
    "my_function(child2 = \"Tob\", child3 = \"Lin\") # Lin\n",
    "```\n"
   ]
  },
  {
   "attachments": {},
   "cell_type": "markdown",
   "metadata": {},
   "source": [
    "### Unknow Argument - Function *kwargs :-  for tupels    \n",
    "* This way the function will receive a tuple of arguments, and can access the items accordingly\n",
    "* If the number of arguments is unknown, add a * before the parameter name:\n",
    "\n",
    "```py\n",
    "def   functionName( *arg ): \n",
    "    # statement(s)\n",
    "\n",
    "\n",
    "\n",
    "# This way the function will receive a tuple of arguments, and can access the items accordingly\n",
    "# Example  \n",
    "def my_function(*kids):\n",
    " \tprint(kids[2])\n",
    "my_function(\"Emil\", \"Tobias\", \"Linus\") # Linus\n",
    "```\n",
    "\n"
   ]
  },
  {
   "attachments": {},
   "cell_type": "markdown",
   "metadata": {},
   "source": [
    "### Unknow Argument - Function **kwargs :- for dictionaries  \n",
    "* This way the function will receive a dictionary of arguments, and can access the items accordingly\n",
    "* If the number of arguments is unknown, add a ** before the parameter name:\n",
    "\n",
    "\n",
    "```py\n",
    "def   functionName( **arg ): \n",
    "    # statement(s)\n",
    "\n",
    "\n",
    "\n",
    "# This way the function will receive a dictionary of arguments, and can access the items accordingly\n",
    "# Example  \n",
    "def my_function(**kids):\n",
    " \tprint(kid[\"lname\"])\n",
    "my_function(fname = \"Tob\", lname = \"Lin\") # Lin\n",
    "```\n"
   ]
  },
  {
   "attachments": {},
   "cell_type": "markdown",
   "metadata": {},
   "source": [
    "##### Note :- \n",
    "\n",
    "* `return` keyword stops the execution of a function and **returns the desired output**. \n",
    "* Even if there's no value to return, it will use void as a return type\n",
    "* in Python or JS a function must be called with the correct number of arguments.  \t\n",
    "* void keyword is not using in python/JS\n"
   ]
  },
  {
   "attachments": {},
   "cell_type": "markdown",
   "metadata": {},
   "source": [
    "### Lambda Function :- \n",
    "* A lambda function is a small anonymous function.\n",
    "* The power of lambda is better shown when you use them as an anonymous function inside another function.\n",
    "* A lambda function can take any number of arguments, but can only have one expression.:\n",
    "  * `functionName = lambda arg1 , arg2, ..... , argN  :    # Single_Line_Return_Statement` \n",
    "    * is equal to \n",
    "  * `def functionName(arg1 , arg2, ..... , argN): # Single_Line_Return_Statement`\n",
    "```py\n",
    "functionName = lambda arg1 , arg2, ..... , argN  :    # Single_Line_Return_Statement\n",
    "\n",
    "\n",
    "# Example \n",
    "x = lambda a, b, c : a + b + c    \n",
    "# or   \n",
    "def y(a,b,c): \n",
    "    return a+b+c     \n",
    "\n",
    "\n",
    "print(x(5, 6, 2))#13  \n",
    "print(y(5, 6, 2))#13  \n",
    "\n",
    "\n",
    "# The power of lambda is better shown when you use them as an anonymous function inside another function.\n",
    "def myfunc(n): \n",
    "\treturn lambda a : a * n           \n",
    "mydoubler = myfunc(2)\t\t# mydoubler = myfunc(2) = lambda a : a * 2    \n",
    "# mydoubler = lambda a : a * 2 \n",
    "print(mydoubler(11))#22\n"
   ]
  },
  {
   "attachments": {},
   "cell_type": "markdown",
   "metadata": {},
   "source": [
    "### rules for function Name\n",
    "1. functionName must begin with an underscore or letter and may contain any combination of underscore,letters and numbers.\n",
    "2. don't use reserve word for functionName\n",
    "3. functionName is case-sensitive."
   ]
  },
  {
   "cell_type": "code",
   "execution_count": 2,
   "metadata": {},
   "outputs": [
    {
     "name": "stdout",
     "output_type": "stream",
     "text": [
      "Emil Refsnes\n"
     ]
    },
    {
     "data": {
      "text/plain": [
       "'24'"
      ]
     },
     "execution_count": 2,
     "metadata": {},
     "output_type": "execute_result"
    }
   ],
   "source": [
    "def my_function(fname):\n",
    "    print(fname + \" Refsnes\")\n",
    "    return \"24\"\n",
    "my_function(\"Emil\")\t# Emil Refsnes"
   ]
  },
  {
   "cell_type": "code",
   "execution_count": 4,
   "metadata": {},
   "outputs": [
    {
     "name": "stdout",
     "output_type": "stream",
     "text": [
      "13\n",
      "13\n",
      "22\n"
     ]
    }
   ],
   "source": [
    "\n",
    "\n",
    "# Example \n",
    "x = lambda a, b, c : a + b + c    \n",
    "# or   \n",
    "def y(a,b,c): \n",
    "    return a+b+c     \n",
    "\n",
    "\n",
    "print(x(5, 6, 2))#13  \n",
    "print(y(5, 6, 2))#13  \n",
    "\n",
    "\n",
    "# The power of lambda is better shown when you use them as an anonymous function inside another function.\n",
    "def myfunc(n): \n",
    "\treturn lambda a : a * n           \n",
    "mydoubler = myfunc(2)\t\t# mydoubler = myfunc(2) = lambda a : a * 2    \n",
    "# mydoubler = lambda a : a * 2 \n",
    "print(mydoubler(11))#22"
   ]
  },
  {
   "attachments": {},
   "cell_type": "markdown",
   "metadata": {},
   "source": [
    "## Scope"
   ]
  }
 ],
 "metadata": {
  "kernelspec": {
   "display_name": "Python 3",
   "language": "python",
   "name": "python3"
  },
  "language_info": {
   "codemirror_mode": {
    "name": "ipython",
    "version": 3
   },
   "file_extension": ".py",
   "mimetype": "text/x-python",
   "name": "python",
   "nbconvert_exporter": "python",
   "pygments_lexer": "ipython3",
   "version": "3.10.11"
  },
  "orig_nbformat": 4,
  "vscode": {
   "interpreter": {
    "hash": "2c241b0a2dbb25395996509cdcc402c15755508b0c1cfb1ecdb3734d0a06b466"
   }
  }
 },
 "nbformat": 4,
 "nbformat_minor": 2
}
