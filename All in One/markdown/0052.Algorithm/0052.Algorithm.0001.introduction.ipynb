{
 "cells": [
  {
   "attachments": {},
   "cell_type": "markdown",
   "metadata": {},
   "source": [
    "# 1.1 Notion of Algorithm\n"
   ]
  },
  {
   "attachments": {},
   "cell_type": "markdown",
   "metadata": {},
   "source": [
    "## 1.1.1 what is an algorithm\n",
    "\n",
    "* an algorithm is defined as finite sequence of unambiguous instruction followed to accomplish a given task.\n",
    "* it is also a difined as\n",
    "  * An algorithm is step-by-step procedure to solve a given problem in finite number of steps by accepting a set of inputs and producing the desired output.\n",
    "  \n",
    "## 1.1.2 what is an notion of algorithm.\n",
    "\n",
    "* Notion of algorithm shows how an algorithm is used to get the desired output.\n",
    "\n",
    "```py\n",
    "\n",
    "                                                  input\n",
    "                                                    |\n",
    "                                                    |\n",
    "                                                    |\n",
    "                                                    |\n",
    "                                                    v\n",
    "problem -----> ALgorithm ------> Program ------> computer ------> output\n",
    "\n",
    "```\n",
    "\n",
    "\n",
    "* The solution to a given problem is expressed in the form of an algorithm.\n",
    "* The algorithm is converted into a program.\n",
    "* The program when it is executed , accept the input and produced the desired output.\n",
    "\n",
    "## 1.1.3 what are the criteria that all algorithms must satisfy?  or what are the properties of an agorithm?\n",
    "\n",
    "* An algorithm must satisfy the following criteria:\n",
    "  * **Input :-**\n",
    "    * Each Algorithm should have zero or more inputs.\n",
    "    * The range of inputs for which algorithmworks should be satisfied.\n",
    "  * **Output :-**\n",
    "    * The algorithm should produce correct results. \n",
    "    * At least one output has to be produced.\n",
    "  * **Definiteness :-**\n",
    "    * Each Instruction should be clear and unambiguous. \n",
    "  * **Effectiveness :-**\n",
    "    * The Instructions should be simple and should transform the given input to the desired output.\n",
    "  * **Finiteness :-**\n",
    "    * The algorithm must terminate after a finite sequence of instruction."
   ]
  },
  {
   "attachments": {},
   "cell_type": "markdown",
   "metadata": {},
   "source": [
    "# Fundamentals Of Problem SOlving Using Algorithms\n"
   ]
  },
  {
   "attachments": {},
   "cell_type": "markdown",
   "metadata": {},
   "source": [
    "\n",
    "## Explain the various stages of algorithm design and analysis process with the help of a flow-chart ?\n",
    "> * Explain the various stages of algorithm design and analysis process with the help of a flow-chart ?\n",
    "> * or , Explain algorithm design and analysis process used in problem solving ?\n",
    "> * or , what are sequence of steps to be performed in designing and analysis of an algorithm ? "
   ]
  }
 ],
 "metadata": {
  "kernelspec": {
   "display_name": "Python 3.10.9 64-bit (microsoft store)",
   "language": "python",
   "name": "python3"
  },
  "language_info": {
   "codemirror_mode": {
    "name": "ipython",
    "version": 3
   },
   "file_extension": ".py",
   "mimetype": "text/x-python",
   "name": "python",
   "nbconvert_exporter": "python",
   "pygments_lexer": "ipython3",
   "version": "3.10.11 (tags/v3.10.11:7d4cc5a, Apr  5 2023, 00:38:17) [MSC v.1929 64 bit (AMD64)]"
  },
  "orig_nbformat": 4,
  "vscode": {
   "interpreter": {
    "hash": "2c241b0a2dbb25395996509cdcc402c15755508b0c1cfb1ecdb3734d0a06b466"
   }
  }
 },
 "nbformat": 4,
 "nbformat_minor": 2
}
