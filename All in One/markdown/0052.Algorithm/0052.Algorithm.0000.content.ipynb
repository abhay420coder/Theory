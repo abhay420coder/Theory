{
 "cells": [
  {
   "cell_type": "markdown",
   "metadata": {},
   "source": [
    "\n",
    "# Learn Algorithms\n",
    "\n",
    "* Searching Algorithm\n",
    "* Sorting Algorithm\n",
    "* Divide and Conquer Algorithm\n",
    "* Greedy Mehtodology\n",
    "* Recursion\n",
    "* Backtracking Algorithm\n",
    "* Dynamic Programming\n",
    "* Pattern Searching\n",
    "* Mathematical Algorithms\n",
    "* Geometric Algorithms\n",
    "* Bitwise Algorithms\n",
    "* Randomized Algorithms\n",
    "* Branch and Bound Algorithm\n"
   ]
  },
  {
   "cell_type": "markdown",
   "metadata": {},
   "source": [
    "\n",
    "# content  Algorithms in detail\n"
   ]
  },
  {
   "cell_type": "markdown",
   "metadata": {},
   "source": [
    "\n",
    "## Searching Algorithm\n"
   ]
  },
  {
   "cell_type": "markdown",
   "metadata": {},
   "source": [
    "\n",
    "### Algotrithms\n",
    "* Linear Search\n",
    "* Sentinel Linear Search\n",
    "* Binary Search\n",
    "* Meta Binary Search | One-Sided Binary Search\n",
    "* Ternary Search\n",
    "* Jump Search\n",
    "* Interpolation Search\n",
    "* Exponential Search\n",
    "* Fibonacci Search\n",
    "* The Ubiquitous Binary Search\n"
   ]
  },
  {
   "cell_type": "markdown",
   "metadata": {},
   "source": [
    "\n",
    "### Problems\n",
    "\n",
    "* Some standard problems on Searching:\n"
   ]
  },
  {
   "cell_type": "markdown",
   "metadata": {},
   "source": [
    "\n",
    "#### Easy:\n",
    "\n",
    "* Find the largest three elements in an array\n",
    "* Find the Missing Number\n",
    "* Find the first repeating element in an array of integers\n",
    "* Find the missing and repeating number\n",
    "* Search, insert and delete in a sorted array\n",
    "* Count 1’s in a sorted binary array\n",
    "* Two elements whose sum is closest to zero\n",
    "* Find a pair with the given difference\n",
    "* k largest(or smallest) elements in an array\n",
    "* Kth smallest element in a row-wise and column-wise sorted 2D array\n",
    "* Find common elements in three sorted arrays\n",
    "* Ceiling in a sorted array\n",
    "* Floor in a Sorted Array\n",
    "* Find the maximum element in an array which is first increasing and then decreasing\n",
    "* Given an array of of size n and a number k, find all elements that appear more than n/k times\n",
    "    \n"
   ]
  },
  {
   "cell_type": "markdown",
   "metadata": {},
   "source": [
    "#### Medium:\n",
    "\n",
    "* Find all triplets with zero sum\n",
    "* Find the element before which all the elements are smaller than it, and after which all are greater\n",
    "* Find the largest pair sum in an unsorted array\n",
    "* K’th Smallest/Largest Element in Unsorted Array\n",
    "* Search an element in a sorted and rotated array\n",
    "* Find the minimum element in a sorted and rotated array\n",
    "* Find a peak element\n",
    "* Maximum and minimum of an array using minimum number of comparisons\n",
    "* Find a Fixed Point in a given array\n",
    "* Find the k most frequent words from a file\n",
    "* Find k closest elements to a given value\n",
    "* Given a sorted array and a number x, find the pair in array whose sum is closest to x\n",
    "* Find the closest pair from two sorted arrays\n",
    "* Find three closest elements from given three sorted arrays\n",
    "* Binary Search for Rational Numbers without using floating point arithmetic\n"
   ]
  },
  {
   "cell_type": "markdown",
   "metadata": {},
   "source": [
    "\n",
    "#### Hard:\n",
    "\n",
    "* Median of two sorted arrays\n",
    "* Median of two sorted arrays of different sizes\n",
    "* Search in an almost sorted array\n",
    "* Find position of an element in a sorted array of infinite numbers\n",
    "* Given a sorted and rotated array, find if there is a pair with a given sum\n",
    "* K’th Smallest/Largest Element in Unsorted Array | Worst case Linear Time\n",
    "* K’th largest element in a stream\n",
    "* Best First Search (Informed Search)\n"
   ]
  },
  {
   "cell_type": "markdown",
   "metadata": {},
   "source": [
    "\n",
    "## Sorting Algorithm\n"
   ]
  },
  {
   "cell_type": "markdown",
   "metadata": {},
   "source": [
    "\n",
    "### Algorithm\n",
    "    \n",
    "* Selection Sort\n",
    "* Bubble Sort\n",
    "* Insertion Sort\n",
    "* Merge Sort\n",
    "* Quick Sort\n",
    "* Heap Sort\n",
    "* Counting Sort\n",
    "* Radix Sort\n",
    "* Bucket Sort\n",
    "* Bingo Sort Algorithm\n",
    "* ShellSort\n",
    "* TimSort\n",
    "* Comb Sort\n",
    "* Pigeonhole Sort\n",
    "* Cycle Sort\n",
    "* Cocktail Sort\n",
    "* Strand Sort\n",
    "* Bitonic Sort\n",
    "* Pancake sorting\n",
    "* BogoSort or Permutation Sort\n",
    "* Gnome Sort\n",
    "* Sleep Sort – The King of Laziness\n",
    "* Structure Sorting in C++\n",
    "* Stooge Sort\n",
    "* Tag Sort (To get both sorted and original)\n",
    "* Tree Sort\n",
    "* Odd-Even Sort / Brick Sort\n",
    "* 3-way Merge Sort\n"
   ]
  },
  {
   "cell_type": "markdown",
   "metadata": {},
   "source": [
    "\n",
    "### Problems\n",
    "    \n"
   ]
  },
  {
   "cell_type": "markdown",
   "metadata": {},
   "source": [
    "#### Easy:\n",
    "* Sort elements by frequency\n",
    "* Sort an array of 0s, 1s and 2s\n",
    "* Sort numbers stored on different machines\n",
    "* Sort an array in wave form\n",
    "* Check if any two intervals overlap among a given set of intervals\n",
    "* How to sort an array of dates in C/C++?\n",
    "* Sorting Strings using Bubble Sort\n",
    "* Find missing elements of a range\n",
    "* Sort an array according to count of set bits\n",
    "* Sort even-placed elements in increasing and odd-placed in decreasing order\n",
    "* Sort an array when two halves are sorted\n",
    "* Sorting Big Integers\n",
    "* Sort a linked list of 0s, 1s and 2s\n"
   ]
  },
  {
   "cell_type": "markdown",
   "metadata": {},
   "source": [
    "\n",
    "#### Medium:\n",
    "\n",
    "* Inversion count in Array using Merge Sort\n",
    "* Find the Minimum length Unsorted Subarray, sorting which makes the complete array sorted\n",
    "* Sort a nearly sorted (or K sorted) array\n",
    "* Sort n numbers in range from 0 to n^2 – 1 in linear time\n",
    "* Sort an array according to the order defined by another array\n",
    "* Find the point where maximum intervals overlap\n",
    "* Find missing elements of a range\n",
    "* Find a permutation that causes worst case of Merge Sort\n",
    "* Sort Vector of Pairs in ascending order in C++\n",
    "* Minimum swaps to make two arrays identical\n",
    "* Chocolate Distribution Problem\n",
    "* Permute two arrays such that sum of every pair is greater or equal to K\n",
    "* Bucket Sort To Sort an Array with Negative Numbers\n",
    "* Sort a Matrix in all way increasing order\n",
    "* Convert an Array to reduced form using Vector of pairs\n",
    "* Smallest Difference Triplet from Three arrays\n",
    "* Check if it is possible to sort an array with conditional swapping of adjacent allowed\n"
   ]
  },
  {
   "cell_type": "markdown",
   "metadata": {},
   "source": [
    "\n",
    "#### Hard:\n",
    "\n",
    "* Find Surpasser Count of each element in array\n",
    "* Count distinct occurrences as a subsequence\n",
    "* Count minimum number of subsets (or subsequences) with consecutive numbers\n",
    "* Chose k array elements such that difference of maximum and minimum is minimized\n",
    "* Minimum swap required to convert binary tree to binary search tree\n",
    "* K-th smallest element after removing some integers from natural numbers\n",
    "* Maximum difference between frequency of two elements such that element having greater frequency is also greater\n",
    "* Minimum swaps to reach permuted array with at most 2 positions left swaps allowed\n",
    "* Find whether it is possible to make array elements same using one external number\n",
    "* Sort an array after applying the given equation\n",
    "* Print array of strings in sorted order without copying one string into another.\n"
   ]
  },
  {
   "cell_type": "markdown",
   "metadata": {},
   "source": [
    "\n",
    "## Divide and Conquer Algorithm\n",
    "\n",
    "### Algorithms\n",
    "\n",
    "* Quicksort \n",
    "* Merge Sort\n",
    "* Closest Pair of Points \n",
    "* Strassen’s Algorithm \n",
    "* Karatsuba algorithm for fast multiplication. \n",
    "\n",
    "### Problems\n"
   ]
  },
  {
   "cell_type": "markdown",
   "metadata": {},
   "source": [
    "\n",
    "### Algorithms\n",
    "\n",
    "* Quicksort \n",
    "* Merge Sort\n",
    "* Closest Pair of Points \n",
    "* Strassen’s Algorithm \n",
    "* Karatsuba algorithm for fast multiplication. \n",
    "\n",
    "### Problems\n"
   ]
  },
  {
   "cell_type": "markdown",
   "metadata": {},
   "source": [
    "\n",
    "\n",
    "## Greedy Mehtodology\n",
    "## Recursion\n",
    "## Backtracking Algorithm\n",
    "## Dynamic Programming\n",
    "## Pattern Searching\n",
    "## Mathematical Algorithms\n",
    "## Geometric Algorithms\n",
    "## Bitwise Algorithms\n",
    "## Randomized Algorithms\n",
    "## Branch and Bound Algorithm\n",
    "  "
   ]
  }
 ],
 "metadata": {
  "kernelspec": {
   "display_name": "Python 3.10.9 64-bit (microsoft store)",
   "language": "python",
   "name": "python3"
  },
  "language_info": {
   "codemirror_mode": {
    "name": "ipython",
    "version": 3
   },
   "file_extension": ".py",
   "mimetype": "text/x-python",
   "name": "python",
   "nbconvert_exporter": "python",
   "pygments_lexer": "ipython3",
   "version": "3.10.9"
  },
  "orig_nbformat": 4,
  "vscode": {
   "interpreter": {
    "hash": "2c241b0a2dbb25395996509cdcc402c15755508b0c1cfb1ecdb3734d0a06b466"
   }
  }
 },
 "nbformat": 4,
 "nbformat_minor": 2
}
