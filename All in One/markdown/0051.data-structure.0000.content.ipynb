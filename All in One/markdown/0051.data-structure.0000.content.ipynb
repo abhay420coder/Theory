{
 "cells": [
  {
   "cell_type": "markdown",
   "metadata": {},
   "source": [
    "# Learn Data Structure :- content\n",
    "\n",
    "* Array\n",
    "* String\n",
    "* Linked List\n",
    "* Matrix/Grid\n",
    "* Stack\n",
    "* Queue\n",
    "* Heap\n",
    "* Hash\n",
    "* Tree Data Structures\n",
    "* Binary Tree\n",
    "* Binary Search Tree\n",
    "* Other Tree Data Structures\n",
    "* Graph Data Structure\n"
   ]
  }
 ],
 "metadata": {
  "kernelspec": {
   "display_name": "Python 3.10.9 64-bit (microsoft store)",
   "language": "python",
   "name": "python3"
  },
  "language_info": {
   "name": "python",
   "version": "3.10.9"
  },
  "orig_nbformat": 4,
  "vscode": {
   "interpreter": {
    "hash": "2c241b0a2dbb25395996509cdcc402c15755508b0c1cfb1ecdb3734d0a06b466"
   }
  }
 },
 "nbformat": 4,
 "nbformat_minor": 2
}
