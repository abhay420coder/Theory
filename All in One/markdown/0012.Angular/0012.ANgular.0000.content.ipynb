{
 "cells": [
  {
   "attachments": {},
   "cell_type": "markdown",
   "metadata": {},
   "source": [
    "1. Introduction\n",
    "     * Introduction\n",
    "     * Version & Release History\n",
    "     * Upgrade to Angular 10\n",
    "     * Install Angular CLI\n",
    "     * Install Bootstrap in Angular Apps\n",
    "     * Install Angular Material in Angular App\n",
    "     * Folder Structure of Angular Apps\n",
    "     * Boot Process of Angular Apps\n",
    "     * Package.Json and Package-lock.json\n",
    "     * Angular CLI Tutorial\n",
    "     * App Architecture\n",
    "     \n"
   ]
  },
  {
   "cell_type": "code",
   "execution_count": null,
   "metadata": {},
   "outputs": [],
   "source": []
  },
  {
   "cell_type": "markdown",
   "metadata": {},
   "source": [
    "2. Component\n",
    "   * Modules\n",
    "   * Components\n",
    "   * Component Lifecycle Hooks\n",
    "   * Component Communication\n",
    "   * Templates in Angular Component"
   ]
  },
  {
   "attachments": {},
   "cell_type": "markdown",
   "metadata": {},
   "source": [
    "3. Directives\n",
    "   * Directives in Angular\n",
    "   * Structural Directives in Angular\n",
    "   * ngIf in Angular\n",
    "   * ngFor in Angular\n",
    "   * ngSwitch in Angular\n",
    "   * ngStyle in Angular\n",
    "   * ngClass in Angular"
   ]
  },
  {
   "cell_type": "code",
   "execution_count": null,
   "metadata": {},
   "outputs": [],
   "source": []
  }
 ],
 "metadata": {
  "kernelspec": {
   "display_name": "Python 3",
   "language": "python",
   "name": "python3"
  },
  "language_info": {
   "name": "python",
   "version": "3.10.9 (tags/v3.10.9:1dd9be6, Dec  6 2022, 20:01:21) [MSC v.1934 64 bit (AMD64)]"
  },
  "orig_nbformat": 4,
  "vscode": {
   "interpreter": {
    "hash": "2c241b0a2dbb25395996509cdcc402c15755508b0c1cfb1ecdb3734d0a06b466"
   }
  }
 },
 "nbformat": 4,
 "nbformat_minor": 2
}
