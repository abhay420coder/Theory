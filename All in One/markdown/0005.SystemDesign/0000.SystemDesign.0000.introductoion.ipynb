{
 "cells": [
  {
   "attachments": {},
   "cell_type": "markdown",
   "metadata": {
    "tags": [
     "parameters"
    ]
   },
   "source": [
    "* Creational Patterns  \n",
    "  * Abstract Factory  \n",
    "  * Builder  \n",
    "  * Factory Method \n",
    "  * Prototype \n",
    "  * Singleton\n"
   ]
  },
  {
   "cell_type": "markdown",
   "metadata": {},
   "source": [
    "\n",
    "* Structural Patterns \n",
    "  * Adapter \n",
    "  * Bridge \n",
    "  * Composite \n",
    "  * Decorator \n",
    "  * Façade \n",
    "  * Flyweight \n",
    "  * Proxy  \n"
   ]
  },
  {
   "cell_type": "markdown",
   "metadata": {},
   "source": [
    "\n",
    "\n",
    "* Behavioral Patterns \n",
    "  * Chain of Responsibility \n",
    "  * Command  \n",
    "  * Interpreter \n",
    "  * Iterator  \n",
    "  * Mediator  \n",
    "  * Memento  \n",
    "  * Observer  \n",
    "  * State 38 \n",
    "  * Strategy  \n",
    "  * Template Method  \n",
    "  * Visitor "
   ]
  },
  {
   "attachments": {},
   "cell_type": "markdown",
   "metadata": {},
   "source": [
    "* This book has two main parts. \n",
    "  * The first part (Chapters 1 and 2) describes what design patterns are and how they help you design object-oriented software. \n",
    "    * It includes a design case study that demonstrates how design patterns apply in practice. \n",
    "  * The second part of the book (Chapters 3, 4, and 5) is a catalog of the actual design patterns."
   ]
  },
  {
   "cell_type": "markdown",
   "metadata": {},
   "source": []
  },
  {
   "cell_type": "code",
   "execution_count": null,
   "metadata": {},
   "outputs": [],
   "source": []
  }
 ],
 "metadata": {
  "kernelspec": {
   "display_name": "Python 3 (ipykernel)",
   "language": "python",
   "name": "python3"
  },
  "language_info": {
   "codemirror_mode": {
    "name": "ipython",
    "version": 3
   },
   "file_extension": ".py",
   "mimetype": "text/x-python",
   "name": "python",
   "nbconvert_exporter": "python",
   "pygments_lexer": "ipython3",
   "version": "3.10.11"
  },
  "vscode": {
   "interpreter": {
    "hash": "2c241b0a2dbb25395996509cdcc402c15755508b0c1cfb1ecdb3734d0a06b466"
   }
  }
 },
 "nbformat": 4,
 "nbformat_minor": 2
}
