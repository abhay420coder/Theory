{
 "cells": [
  {
   "cell_type": "markdown",
   "metadata": {},
   "source": [
    "# work from home bussineess\n",
    "\n",
    "* youtube\n",
    "* app development - freelancer\n",
    "* trading & investing\n",
    "* blog writing\n",
    "* dropshipping \n",
    "* Affiliate marketing\n",
    "* email marketing\n",
    "* "
   ]
  },
  {
   "cell_type": "markdown",
   "metadata": {},
   "source": [
    "## youtube\n",
    "### steps :- \n",
    "* select niche\n",
    "* creating a your youtube channel\n",
    "* building your account\n",
    "* account optimization\n",
    "* topic research\n",
    "* equipment\n",
    "* content creation and calendaring\n",
    "* knowledge input tools\n",
    "* consistency and relevancy\n",
    "  \n"
   ]
  },
  {
   "cell_type": "markdown",
   "metadata": {},
   "source": [
    "### search topic :- this is for video :- main key\n",
    "\n",
    "* types of content\n",
    "  * trending content\n",
    "  * forever content\n",
    "* trending content\n",
    "  * choose most demandable topic\n",
    "    * vidiq :- search by the topic name  :-  it will shows you competition : search by the topic name\n",
    "    * zoopbuddy\n",
    "    * googleTrends\n",
    "    * social searcher.com :- write your topic \n",
    "    * answerThePublic.com : here you can know which is demanded topic\n",
    "    * chatgpt\n",
    "\n",
    "* forever content\n"
   ]
  },
  {
   "cell_type": "markdown",
   "metadata": {},
   "source": [
    "### how to find your niche ?\n",
    "\n",
    "interset => | resources => | trend (high to low) => | competition (low to high)\n",
    "----------- | ------------ | -------- | -----------\n",
    "Technology| food | food | fashion & beauty \n",
    "food   |   educational  | educational  | educational\n",
    "gaming  |  fashion & beauty   |  fashion & beauty   | food\n",
    "educational   |  health  |  review\n",
    "fashion & beauty   |  creative  \n",
    "health  |  review\n",
    "creative\n",
    "photography\n",
    "\n"
   ]
  },
  {
   "cell_type": "markdown",
   "metadata": {},
   "source": [
    "### content for topic :- this is for video :- main key\n",
    "\n",
    "* write good content\n",
    "  * website\n",
    "    * chatgpt :- may you write me  a short/long video script in english based onm the title \"topiuc name\"\n",
    "  * software\n",
    "    * blink : android app\n"
   ]
  },
  {
   "cell_type": "markdown",
   "metadata": {},
   "source": [
    "### captions or teleprompter\n",
    "* website\n",
    "  * chatgpt :- may you write me  a short/long video script in english based onm the title \"topiuc name\"\n",
    "* software\n",
    "  * blink : android app"
   ]
  },
  {
   "cell_type": "markdown",
   "metadata": {},
   "source": [
    "\n",
    "### description : - this for youtube video decription\n",
    "* write good description\n",
    "  * chatgpt :- may you write me  a short/long video script in english based onm the title \"topiuc name\"\n",
    "* tags :- related to topic\n",
    "  * rapidTags :- paste your topic here and find tags\n",
    "* description\n",
    "### Thumbnail :- simple & attractive\n",
    "### youtube seo\n",
    "### video editing\n",
    "* free copyright images \n",
    "* free copyright short video\n",
    "  * mazwai.com\n",
    "  * coverr.co\n",
    "  * pexels.com\n",
    "  * pixaway.com\n",
    "  * coverr\n",
    "  * storyblocks\n",
    "  * notes :- \n",
    "    * atribute requireds  :- Add in credentials\n",
    "    * No atribute requireds  :- no need to Add in credentials\n",
    "* free copyright short audio\n",
    "* software :- \n",
    "  * opeshot\n",
    "* web software :-0 \n",
    "  * inVideo.io :- write script here carete your videos your video\n",
    "\n",
    "### audio editing\n",
    "* software\n",
    "  * audiocity\\\n",
    "  * adobe podcast"
   ]
  },
  {
   "cell_type": "markdown",
   "metadata": {},
   "source": [
    "## trading\n",
    "* fundamental analysis"
   ]
  },
  {
   "cell_type": "markdown",
   "metadata": {},
   "source": [
    "# work from outside bussiness\n",
    "* food cart\n",
    "* cloth cart\n",
    "* zomato delivery partner\n",
    "* swiggy delivery partner"
   ]
  }
 ],
 "metadata": {
  "language_info": {
   "name": "python"
  },
  "orig_nbformat": 4
 },
 "nbformat": 4,
 "nbformat_minor": 2
}
