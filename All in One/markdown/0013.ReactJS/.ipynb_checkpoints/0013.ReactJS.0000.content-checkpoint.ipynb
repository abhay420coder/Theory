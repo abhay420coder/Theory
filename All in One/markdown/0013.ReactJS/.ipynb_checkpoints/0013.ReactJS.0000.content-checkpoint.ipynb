{
 "cells": [
  {
   "cell_type": "markdown",
   "metadata": {},
   "source": [
    "1. JavaScript Refresher\n",
    "2. Introduction to React\n",
    "3. Setting Up\n",
    "4. Components\n",
    "5. Props\n",
    "6. Map List Keys\n",
    "7. Class Component\n",
    "8. States\n",
    "9. Conditional Rendering\n",
    "10. React Project Folder Structure\n",
    "11. Events\n",
    "12. Forms\n",
    "13. Controlled versus Uncontrolled Input\n",
    "14. Component Life Cycles\n",
    "15. Third Party Packages\n",
    "16. Higher order Component\n",
    "17. React Router\n",
    "18. Fetch and Axios\n",
    "19. Projects\n",
    "20. Projects\n",
    "21. Introducting Hooks\n",
    "22. Form Using Hooks\n",
    "23. Fetching Data Using Hooks\n",
    "24. Projects\n",
    "25. Custom Hooks\n",
    "26. Context\n",
    "27. Ref\n",
    "28. Project\n",
    "29. Explore\n",
    "30. Conclusion\n"
   ]
  },
  {
   "cell_type": "code",
   "execution_count": null,
   "metadata": {},
   "outputs": [],
   "source": []
  }
 ],
 "metadata": {
  "kernelspec": {
   "display_name": "Python 3 (ipykernel)",
   "language": "python",
   "name": "python3"
  },
  "language_info": {
   "codemirror_mode": {
    "name": "ipython",
    "version": 3
   },
   "file_extension": ".py",
   "mimetype": "text/x-python",
   "name": "python",
   "nbconvert_exporter": "python",
   "pygments_lexer": "ipython3",
   "version": "3.10.9"
  },
  "vscode": {
   "interpreter": {
    "hash": "2c241b0a2dbb25395996509cdcc402c15755508b0c1cfb1ecdb3734d0a06b466"
   }
  }
 },
 "nbformat": 4,
 "nbformat_minor": 2
}
