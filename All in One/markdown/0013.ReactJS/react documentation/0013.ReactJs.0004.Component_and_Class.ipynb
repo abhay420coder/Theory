{
 "cells": [
  {
   "cell_type": "markdown",
   "metadata": {},
   "source": [
    "# React Components\n",
    "\n",
    "* Components are independent and reusable bits of code. \n",
    "* They serve the same purpose as JavaScript functions, but work in isolation and return HTML.\n",
    "\n",
    "* There are two types of component, \n",
    "  * Class components and \n",
    "  * Function components. \n",
    "\n",
    "> * In older React code bases, you may find Class components primarily used. \n",
    "> * It is now suggested to use Function components along with Hooks, which were added in React 16.8. \n",
    "> * There is an optional section on Class components for your reference."
   ]
  },
  {
   "cell_type": "markdown",
   "metadata": {},
   "source": [
    "## Create a Class component called Car\n",
    "* A class component must include the extends React.Component statement. \n",
    "* This statement creates an inheritance to React.Component, \n",
    "  * and gives your component access to React.Component's functions.\n",
    "* The component also requires a render() method, this method returns HTML.\n",
    "\n",
    "```js \n",
    "class Car extends React.Component {\n",
    "  render() {\n",
    "    return <h2>Hi, I am a Car!</h2>;\n",
    "  }\n",
    "}\n",
    "```\n",
    "\n",
    "## Create a Function component called Car\n",
    "\n",
    "* A Function component also returns HTML, \n",
    "  * and behaves much the same way as a Class component, \n",
    "  * but Function components can be written using much less code, \n",
    "  * are easier to understand, \n",
    "  * and will be preferred\n",
    "\n",
    "```js \n",
    "function Car() {\n",
    "  return <h2>Hi, I am a Car!</h2>;\n",
    "}\n",
    "```"
   ]
  },
  {
   "cell_type": "markdown",
   "metadata": {},
   "source": [
    "\n",
    "Functional Component | Class Component\n",
    "---------|----------\n",
    "JavaScript Functions | Class extending Component class \n",
    "-------------------- | Render method returning HTML \n",
    "simple function | More Feature rich\n",
    "use func components as much as possible | maintain their own-private data - state\n",
    "Absence of 'this' keyword | complex UI logic\n",
    "solution without using state | provide lifecycle hooks\n",
    "mainly responsible for the UI | -------------------------\n",
    "stateless/Dumb/Persentational | stateful/smart/container"
   ]
  },
  {
   "cell_type": "code",
   "execution_count": null,
   "metadata": {},
   "outputs": [],
   "source": []
  }
 ],
 "metadata": {
  "language_info": {
   "name": "python"
  },
  "orig_nbformat": 4
 },
 "nbformat": 4,
 "nbformat_minor": 2
}
