{
 "cells": [
  {
   "cell_type": "markdown",
   "metadata": {},
   "source": [
    "# React JS Learning Path\n",
    "\n",
    "* **Fundamentals**\n",
    "  * Exploring React Offering and understand the basics\n",
    "* **Projects**\n",
    "  * contact management\n",
    "  * TodoList\n",
    "  * Twitter feeds\n",
    "  * counter\n",
    "* **Advanced Topics**\n",
    "  * Level Up with hooks\n",
    "  * API calls\n",
    "  * Portals\n",
    "  * Understand more advanced topics\n",
    "* **Projects**\n",
    "  * Pokemon App\n",
    "  * Movies App\n",
    "  * E-commerce Store\n",
    "  * Gitjub Jobs App\n",
    "* **Eco System**\n",
    "  * Exploring the ecosystem to support react library"
   ]
  },
  {
   "cell_type": "markdown",
   "metadata": {},
   "source": [
    "## React JS Fundamentals\n",
    "\n",
    "* **Create React App**\n",
    "* **Component**\n",
    "  * Function\n",
    "  * Class\n",
    "* **JSX**\n",
    "* **Props & State**\n",
    "  * Props\n",
    "  * State\n",
    "* **Basic hooks**\n",
    "  * useState\n",
    "  * useEffect\n",
    "* **Component Lifecycle methods**\n",
    "* **Conditional Rendering**\n",
    "* **List & Keys**\n",
    "* **Basic Form Handling**"
   ]
  },
  {
   "cell_type": "markdown",
   "metadata": {},
   "source": [
    "## React JS Advanced Topics\n",
    "* **Higher Order Components**\n",
    "* **Render Props**\n",
    "* **Error Boundaries**\n",
    "* **Portal & context**\n",
    "  * Portal\n",
    "  * Context\n",
    "* **API calls**\n",
    "  * Fetch\n",
    "  * Axios\n",
    "* **Refs**\n",
    "* **Hooks**\n",
    "  * userContext\n",
    "  * userReducer\n",
    "  * userRef\n",
    "  * userMemo\n",
    "  * userCallback\n",
    "  * Custom Hook"
   ]
  },
  {
   "cell_type": "markdown",
   "metadata": {},
   "source": [
    "## React JS Ecosystem\n",
    "* **Routing**\n",
    "  * React Router\n",
    "* **Forms**\n",
    "  * Formik\n",
    "  * Redux Form\n",
    "* **State Maangement**\n",
    "  * Component State\n",
    "  * Redux/Mobx\n",
    "  * Apollo client\n",
    "* **Testing**\n",
    "  * Jest\n",
    "  * React Testing Library\n",
    "* **Styling**\n",
    "  * Component Styled\n",
    "  * Material UI\n",
    "  * Chakra UI\n",
    "  * CSS Frameworks\n",
    "* **Good To Have**\n",
    "  * TypeScripts\n",
    "  * Storybook\n",
    "  * React i18Next\n",
    "* **Next Steps**\n",
    "  * Gatsby\n",
    "  * Next.js\n",
    "  * React Native"
   ]
  },
  {
   "cell_type": "code",
   "execution_count": null,
   "metadata": {},
   "outputs": [],
   "source": []
  }
 ],
 "metadata": {
  "language_info": {
   "name": "python"
  },
  "orig_nbformat": 4
 },
 "nbformat": 4,
 "nbformat_minor": 2
}
