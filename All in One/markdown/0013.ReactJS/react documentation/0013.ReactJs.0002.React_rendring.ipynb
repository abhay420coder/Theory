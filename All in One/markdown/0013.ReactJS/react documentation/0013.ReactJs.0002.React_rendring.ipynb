{
 "cells": [
  {
   "cell_type": "markdown",
   "metadata": {},
   "source": [
    "# React Render HTML\n",
    "* React's goal is in many ways to render HTML in a web page.\n",
    "* React renders HTML to the web page by using a function called `createRoot()` and its method `render()`.\n",
    "\n",
    "## The createRoot Function\n",
    "* The `createRoot()` function takes one argument, an HTML element.\n",
    "* The purpose of the function is to define the HTML element where a React component should be displayed.\n",
    "\n",
    "## The render Method\n",
    "* The `render()` method is then called to define the React component that should be rendered.\n",
    "\n",
    "\n",
    "```js\n",
    "const myelement = (\n",
    "  <table>\n",
    "    <tr>\n",
    "      <th>Name</th>\n",
    "    </tr>\n",
    "    <tr>\n",
    "      <td>John</td>\n",
    "    </tr>\n",
    "    <tr>\n",
    "      <td>Elsa</td>\n",
    "    </tr>\n",
    "  </table>\n",
    ");\n",
    "\n",
    "const container = document.getElementById('root');\n",
    "const root = ReactDOM.createRoot(container);\n",
    "root.render(myelement);\n",
    "```"
   ]
  },
  {
   "cell_type": "markdown",
   "metadata": {},
   "source": [
    "# React Boilerplate\n",
    "\n",
    "* Let's see the React boilerplate, which has been created by create-react-app. \n",
    "* Whenever you create a new project, you run create-react-app and name of the project.\n",
    "\n",
    "* In the following React boilerplate, there are three folders: \n",
    "  * node_modules, \n",
    "  * public and \n",
    "  * src. \n",
    "* In addition, there are \n",
    "  * .gitignore, \n",
    "  * README.md, \n",
    "  * package.json and \n",
    "  * yarn.lock. Some of you, instead of yarn.lock, you may have package-lock.json.\n",
    "\n",
    "> * It is good to know these folders and files.\n",
    ">   * node_modules - stores all the necessary node packages of the React applications.\n",
    ">   * Public\n",
    ">     * index.html - the only HTML file we have in the entire application\n",
    ">     * favicon.ico - an icon file\n",
    ">     * manifest.json - is used to make the application a progressive web app\n",
    ">     * other images - open graph images(open graph images are images which are visible when a link share on social media)\n",
    ">     * robots.txt - information, if the website allows web scraping\n",
    ">   * src\n",
    ">     * App.css, index.css - are different CSS files\n",
    ">     * index.js - a file which allows to connect all the components with index.html\n",
    ">     * App.js - A file where we usually import most of the presentational components\n",
    ">     * serviceWorker.js: is used to add progressive web app features\n",
    ">     * setupTests.js - to write testing cases\n",
    ">   * package.json- List of packages the applications uses\n",
    ">   * .gitignore - React boilerplate comes with git initiated, and the .gitingore allows files and folders not to be pushed to GitHub\n",
    ">   * README.md - Markdown file to write documentation\n",
    ">   * yarn.lock or package-lock.json - a means to lock the version of the package\n"
   ]
  },
  {
   "cell_type": "code",
   "execution_count": null,
   "metadata": {},
   "outputs": [],
   "source": []
  }
 ],
 "metadata": {
  "language_info": {
   "name": "python"
  },
  "orig_nbformat": 4
 },
 "nbformat": 4,
 "nbformat_minor": 2
}
