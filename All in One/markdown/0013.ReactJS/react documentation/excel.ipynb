{
 "cells": [
  {
   "cell_type": "code",
   "execution_count": null,
   "metadata": {},
   "outputs": [],
   "source": []
  },
  {
   "attachments": {},
   "cell_type": "markdown",
   "metadata": {},
   "source": [
    "# Cell referencing\n",
    "\n",
    "* There are two types of cell references: relative and absolute. \n",
    "* Relative and absolute references behave differently when copied and filled to other cells. \n",
    "* Relative references change when a formula is copied to another cell. \n",
    "* Absolute references, on the other hand, remain constant no matter where they are copied.\n",
    "\n"
   ]
  },
  {
   "attachments": {},
   "cell_type": "markdown",
   "metadata": {},
   "source": [
    "## Relative references\n",
    "* By default, \n",
    "  * all cell references are relative references. \n",
    "* When copied across multiple cells, \n",
    "  * they change based on the relative position of rows and columns."
   ]
  }
 ],
 "metadata": {
  "language_info": {
   "name": "python"
  },
  "orig_nbformat": 4
 },
 "nbformat": 4,
 "nbformat_minor": 2
}
