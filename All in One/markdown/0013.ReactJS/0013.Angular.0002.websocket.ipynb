{
 "cells": [
  {
   "attachments": {},
   "cell_type": "markdown",
   "metadata": {},
   "source": [
    "\n",
    "# Tutorials :- How to implement WebSockets in Angular Project\n"
   ]
  },
  {
   "cell_type": "markdown",
   "metadata": {},
   "source": [
    "\n",
    "##  How to implement WebSockets in Angular Project\n",
    "\n",
    "* In this tutorial we will learn how to implement a service to interact through WebSocket API.\n",
    "The WebSocket API is an advanced technology that allows communication between the client's browser and the server, both to send messages and to receive responses without the need to make a new request to the server to get the answer.\n"
   ]
  },
  {
   "cell_type": "markdown",
   "metadata": {},
   "source": [
    "\n",
    "##  WebSocket Flow\n",
    "\n",
    "* To make a WebSocket connection \n",
    "  * it is necessary to use the HTTP protocol upgrade mechanism, \n",
    "  * this allows us to move from an HTTP 1.1 connection to HTTP 2.0 (which allows using server push feature),\n",
    "  *  or as in this case to move from an HTTP 1.1 connection to a WebSocket connection.\n",
    "* The client makes the request using HTTP methods such as GET or POST, \n",
    "  * the server evaluates the request and \n",
    "  * if the response is positive the server returns a status code 101 \n",
    "    * with the headers \"Connection\" and \"Upgrade\". \n",
    "* After that, \n",
    "  * as the connection between client and server exists, \n",
    "  * it is possible to exchange messages and event-based responses \n",
    "  * until one of the two sides closes the connection.\n",
    "\n"
   ]
  },
  {
   "attachments": {},
   "cell_type": "markdown",
   "metadata": {},
   "source": [
    "\n",
    "## The following image describes the flow explained in previous paragraphs.\n",
    "\n",
    "![flow of web Socket](./image/0013.Angular.0002.websocket/flow_of_webSocket.png)"
   ]
  },
  {
   "attachments": {},
   "cell_type": "markdown",
   "metadata": {},
   "source": [
    "## WebSocket Server\n",
    "\n",
    "* It’s a TCP application that can be written in any server-side programming language. \n",
    "* Its function will be to manage connections, sending and receiving messages. \n",
    "* It’s recommended to separate these servers from other applications and use a reverse proxy.\n",
    "\n",
    "* You can use this \"Node + Express\" WebSocket Server for angular client implementation: https://github.com/davrv93/ws-server."
   ]
  },
  {
   "attachments": {},
   "cell_type": "markdown",
   "metadata": {},
   "source": [
    "## Implementation\n",
    "\n",
    "* We will create an angular project using the command ng new, \n",
    "  * in this case the name of the project will be socketrv, \n",
    "  * likewise we create websocket.service.ts inside a folder called services.\n",
    "\n",
    "![create_websocket_service_file](./image/0013.Angular.0002.websocket/create_websocket_service_file.png)"
   ]
  },
  {
   "attachments": {},
   "cell_type": "markdown",
   "metadata": {},
   "source": [
    "## WebSocketService\n",
    "\n",
    "* We will create a service called WebSocketService which will allow us to connect to the WebSocket server. \n",
    "* WebSocketService class has following overall structure: A list with bullet points:\n"
   ]
  },
  {
   "attachments": {},
   "cell_type": "markdown",
   "metadata": {},
   "source": [
    "\n",
    "##### Properties \n",
    "* a) subject: Is an instance of AnonymousSubject class with MessageEvent property. The AnonymousSubject class allows extending a Subject by defining the source and destination observables. \n",
    "* b) message: Is an instance of Subject class. Every Subject is an Observable and an Observer. We'll subscribe to this Subject, and we'll be able to call next to feed values as well as error and complete.\n"
   ]
  },
  {
   "cell_type": "markdown",
   "metadata": {},
   "source": [
    "\n",
    "##### Methods \n",
    "* a) connect: This method validates if subject property doesn’t exist and then calls create method for creating the subject. \n",
    "* b) create: This method creates the AnonymousSubject that will be used for subscriptions.\n"
   ]
  },
  {
   "cell_type": "markdown",
   "metadata": {},
   "source": [
    "\n",
    "##### Interfaces \n",
    "  * a) Message: It is a dict that defines the behavior of an object, but does not specify its content, the attributes will be source and content, both of type string.\n"
   ]
  },
  {
   "attachments": {},
   "cell_type": "markdown",
   "metadata": {},
   "source": [
    "### websocket  Constructor\n",
    "\n",
    "##### WebSocket()\n",
    "Returns a newly created WebSocket object.\n"
   ]
  },
  {
   "cell_type": "markdown",
   "metadata": {},
   "source": [
    "\n",
    "### websocket Instance properties\n",
    "##### WebSocket.binaryType\n",
    "The binary data type used by the connection.\n",
    "\n",
    "##### WebSocket.bufferedAmount Read only\n",
    "The number of bytes of queued data.\n",
    "\n",
    "##### WebSocket.extensions Read only\n",
    "The extensions selected by the server.\n",
    "\n",
    "##### WebSocket.protocol Read only\n",
    "The sub-protocol selected by the server.\n",
    "\n",
    "##### WebSocket.readyState Read only\n",
    "The current state of the connection.\n",
    "\n",
    "##### WebSocket.url Read only\n",
    "The absolute URL of the WebSocket.\n"
   ]
  },
  {
   "cell_type": "markdown",
   "metadata": {},
   "source": [
    "\n",
    "### websocket Instance properties :- \n",
    "##### onclose :-  \n",
    "* Fired when a connection with a WebSocket is closed. \n",
    "* Also available via the close event\n",
    "\n",
    "##### onerror :-  \n",
    "* Fired when a connection with a WebSocket has been closed because of an error, \n",
    "  * such as when some data couldn't be sent. \n",
    "* Also available via the error event.\n",
    "\n",
    "##### onmessage\n",
    "* Fired when data is received through a WebSocket. \n",
    "* Also available via the message event.\n",
    "\n",
    "##### onopen\n",
    "Fired when a connection with a WebSocket is opened. \n",
    "Also available via the open event.\n"
   ]
  },
  {
   "cell_type": "markdown",
   "metadata": {},
   "source": [
    "\n",
    "### websocket Instance methods\n",
    "##### WebSocket.close()\n",
    "Closes the connection.\n",
    "\n",
    "##### WebSocket.send()\n",
    "Enqueues data to be transmitted.\n"
   ]
  },
  {
   "cell_type": "markdown",
   "metadata": {},
   "source": [
    "\n",
    "### websocket Events\n",
    "* Listen to these events using addEventListener() or by assigning an event listener to the oneventname property of this interface.\n",
    "\n",
    "##### close\n",
    "* Fired when a connection with a WebSocket is closed. \n",
    "* Also available via the onclose property\n",
    "\n",
    "##### error\n",
    "* Fired when a connection with a WebSocket has been closed because of an error, \n",
    "  * such as when some data couldn't be sent. \n",
    "* Also available via the onerror property.\n",
    "\n",
    "##### message\n",
    "* Fired when data is received through a WebSocket. \n",
    "* Also available via the onmessage property.\n",
    "\n",
    "##### open\n",
    "* Fired when a connection with a WebSocket is opened. \n",
    "* Also available via the onopen property."
   ]
  },
  {
   "cell_type": "markdown",
   "metadata": {},
   "source": [
    "\n",
    "##### And the code for the same is given below:\n",
    "\n",
    "```ts\n",
    "// src\\app\\services\\websocket.service.ts\n",
    "import { Injectable } from \"@angular/core\";\n",
    "import { Observable, Observer } from 'rxjs';\n",
    "import { AnonymousSubject } from 'rxjs/internal/Subject';\n",
    "import { Subject } from 'rxjs';\n",
    "import { map } from 'rxjs/operators';\n",
    "\n",
    "const CHAT_URL = \"ws://localhost:5000\";\n",
    "\n",
    "export interface Message {\n",
    "    source: string;\n",
    "    content: string;\n",
    "}\n",
    "\n",
    "@Injectable()\n",
    "export class WebsocketService {\n",
    "    private subject: AnonymousSubject<MessageEvent>;\n",
    "    public messages: Subject<Message>;\n",
    "\n",
    "    constructor() {\n",
    "        this.messages = <Subject<Message>>this.connect(CHAT_URL).pipe(\n",
    "            map(\n",
    "                (response: MessageEvent): Message => {\n",
    "                    console.log(response.data);\n",
    "                    let data = JSON.parse(response.data)\n",
    "                    return data;\n",
    "                }\n",
    "            )\n",
    "        );\n",
    "    }\n",
    "\n",
    "    public connect(url): AnonymousSubject<MessageEvent> {\n",
    "        if (!this.subject) {\n",
    "            this.subject = this.create(url);\n",
    "            console.log(\"Successfully connected: \" + url);\n",
    "        }\n",
    "        return this.subject;\n",
    "    }\n",
    "\n",
    "    private create(url): AnonymousSubject<MessageEvent> {\n",
    "        let ws = new WebSocket(url);\n",
    "        let observable = new Observable((obs: Observer<MessageEvent>) => {\n",
    "            ws.onmessage = obs.next.bind(obs);\n",
    "            ws.onerror = obs.error.bind(obs);\n",
    "            ws.onclose = obs.complete.bind(obs);\n",
    "            return ws.close.bind(ws);\n",
    "        });\n",
    "        let observer = {\n",
    "            error: null,\n",
    "            complete: null,\n",
    "            next: (data: Object) => {\n",
    "                console.log('Message sent to websocket: ', data);\n",
    "                if (ws.readyState === WebSocket.OPEN) {\n",
    "                    ws.send(JSON.stringify(data));\n",
    "                }\n",
    "            }\n",
    "        };\n",
    "        return new AnonymousSubject<MessageEvent>(observer, observable);\n",
    "    }\n",
    "}\n",
    "```\n"
   ]
  },
  {
   "cell_type": "code",
   "execution_count": null,
   "metadata": {},
   "outputs": [],
   "source": []
  }
 ],
 "metadata": {
  "kernelspec": {
   "display_name": "JavaScript (Node.js)",
   "language": "javascript",
   "name": "javascript"
  },
  "language_info": {
   "name": "javascript"
  },
  "orig_nbformat": 4
 },
 "nbformat": 4,
 "nbformat_minor": 2
}
