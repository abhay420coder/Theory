{
 "cells": [
  {
   "cell_type": "markdown",
   "metadata": {},
   "source": [
    "# in JS fundamentals we will learn\n",
    "\n",
    "\n",
    "1. Hello, world!\n",
    "2. Code structure\n",
    "3. The modern mode, \"use strict\"\n",
    "4. Variables\n",
    "5. Data types\n",
    "6. Interaction: alert, prompt, confirm\n",
    "7. Type Conversions\n",
    "8. Basic operators, maths\n",
    "9. Comparisons\n",
    "10. Conditional branching: if, '?'\n",
    "11. Logical operators\n",
    "12. Nullish coalescing operator '??'\n",
    "13. Loops: while and for\n",
    "14. The \"switch\" statement\n",
    "15. Functions\n",
    "16. Function expressions\n",
    "17. Arrow functions, the basics\n",
    "18. JavaScript specials"
   ]
  }
 ],
 "metadata": {
  "language_info": {
   "name": "python"
  },
  "orig_nbformat": 4
 },
 "nbformat": 4,
 "nbformat_minor": 2
}
