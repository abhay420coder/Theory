{
 "cells": [
  {
   "cell_type": "markdown",
   "metadata": {},
   "source": [
    "# in JS fundamentals we will learn\n",
    "\n",
    "\n",
    "1. Hello, world!\n",
    "2. Code structure\n",
    "3. The modern mode, \"use strict\"\n",
    "4. Variables\n",
    "5. Data types\n",
    "6. Interaction: alert, prompt, confirm\n",
    "7. Type Conversions\n",
    "8. Basic operators, maths\n",
    "9. Comparisons\n",
    "10. Conditional branching: if, '?'\n",
    "11. Logical operators\n",
    "12. Nullish coalescing operator '??'\n",
    "13. Loops: while and for\n",
    "14. The \"switch\" statement\n",
    "15. Functions\n",
    "16. Function expressions\n",
    "17. Arrow functions, the basics\n",
    "18. JavaScript specials"
   ]
  }
 ],
 "metadata": {
  "kernelspec": {
   "display_name": "Python 3.10.9 64-bit (microsoft store)",
   "language": "python",
   "name": "python3"
  },
  "language_info": {
   "name": "python",
   "version": "3.10.9"
  },
  "orig_nbformat": 4,
  "vscode": {
   "interpreter": {
    "hash": "2c241b0a2dbb25395996509cdcc402c15755508b0c1cfb1ecdb3734d0a06b466"
   }
  }
 },
 "nbformat": 4,
 "nbformat_minor": 2
}
