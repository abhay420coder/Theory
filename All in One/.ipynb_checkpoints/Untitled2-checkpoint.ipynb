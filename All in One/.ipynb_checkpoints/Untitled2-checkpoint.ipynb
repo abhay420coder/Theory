{
 "cells": [
  {
   "cell_type": "code",
   "execution_count": 2,
   "id": "39f9b9a1",
   "metadata": {},
   "outputs": [
    {
     "name": "stdout",
     "output_type": "stream",
     "text": [
      "hello\n"
     ]
    }
   ],
   "source": [
    "print(\"hello\")"
   ]
  },
  {
   "cell_type": "code",
   "execution_count": 5,
   "id": "df32a046",
   "metadata": {},
   "outputs": [
    {
     "data": {
      "application/javascript": [
       "let res = \"\"\n",
       "for(let i = 0 ; i<7 ; i++) {\n",
       "    res = res+  i + \"\\n\"\n",
       "    element.text(res)\n",
       "}\n"
      ],
      "text/plain": [
       "<IPython.core.display.Javascript object>"
      ]
     },
     "metadata": {},
     "output_type": "display_data"
    }
   ],
   "source": [
    "%%js\n",
    "let res = \"\"\n",
    "for(let i = 0 ; i<7 ; i++) {\n",
    "    res = res+  i + \"\\n\"\n",
    "    element.text(res)\n",
    "}"
   ]
  },
  {
   "cell_type": "code",
   "execution_count": null,
   "id": "82c8187e",
   "metadata": {},
   "outputs": [],
   "source": []
  }
 ],
 "metadata": {
  "kernelspec": {
   "display_name": "Python 3 (ipykernel)",
   "language": "python",
   "name": "python3"
  },
  "language_info": {
   "codemirror_mode": {
    "name": "ipython",
    "version": 3
   },
   "file_extension": ".py",
   "mimetype": "text/x-python",
   "name": "python",
   "nbconvert_exporter": "python",
   "pygments_lexer": "ipython3",
   "version": "3.10.9"
  }
 },
 "nbformat": 4,
 "nbformat_minor": 5
}
